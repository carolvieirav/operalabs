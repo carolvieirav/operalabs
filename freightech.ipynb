{
  "cells": [
    {
      "cell_type": "markdown",
      "metadata": {
        "id": "view-in-github",
        "colab_type": "text"
      },
      "source": [
        "<a href=\"https://colab.research.google.com/github/carolvieirav/operalabs/blob/main/freightech.ipynb\" target=\"_parent\"><img src=\"https://colab.research.google.com/assets/colab-badge.svg\" alt=\"Open In Colab\"/></a>"
      ]
    },
    {
      "cell_type": "markdown",
      "metadata": {
        "id": "dHIh_iPvInW5"
      },
      "source": [
        "## Install & Import"
      ]
    },
    {
      "cell_type": "code",
      "execution_count": 1,
      "metadata": {
        "id": "gQY9QmOJH_6l",
        "colab": {
          "base_uri": "https://localhost:8080/"
        },
        "outputId": "1425a704-1725-4b26-db3d-68a5ce025954"
      },
      "outputs": [
        {
          "output_type": "stream",
          "name": "stdout",
          "text": [
            "Collecting selenium\n",
            "  Downloading selenium-4.1.0-py3-none-any.whl (958 kB)\n",
            "\u001b[K     |████████████████████████████████| 958 kB 5.1 MB/s \n",
            "\u001b[?25hCollecting urllib3[secure]~=1.26\n",
            "  Downloading urllib3-1.26.7-py2.py3-none-any.whl (138 kB)\n",
            "\u001b[K     |████████████████████████████████| 138 kB 62.9 MB/s \n",
            "\u001b[?25hCollecting trio-websocket~=0.9\n",
            "  Downloading trio_websocket-0.9.2-py3-none-any.whl (16 kB)\n",
            "Collecting trio~=0.17\n",
            "  Downloading trio-0.19.0-py3-none-any.whl (356 kB)\n",
            "\u001b[K     |████████████████████████████████| 356 kB 62.1 MB/s \n",
            "\u001b[?25hCollecting outcome\n",
            "  Downloading outcome-1.1.0-py2.py3-none-any.whl (9.7 kB)\n",
            "Requirement already satisfied: idna in /usr/local/lib/python3.7/dist-packages (from trio~=0.17->selenium) (2.10)\n",
            "Requirement already satisfied: attrs>=19.2.0 in /usr/local/lib/python3.7/dist-packages (from trio~=0.17->selenium) (21.2.0)\n",
            "Collecting sniffio\n",
            "  Downloading sniffio-1.2.0-py3-none-any.whl (10 kB)\n",
            "Collecting async-generator>=1.9\n",
            "  Downloading async_generator-1.10-py3-none-any.whl (18 kB)\n",
            "Requirement already satisfied: sortedcontainers in /usr/local/lib/python3.7/dist-packages (from trio~=0.17->selenium) (2.4.0)\n",
            "Collecting wsproto>=0.14\n",
            "  Downloading wsproto-1.0.0-py3-none-any.whl (24 kB)\n",
            "Requirement already satisfied: certifi in /usr/local/lib/python3.7/dist-packages (from urllib3[secure]~=1.26->selenium) (2021.10.8)\n",
            "Collecting pyOpenSSL>=0.14\n",
            "  Downloading pyOpenSSL-21.0.0-py2.py3-none-any.whl (55 kB)\n",
            "\u001b[K     |████████████████████████████████| 55 kB 3.4 MB/s \n",
            "\u001b[?25hCollecting cryptography>=1.3.4\n",
            "  Downloading cryptography-36.0.0-cp36-abi3-manylinux_2_24_x86_64.whl (3.6 MB)\n",
            "\u001b[K     |████████████████████████████████| 3.6 MB 35.3 MB/s \n",
            "\u001b[?25hRequirement already satisfied: cffi>=1.12 in /usr/local/lib/python3.7/dist-packages (from cryptography>=1.3.4->urllib3[secure]~=1.26->selenium) (1.15.0)\n",
            "Requirement already satisfied: pycparser in /usr/local/lib/python3.7/dist-packages (from cffi>=1.12->cryptography>=1.3.4->urllib3[secure]~=1.26->selenium) (2.21)\n",
            "Requirement already satisfied: six>=1.5.2 in /usr/local/lib/python3.7/dist-packages (from pyOpenSSL>=0.14->urllib3[secure]~=1.26->selenium) (1.15.0)\n",
            "Collecting h11<1,>=0.9.0\n",
            "  Downloading h11-0.12.0-py3-none-any.whl (54 kB)\n",
            "\u001b[K     |████████████████████████████████| 54 kB 3.3 MB/s \n",
            "\u001b[?25hInstalling collected packages: sniffio, outcome, h11, cryptography, async-generator, wsproto, urllib3, trio, pyOpenSSL, trio-websocket, selenium\n",
            "  Attempting uninstall: urllib3\n",
            "    Found existing installation: urllib3 1.24.3\n",
            "    Uninstalling urllib3-1.24.3:\n",
            "      Successfully uninstalled urllib3-1.24.3\n",
            "\u001b[31mERROR: pip's dependency resolver does not currently take into account all the packages that are installed. This behaviour is the source of the following dependency conflicts.\n",
            "requests 2.23.0 requires urllib3!=1.25.0,!=1.25.1,<1.26,>=1.21.1, but you have urllib3 1.26.7 which is incompatible.\n",
            "datascience 0.10.6 requires folium==0.2.1, but you have folium 0.8.3 which is incompatible.\u001b[0m\n",
            "Successfully installed async-generator-1.10 cryptography-36.0.0 h11-0.12.0 outcome-1.1.0 pyOpenSSL-21.0.0 selenium-4.1.0 sniffio-1.2.0 trio-0.19.0 trio-websocket-0.9.2 urllib3-1.26.7 wsproto-1.0.0\n"
          ]
        }
      ],
      "source": [
        "!pip install selenium"
      ]
    },
    {
      "cell_type": "code",
      "execution_count": 2,
      "metadata": {
        "id": "9Zqih-MBIQPc",
        "colab": {
          "base_uri": "https://localhost:8080/"
        },
        "outputId": "5b13498f-82f0-45cd-e878-fae7f0a99ef4"
      },
      "outputs": [
        {
          "output_type": "stream",
          "name": "stdout",
          "text": [
            "Reading package lists... Done\n",
            "Building dependency tree       \n",
            "Reading state information... Done\n",
            "The following additional packages will be installed:\n",
            "  chromium-browser chromium-browser-l10n chromium-codecs-ffmpeg-extra\n",
            "Suggested packages:\n",
            "  webaccounts-chromium-extension unity-chromium-extension\n",
            "The following NEW packages will be installed:\n",
            "  chromium-browser chromium-browser-l10n chromium-chromedriver\n",
            "  chromium-codecs-ffmpeg-extra\n",
            "0 upgraded, 4 newly installed, 0 to remove and 37 not upgraded.\n",
            "Need to get 94.0 MB of archives.\n",
            "After this operation, 324 MB of additional disk space will be used.\n",
            "Get:1 http://archive.ubuntu.com/ubuntu bionic-updates/universe amd64 chromium-codecs-ffmpeg-extra amd64 95.0.4638.69-0ubuntu0.18.04.1 [1,135 kB]\n",
            "Get:2 http://archive.ubuntu.com/ubuntu bionic-updates/universe amd64 chromium-browser amd64 95.0.4638.69-0ubuntu0.18.04.1 [83.6 MB]\n",
            "Get:3 http://archive.ubuntu.com/ubuntu bionic-updates/universe amd64 chromium-browser-l10n all 95.0.4638.69-0ubuntu0.18.04.1 [4,249 kB]\n",
            "Get:4 http://archive.ubuntu.com/ubuntu bionic-updates/universe amd64 chromium-chromedriver amd64 95.0.4638.69-0ubuntu0.18.04.1 [4,986 kB]\n",
            "Fetched 94.0 MB in 7s (13.7 MB/s)\n",
            "Selecting previously unselected package chromium-codecs-ffmpeg-extra.\n",
            "(Reading database ... 155222 files and directories currently installed.)\n",
            "Preparing to unpack .../chromium-codecs-ffmpeg-extra_95.0.4638.69-0ubuntu0.18.04.1_amd64.deb ...\n",
            "Unpacking chromium-codecs-ffmpeg-extra (95.0.4638.69-0ubuntu0.18.04.1) ...\n",
            "Selecting previously unselected package chromium-browser.\n",
            "Preparing to unpack .../chromium-browser_95.0.4638.69-0ubuntu0.18.04.1_amd64.deb ...\n",
            "Unpacking chromium-browser (95.0.4638.69-0ubuntu0.18.04.1) ...\n",
            "Selecting previously unselected package chromium-browser-l10n.\n",
            "Preparing to unpack .../chromium-browser-l10n_95.0.4638.69-0ubuntu0.18.04.1_all.deb ...\n",
            "Unpacking chromium-browser-l10n (95.0.4638.69-0ubuntu0.18.04.1) ...\n",
            "Selecting previously unselected package chromium-chromedriver.\n",
            "Preparing to unpack .../chromium-chromedriver_95.0.4638.69-0ubuntu0.18.04.1_amd64.deb ...\n",
            "Unpacking chromium-chromedriver (95.0.4638.69-0ubuntu0.18.04.1) ...\n",
            "Setting up chromium-codecs-ffmpeg-extra (95.0.4638.69-0ubuntu0.18.04.1) ...\n",
            "Setting up chromium-browser (95.0.4638.69-0ubuntu0.18.04.1) ...\n",
            "update-alternatives: using /usr/bin/chromium-browser to provide /usr/bin/x-www-browser (x-www-browser) in auto mode\n",
            "update-alternatives: using /usr/bin/chromium-browser to provide /usr/bin/gnome-www-browser (gnome-www-browser) in auto mode\n",
            "Setting up chromium-chromedriver (95.0.4638.69-0ubuntu0.18.04.1) ...\n",
            "Setting up chromium-browser-l10n (95.0.4638.69-0ubuntu0.18.04.1) ...\n",
            "Processing triggers for man-db (2.8.3-2ubuntu0.1) ...\n",
            "Processing triggers for hicolor-icon-theme (0.17-2) ...\n",
            "Processing triggers for mime-support (3.60ubuntu1) ...\n",
            "Processing triggers for libc-bin (2.27-3ubuntu1.3) ...\n",
            "/sbin/ldconfig.real: /usr/local/lib/python3.7/dist-packages/ideep4py/lib/libmkldnn.so.0 is not a symbolic link\n",
            "\n"
          ]
        }
      ],
      "source": [
        "!apt install chromium-chromedriver"
      ]
    },
    {
      "cell_type": "code",
      "execution_count": 3,
      "metadata": {
        "id": "vN8snPiTISpW"
      },
      "outputs": [],
      "source": [
        "from selenium import webdriver\n",
        "from selenium.webdriver.common.keys import Keys\n",
        "from selenium.webdriver.support import expected_conditions as EC\n",
        "from selenium.webdriver.support.ui import WebDriverWait\n",
        "from selenium.webdriver.common.by import By\n",
        "from selenium.webdriver import ActionChains\n",
        "from selenium.webdriver.common.action_chains import ActionChains\n",
        "from selenium.webdriver.support.ui import Select"
      ]
    },
    {
      "cell_type": "code",
      "source": [
        "import requests\n",
        "import numpy as np\n",
        "import pandas as pd\n",
        "from bs4 import BeautifulSoup\n",
        "import re"
      ],
      "metadata": {
        "id": "5u5Mv1zR3H0b",
        "outputId": "7eb9c474-8555-41a2-acaa-11cb83d5dd90",
        "colab": {
          "base_uri": "https://localhost:8080/"
        }
      },
      "execution_count": 4,
      "outputs": [
        {
          "output_type": "stream",
          "name": "stderr",
          "text": [
            "/usr/local/lib/python3.7/dist-packages/requests/__init__.py:91: RequestsDependencyWarning: urllib3 (1.26.7) or chardet (3.0.4) doesn't match a supported version!\n",
            "  RequestsDependencyWarning)\n"
          ]
        }
      ]
    },
    {
      "cell_type": "code",
      "execution_count": 5,
      "metadata": {
        "id": "kLaCpkLMIXxz"
      },
      "outputs": [],
      "source": [
        "options = webdriver.ChromeOptions()\n",
        "options.add_argument('--headless')\n",
        "options.add_argument('--no-sandbox')\n",
        "options.add_argument('--disable-dev-shm-usage')"
      ]
    },
    {
      "cell_type": "markdown",
      "source": [
        "## class bot"
      ],
      "metadata": {
        "id": "A1llsu0Dzv_e"
      }
    },
    {
      "cell_type": "code",
      "source": [
        "class Bot:\n",
        "  \n",
        "  def __init__(self,username,password):\n",
        "    self.username = username\n",
        "    self.password = password\n",
        "    self.bot = webdriver.Chrome('chromedriver',options=options)\n",
        "\n",
        "  def login(self):\n",
        "    \n",
        "    bot = self.bot\n",
        "    bot.get(\"https://freightech.ambev.com.br/#/login\")\n",
        "    bot.implicitly_wait(10) # seconds\n",
        "    email = bot.find_element_by_xpath(\"/html/body/app-root/ft-core-login/div/div/div/wac-input[1]/div/div/input\")\n",
        "    password = bot.find_element_by_xpath(\"/html/body/app-root/ft-core-login/div/div/div/wac-input[2]/div/div/input\")\n",
        "    email.clear()\n",
        "    password.clear()\n",
        "    email.send_keys(self.username)\n",
        "    password.send_keys(self.password)\n",
        "    bot.find_element_by_xpath(\"/html/body/app-root/ft-core-login/div/div/div/wac-button[1]/button\").click()\n",
        "    print(\"Logged in Successfuly\")"
      ],
      "metadata": {
        "id": "p62z6TcGzvCw"
      },
      "execution_count": null,
      "outputs": []
    },
    {
      "cell_type": "code",
      "source": [
        "automate = Bot(\"anne.pereira@operalog.com.br\", \"55026170\") \n",
        "automate.login()"
      ],
      "metadata": {
        "id": "lKydSkHf54VN",
        "colab": {
          "base_uri": "https://localhost:8080/"
        },
        "outputId": "2dbb0879-55ab-489e-bdfe-ce9214e5e321"
      },
      "execution_count": null,
      "outputs": [
        {
          "output_type": "stream",
          "name": "stderr",
          "text": [
            "/usr/local/lib/python3.7/dist-packages/ipykernel_launcher.py:12: DeprecationWarning: find_element_by_* commands are deprecated. Please use find_element() instead\n",
            "  if sys.path[0] == '':\n",
            "/usr/local/lib/python3.7/dist-packages/ipykernel_launcher.py:13: DeprecationWarning: find_element_by_* commands are deprecated. Please use find_element() instead\n",
            "  del sys.path[0]\n"
          ]
        },
        {
          "output_type": "stream",
          "name": "stdout",
          "text": [
            "Logged in Successfuly\n"
          ]
        },
        {
          "output_type": "stream",
          "name": "stderr",
          "text": [
            "/usr/local/lib/python3.7/dist-packages/ipykernel_launcher.py:18: DeprecationWarning: find_element_by_* commands are deprecated. Please use find_element() instead\n"
          ]
        }
      ]
    },
    {
      "cell_type": "markdown",
      "source": [
        "## dashboard"
      ],
      "metadata": {
        "id": "wsAB4XALDJ4I"
      }
    },
    {
      "cell_type": "code",
      "source": [
        "def meus_chamados(vigencia, chamadas_pen, chamadas_resol, chamadas_aber, pen_alcada):\n",
        "\n",
        "  ''' \n",
        "  Extract dashboard's data for pages \"distribuição\", \"apoio\" e \"T1\" and store \n",
        "  in a pandas dataframe.\n",
        "  '''\n",
        "\n",
        "  paths = [vigencia, chamadas_aber, chamadas_resol, chamadas_pen, pen_alcada]\n",
        "\n",
        "  data = []\n",
        "  for path in paths:\n",
        "    automate.bot.implicitly_wait(10) # seconds\n",
        "    elements = automate.bot.find_elements_by_xpath(path)\n",
        "    \n",
        "    for elem in elements:\n",
        "      automate.bot.implicitly_wait(10) # seconds\n",
        "      data.append(elem.text)\n",
        "  \n",
        "  # cleaning data with replace\n",
        "  data = [item.replace(\"\\n\", \" \") for item in data]\n",
        "  data[0] = data[0].replace('Vigência RESTAM ', '')\n",
        "  data[1] = data[1].replace('Chamados em aberto ','')\n",
        "  data[1] = data[1].replace(' Chamados', '')\n",
        "  data[2] = data[2].replace('Chamados resolvidos ','')\n",
        "  data[2] = data[2].replace(' Chamados', '')\n",
        "  data[3] = data[3].replace('Chamados pendentes ','')\n",
        "  data[3] = data[3].replace(' CHAMADOS', '')\n",
        "  data[3] = data[3].replace(' APROVAR', '')\n",
        "  data[4] = data[4].replace('Pendentes por alçada', '')\n",
        "  data[4] = data[4].replace(' CHAMADOS', '')\n",
        "\n",
        "  # transform data in pandas dataframe\n",
        "  data = [pd.Series(item) for item in data]\n",
        "  df = pd.DataFrame(data)\n",
        "  df = df.T\n",
        "  df = df.rename(columns={0:'Vigência', 1:\"Chamados em aberto\", 2:'Chamados resolvidos', 3:'Chamados pendentes', 4: 'Pendentes por alçada'}, inplace = False)\n",
        "  \n",
        "  return df"
      ],
      "metadata": {
        "id": "xD0qBVlYi8vv"
      },
      "execution_count": null,
      "outputs": []
    },
    {
      "cell_type": "code",
      "source": [
        "# *bug* tags de distribuição retornam apenas a primeira data\n",
        "\n",
        "vigencia_dist =  '/html/body/app-root/ft-home/div/main/div/ft-dashboard/div[1]/div[2]/div[1]/wac-box/div'\n",
        "chamadas_aber_dist = '/html/body/app-root/ft-home/div/main/div/ft-dashboard/div[1]/div[2]/div[2]/wac-box/div'\n",
        "chamadas_resol_dist = '/html/body/app-root/ft-home/div/main/div/ft-dashboard/div[1]/div[2]/div[3]/wac-box/div'\n",
        "chamadas_pen_dist = '/html/body/app-root/ft-home/div/main/div/ft-dashboard/div[1]/div[3]/div[1]/wac-box/div'\n",
        "pen_alcada_dist = '/html/body/app-root/ft-home/div/main/div/ft-dashboard/div[1]/div[3]/div[2]/wac-box/div'\n",
        "\n",
        "dist = meus_chamados(vigencia_dist, chamadas_pen_dist, chamadas_resol_dist, chamadas_aber_dist, pen_alcada_dist)\n",
        "dist"
      ],
      "metadata": {
        "colab": {
          "base_uri": "https://localhost:8080/",
          "height": 135
        },
        "id": "TitZfaND5l_T",
        "outputId": "2530ceb4-6832-4525-a1ee-b12225bbc661"
      },
      "execution_count": null,
      "outputs": [
        {
          "output_type": "stream",
          "name": "stderr",
          "text": [
            "/usr/local/lib/python3.7/dist-packages/ipykernel_launcher.py:13: DeprecationWarning: find_elements_by_* commands are deprecated. Please use find_elements() instead\n",
            "  del sys.path[0]\n"
          ]
        },
        {
          "output_type": "execute_result",
          "data": {
            "text/html": [
              "<div>\n",
              "<style scoped>\n",
              "    .dataframe tbody tr th:only-of-type {\n",
              "        vertical-align: middle;\n",
              "    }\n",
              "\n",
              "    .dataframe tbody tr th {\n",
              "        vertical-align: top;\n",
              "    }\n",
              "\n",
              "    .dataframe thead th {\n",
              "        text-align: right;\n",
              "    }\n",
              "</style>\n",
              "<table border=\"1\" class=\"dataframe\">\n",
              "  <thead>\n",
              "    <tr style=\"text-align: right;\">\n",
              "      <th></th>\n",
              "      <th>Vigência</th>\n",
              "      <th>Chamados em aberto</th>\n",
              "      <th>Chamados resolvidos</th>\n",
              "      <th>Chamados pendentes</th>\n",
              "      <th>Pendentes por alçada</th>\n",
              "    </tr>\n",
              "  </thead>\n",
              "  <tbody>\n",
              "    <tr>\n",
              "      <th>0</th>\n",
              "      <td>8 DIAS</td>\n",
              "      <td>0 CHAMADOS ROTA 0 AS 0</td>\n",
              "      <td>30 CHAMADOS ROTA 30 AS 0</td>\n",
              "      <td>ROTA 0 AS 0</td>\n",
              "      <td>GOD 0 CAMPO REGIONAL 0 AC PRODUTIVIDADE 0 AC ...</td>\n",
              "    </tr>\n",
              "  </tbody>\n",
              "</table>\n",
              "</div>"
            ],
            "text/plain": [
              "  Vigência  ...                               Pendentes por alçada\n",
              "0   8 DIAS  ...   GOD 0 CAMPO REGIONAL 0 AC PRODUTIVIDADE 0 AC ...\n",
              "\n",
              "[1 rows x 5 columns]"
            ]
          },
          "metadata": {},
          "execution_count": 9
        }
      ]
    },
    {
      "cell_type": "code",
      "source": [
        "# *bug* tags do apoio retornam dados da aba distibuição\n",
        "\n",
        "vigencia_apoio =  '/html/body/app-root/ft-home/div/main/div/ft-dashboard/div[1]/div[2]/div[1]/wac-box/div'\n",
        "chamadas_aber_apoio = '/html/body/app-root/ft-home/div/main/div/ft-dashboard/div[1]/div[2]/div[2]/wac-box/div'\n",
        "chamadas_resol_apoio = '/html/body/app-root/ft-home/div/main/div/ft-dashboard/div[1]/div[2]/div[3]/wac-box/div'\n",
        "chamadas_pen_apoio = '/html/body/app-root/ft-home/div/main/div/ft-dashboard/div[1]/div[3]/div[1]/wac-box/div'\n",
        "pen_alcada_apoio = '/html/body/app-root/ft-home/div/main/div/ft-dashboard/div[1]/div[3]/div[2]/wac-box/div'\n",
        "\n",
        "meus_chamados(vigencia_apoio, chamadas_pen_apoio, chamadas_resol_apoio, chamadas_aber_apoio, pen_alcada_apoio)"
      ],
      "metadata": {
        "colab": {
          "base_uri": "https://localhost:8080/",
          "height": 135
        },
        "id": "1GirXhaU0XqT",
        "outputId": "aa2c02e8-1813-4fff-ec56-97086bfc8dab"
      },
      "execution_count": null,
      "outputs": [
        {
          "output_type": "stream",
          "name": "stderr",
          "text": [
            "/usr/local/lib/python3.7/dist-packages/ipykernel_launcher.py:13: DeprecationWarning: find_elements_by_* commands are deprecated. Please use find_elements() instead\n",
            "  del sys.path[0]\n"
          ]
        },
        {
          "output_type": "execute_result",
          "data": {
            "text/html": [
              "<div>\n",
              "<style scoped>\n",
              "    .dataframe tbody tr th:only-of-type {\n",
              "        vertical-align: middle;\n",
              "    }\n",
              "\n",
              "    .dataframe tbody tr th {\n",
              "        vertical-align: top;\n",
              "    }\n",
              "\n",
              "    .dataframe thead th {\n",
              "        text-align: right;\n",
              "    }\n",
              "</style>\n",
              "<table border=\"1\" class=\"dataframe\">\n",
              "  <thead>\n",
              "    <tr style=\"text-align: right;\">\n",
              "      <th></th>\n",
              "      <th>Vigência</th>\n",
              "      <th>Chamados em aberto</th>\n",
              "      <th>Chamados resolvidos</th>\n",
              "      <th>Chamados pendentes</th>\n",
              "      <th>Pendentes por alçada</th>\n",
              "    </tr>\n",
              "  </thead>\n",
              "  <tbody>\n",
              "    <tr>\n",
              "      <th>0</th>\n",
              "      <td>8 DIAS</td>\n",
              "      <td>0 CHAMADOS ROTA 0 AS 0</td>\n",
              "      <td>30 CHAMADOS ROTA 30 AS 0</td>\n",
              "      <td>ROTA 0 AS 0</td>\n",
              "      <td>GOD 0 CAMPO REGIONAL 0 AC PRODUTIVIDADE 0 AC ...</td>\n",
              "    </tr>\n",
              "  </tbody>\n",
              "</table>\n",
              "</div>"
            ],
            "text/plain": [
              "  Vigência  ...                               Pendentes por alçada\n",
              "0   8 DIAS  ...   GOD 0 CAMPO REGIONAL 0 AC PRODUTIVIDADE 0 AC ...\n",
              "\n",
              "[1 rows x 5 columns]"
            ]
          },
          "metadata": {},
          "execution_count": 10
        }
      ]
    },
    {
      "cell_type": "code",
      "source": [
        "vigencia_t1 =  '/html/body/app-root/ft-home/div/main/div/ft-dashboard/div[1]/div[2]/div[1]/wac-box/div'\n",
        "chamadas_aber_t1 = '/html/body/app-root/ft-home/div/main/div/ft-dashboard/div[1]/div[2]/div[2]/wac-box/div'\n",
        "chamadas_resol_t1 = '/html/body/app-root/ft-home/div/main/div/ft-dashboard/div[1]/div[2]/div[3]/wac-box/div'\n",
        "chamadas_pen_t1 = '/html/body/app-root/ft-home/div/main/div/ft-dashboard/div[1]/div[3]/div[1]/wac-box/div'\n",
        "pen_alcada_t1 = '/html/body/app-root/ft-home/div/main/div/ft-dashboard/div[1]/div[3]/div[2]/wac-box/div'\n",
        "\n",
        "meus_chamados(vigencia_t1, chamadas_pen_t1, chamadas_resol_t1, chamadas_aber_t1, pen_alcada_t1)"
      ],
      "metadata": {
        "colab": {
          "base_uri": "https://localhost:8080/",
          "height": 135
        },
        "id": "sbZ0M5bg0YWY",
        "outputId": "a50d33b7-82e0-4005-fd74-927d6823b64e"
      },
      "execution_count": null,
      "outputs": [
        {
          "output_type": "stream",
          "name": "stderr",
          "text": [
            "/usr/local/lib/python3.7/dist-packages/ipykernel_launcher.py:13: DeprecationWarning: find_elements_by_* commands are deprecated. Please use find_elements() instead\n",
            "  del sys.path[0]\n"
          ]
        },
        {
          "output_type": "execute_result",
          "data": {
            "text/html": [
              "<div>\n",
              "<style scoped>\n",
              "    .dataframe tbody tr th:only-of-type {\n",
              "        vertical-align: middle;\n",
              "    }\n",
              "\n",
              "    .dataframe tbody tr th {\n",
              "        vertical-align: top;\n",
              "    }\n",
              "\n",
              "    .dataframe thead th {\n",
              "        text-align: right;\n",
              "    }\n",
              "</style>\n",
              "<table border=\"1\" class=\"dataframe\">\n",
              "  <thead>\n",
              "    <tr style=\"text-align: right;\">\n",
              "      <th></th>\n",
              "      <th>Vigência</th>\n",
              "      <th>Chamados em aberto</th>\n",
              "      <th>Chamados resolvidos</th>\n",
              "      <th>Chamados pendentes</th>\n",
              "      <th>Pendentes por alçada</th>\n",
              "    </tr>\n",
              "  </thead>\n",
              "  <tbody>\n",
              "    <tr>\n",
              "      <th>0</th>\n",
              "      <td>8 DIAS</td>\n",
              "      <td>0 CHAMADOS ROTA 0 AS 0</td>\n",
              "      <td>30 CHAMADOS ROTA 30 AS 0</td>\n",
              "      <td>ROTA 0 AS 0</td>\n",
              "      <td>GOD 0 CAMPO REGIONAL 0 AC PRODUTIVIDADE 0 AC ...</td>\n",
              "    </tr>\n",
              "  </tbody>\n",
              "</table>\n",
              "</div>"
            ],
            "text/plain": [
              "  Vigência  ...                               Pendentes por alçada\n",
              "0   8 DIAS  ...   GOD 0 CAMPO REGIONAL 0 AC PRODUTIVIDADE 0 AC ...\n",
              "\n",
              "[1 rows x 5 columns]"
            ]
          },
          "metadata": {},
          "execution_count": 11
        }
      ]
    },
    {
      "cell_type": "markdown",
      "source": [
        "Resolver: Apesar todas as abas possuírem as mesmas tags e nomes de classe para designar dados do dashboard, quando itero pelo xpath de cada objeto retorna apenas os dados da primeira aba com a primeira data do drop down menu."
      ],
      "metadata": {
        "id": "hdo8Yf3aZ815"
      }
    },
    {
      "cell_type": "code",
      "source": [
        ""
      ],
      "metadata": {
        "id": "4HzzMWmqFZ8k"
      },
      "execution_count": null,
      "outputs": []
    },
    {
      "cell_type": "markdown",
      "source": [
        "## meus chamados"
      ],
      "metadata": {
        "id": "u8aBDje0Faut"
      }
    },
    {
      "cell_type": "markdown",
      "source": [
        "Construindo uma função que extraia a tabela do \"meus chamados\" através das tags de table. \"tr\" para rows e td para columns."
      ],
      "metadata": {
        "id": "afuSwVv9YwSh"
      }
    },
    {
      "cell_type": "code",
      "source": [
        "automate.bot.implicitly_wait(10) # seconds\n",
        "automate.bot.get(\"https://freightech.ambev.com.br/#/meus-chamados\")"
      ],
      "metadata": {
        "id": "gMBn5UqUFemE"
      },
      "execution_count": null,
      "outputs": []
    },
    {
      "cell_type": "code",
      "source": [
        "rows = 1+len(automate.bot.find_elements_by_xpath(\"/html/body/app-root/ft-home/div/main/div/wac-meus-chamados/div[3]/div/ft-meus-chamados-detalhes/table/tbody/tr\"))"
      ],
      "metadata": {
        "id": "9myaIdx5MsfH",
        "outputId": "c60405b9-ef8c-442f-9f30-63f5f374fb70",
        "colab": {
          "base_uri": "https://localhost:8080/"
        }
      },
      "execution_count": null,
      "outputs": [
        {
          "output_type": "stream",
          "name": "stderr",
          "text": [
            "/usr/local/lib/python3.7/dist-packages/ipykernel_launcher.py:1: DeprecationWarning: find_elements_by_* commands are deprecated. Please use find_elements() instead\n",
            "  \"\"\"Entry point for launching an IPython kernel.\n"
          ]
        }
      ]
    },
    {
      "cell_type": "code",
      "source": [
        "cols=len(automate.bot.find_elements_by_xpath(\"/html/body/app-root/ft-home/div/main/div/wac-meus-chamados/div[3]/div/ft-meus-chamados-detalhes/table/tbody/tr/td\"))"
      ],
      "metadata": {
        "id": "cZdUqmvbUkSL",
        "outputId": "03d5b0c1-b50b-4cd5-e548-388db90f0036",
        "colab": {
          "base_uri": "https://localhost:8080/"
        }
      },
      "execution_count": null,
      "outputs": [
        {
          "output_type": "stream",
          "name": "stderr",
          "text": [
            "/usr/local/lib/python3.7/dist-packages/ipykernel_launcher.py:1: DeprecationWarning: find_elements_by_* commands are deprecated. Please use find_elements() instead\n",
            "  \"\"\"Entry point for launching an IPython kernel.\n"
          ]
        }
      ]
    },
    {
      "cell_type": "code",
      "source": [
        "print(rows)\n",
        "print(cols)"
      ],
      "metadata": {
        "id": "D696dTXWdODT",
        "outputId": "5811a96e-b8ea-4e1c-bd3a-7122a6daf0db",
        "colab": {
          "base_uri": "https://localhost:8080/"
        }
      },
      "execution_count": null,
      "outputs": [
        {
          "output_type": "stream",
          "name": "stdout",
          "text": [
            "1\n",
            "0\n"
          ]
        }
      ]
    },
    {
      "cell_type": "code",
      "source": [
        "for r in range(2, rows+1):\n",
        "  for p in range(1, cols+1):\n",
        "    value = automate.bot.find_element_by_xpath(\"/html/body/app-root/ft-home/div/main/div/wac-meus-chamados/div[3]/div/ft-meus-chamados-detalhes/table/tbody/tr['+str(r)+']/td['+str(p)+']\")"
      ],
      "metadata": {
        "id": "z3oGrHscavDj"
      },
      "execution_count": null,
      "outputs": []
    },
    {
      "cell_type": "markdown",
      "source": [
        "## categoria chamados"
      ],
      "metadata": {
        "id": "JxK2DSrrG8C_"
      }
    },
    {
      "cell_type": "code",
      "source": [
        "def categorias_chamados():\n",
        "\n",
        "  '''\n",
        "  Extract the table from categoria dos chamados's page and store in a Pandas DataFrame \n",
        "  '''\n",
        "\n",
        "  automate.bot.implicitly_wait(10) # seconds\n",
        "  automate.bot.get(\"https://freightech.ambev.com.br/#/categoria-chamados\")\n",
        "\n",
        "  automate.bot.implicitly_wait(10) # seconds\n",
        "  table = automate.bot.find_elements_by_xpath('/html/body/app-root/ft-home/div/main/div/ft-categoria-chamados/div/div/div/div')\n",
        "\n",
        "  table_data = []\n",
        "  for item in table:\n",
        "    table_data.append(item.text)\n",
        "\n",
        "  #cleaning data\n",
        "\n",
        "  table_data = [item.replace(\"\\n\", \" \") for item in table_data]\n",
        "\n",
        "  table_data = table_data[0].strip()\n",
        "  table_data = re.split(\" [1-9]. \", table_data)\n",
        "  teste = [item.split(\"[0-9]{4}-[0-9]{2}-[0-9]{2}T[0-9]{2}:[0-9]{2}:[0-9]{2}.[0-9]{3}\") for item in table_data]\n",
        "  table_data = [re.split(\"([0-9]{4}-[0-9]{2}-[0-9]{2}T[0-9]{2}:[0-9]{2}:[0-9]{2}.[0-9]{3})\", item) for item in table_data]\n",
        "\n",
        "  table_data[0][0] = table_data[0][0].split()\n",
        "  table_data[0][0].pop(-1)\n",
        "  table_data[0][0].pop(-2)\n",
        "  table_data[0] = table_data[0][0]\n",
        "  \n",
        "  #dataframe\n",
        "\n",
        "  table_data = [pd.Series(item) for item in table_data]\n",
        "  table_categories = pd.DataFrame(table_data)\n",
        "  table_categories.columns = table_categories.iloc[0]\n",
        "  table_categories = table_categories.drop(axis=0, index=0)\n",
        "\n",
        "  return table_categories"
      ],
      "metadata": {
        "id": "RN7c6PoOFo7U"
      },
      "execution_count": null,
      "outputs": []
    },
    {
      "cell_type": "code",
      "source": [
        "categorias_chamados()"
      ],
      "metadata": {
        "id": "OO4eG2iVD5FA",
        "outputId": "74b2ad2b-de76-484c-82cc-391615c504b8",
        "colab": {
          "base_uri": "https://localhost:8080/",
          "height": 386
        }
      },
      "execution_count": null,
      "outputs": [
        {
          "output_type": "stream",
          "name": "stderr",
          "text": [
            "/usr/local/lib/python3.7/dist-packages/ipykernel_launcher.py:11: DeprecationWarning: find_elements_by_* commands are deprecated. Please use find_elements() instead\n",
            "  # This is added back by InteractiveShellApp.init_path()\n"
          ]
        },
        {
          "output_type": "execute_result",
          "data": {
            "text/html": [
              "<div>\n",
              "<style scoped>\n",
              "    .dataframe tbody tr th:only-of-type {\n",
              "        vertical-align: middle;\n",
              "    }\n",
              "\n",
              "    .dataframe tbody tr th {\n",
              "        vertical-align: top;\n",
              "    }\n",
              "\n",
              "    .dataframe thead th {\n",
              "        text-align: right;\n",
              "    }\n",
              "</style>\n",
              "<table border=\"1\" class=\"dataframe\">\n",
              "  <thead>\n",
              "    <tr style=\"text-align: right;\">\n",
              "      <th></th>\n",
              "      <th>Nome</th>\n",
              "      <th>Data</th>\n",
              "      <th>Usuário</th>\n",
              "    </tr>\n",
              "  </thead>\n",
              "  <tbody>\n",
              "    <tr>\n",
              "      <th>1</th>\n",
              "      <td>Sem evidência</td>\n",
              "      <td>2021-05-13T08:58:05.495</td>\n",
              "      <td>Nathalia Fernanda Viana Rodrigues</td>\n",
              "    </tr>\n",
              "    <tr>\n",
              "      <th>2</th>\n",
              "      <td>Evidência incorreta</td>\n",
              "      <td>2021-05-13T08:58:18.443</td>\n",
              "      <td>Nathalia Fernanda Viana Rodrigues</td>\n",
              "    </tr>\n",
              "    <tr>\n",
              "      <th>3</th>\n",
              "      <td>Sem evidência de validação</td>\n",
              "      <td>2021-05-13T08:58:36.966</td>\n",
              "      <td>Nathalia Fernanda Viana Rodrigues</td>\n",
              "    </tr>\n",
              "    <tr>\n",
              "      <th>4</th>\n",
              "      <td>Sem aprovação prévia do GOD ou Regional via Fr...</td>\n",
              "      <td>2021-05-13T08:59:09.611</td>\n",
              "      <td>Nathalia Fernanda Viana Rodrigues</td>\n",
              "    </tr>\n",
              "    <tr>\n",
              "      <th>5</th>\n",
              "      <td>Ajuste realizado de forma centralizada</td>\n",
              "      <td>2021-05-13T08:59:28.682</td>\n",
              "      <td>Nathalia Fernanda Viana Rodrigues</td>\n",
              "    </tr>\n",
              "    <tr>\n",
              "      <th>6</th>\n",
              "      <td>Divergência entre valor solicitado x valor da ...</td>\n",
              "      <td>2021-05-13T08:59:55.044</td>\n",
              "      <td>Nathalia Fernanda Viana Rodrigues</td>\n",
              "    </tr>\n",
              "    <tr>\n",
              "      <th>7</th>\n",
              "      <td>Abertura deve ser feita pelo Sisnec</td>\n",
              "      <td>2021-05-13T09:00:13.265</td>\n",
              "      <td>Nathalia Fernanda Viana Rodrigues</td>\n",
              "    </tr>\n",
              "    <tr>\n",
              "      <th>8</th>\n",
              "      <td>Campo incorreto</td>\n",
              "      <td>2021-05-13T09:00:21.916</td>\n",
              "      <td>Nathalia Fernanda Viana Rodrigues</td>\n",
              "    </tr>\n",
              "    <tr>\n",
              "      <th>9</th>\n",
              "      <td>Outros</td>\n",
              "      <td>2021-05-14T10:50:23.645</td>\n",
              "      <td>Sergi Blabia Garriga 1 para 9 de 9 Página 1 de 1</td>\n",
              "    </tr>\n",
              "  </tbody>\n",
              "</table>\n",
              "</div>"
            ],
            "text/plain": [
              "0                                               Nome  ...                                            Usuário\n",
              "1                                     Sem evidência   ...                  Nathalia Fernanda Viana Rodrigues\n",
              "2                               Evidência incorreta   ...                  Nathalia Fernanda Viana Rodrigues\n",
              "3                        Sem evidência de validação   ...                  Nathalia Fernanda Viana Rodrigues\n",
              "4  Sem aprovação prévia do GOD ou Regional via Fr...  ...                  Nathalia Fernanda Viana Rodrigues\n",
              "5            Ajuste realizado de forma centralizada   ...                  Nathalia Fernanda Viana Rodrigues\n",
              "6  Divergência entre valor solicitado x valor da ...  ...                  Nathalia Fernanda Viana Rodrigues\n",
              "7               Abertura deve ser feita pelo Sisnec   ...                  Nathalia Fernanda Viana Rodrigues\n",
              "8                                   Campo incorreto   ...                  Nathalia Fernanda Viana Rodrigues\n",
              "9                                            Outros   ...   Sergi Blabia Garriga 1 para 9 de 9 Página 1 de 1\n",
              "\n",
              "[9 rows x 3 columns]"
            ]
          },
          "metadata": {},
          "execution_count": 117
        }
      ]
    },
    {
      "cell_type": "markdown",
      "source": [
        "*   limpar com regex a última linha do dataframe\n",
        "*   usar regex para selecionar chamados com mais de 1 dígito para dados futuros\n",
        "\n",
        "\n"
      ],
      "metadata": {
        "id": "8OjdN9Qoa0JL"
      }
    },
    {
      "cell_type": "markdown",
      "source": [
        "## Exportação"
      ],
      "metadata": {
        "id": "ypmkY02ArXLl"
      }
    },
    {
      "cell_type": "markdown",
      "source": [
        "Identificando tags com beautifulsoup\n",
        "\n",
        "* usar autochain do selenium para automatizar cliques e exportar tabelas\n",
        "\n",
        "\n",
        "\n"
      ],
      "metadata": {
        "id": "aoG5AUyNZzVK"
      }
    },
    {
      "cell_type": "code",
      "source": [
        "# set implicit wait time\n",
        "automate.drop.implicitly_wait(10) # seconds\n",
        "\n",
        "automate.drop.get(\"https://freightech.ambev.com.br/#/exportacao-dados\")\n",
        "soup = BeautifulSoup(driver.page_source, 'html.parser')"
      ],
      "metadata": {
        "id": "3jy0Unviru51"
      },
      "execution_count": null,
      "outputs": []
    },
    {
      "cell_type": "code",
      "source": [
        "modelo = [item.get_text() for item in soup.find_all('p',{'class': \"card-fav card-fav-custom no-fav is-selected\"})]\n",
        "modelo"
      ],
      "metadata": {
        "colab": {
          "base_uri": "https://localhost:8080/"
        },
        "id": "ajaV4Gm_se9P",
        "outputId": "b3e61e9a-1117-452f-f51f-1c2a755a6064"
      },
      "execution_count": null,
      "outputs": [
        {
          "output_type": "execute_result",
          "data": {
            "text/plain": [
              "[]"
            ]
          },
          "metadata": {},
          "execution_count": 242
        }
      ]
    },
    {
      "cell_type": "code",
      "source": [
        ""
      ],
      "metadata": {
        "id": "dOh3OMPpubtC"
      },
      "execution_count": null,
      "outputs": []
    }
  ],
  "metadata": {
    "colab": {
      "name": "freightech.ipynb",
      "provenance": [],
      "collapsed_sections": [
        "dHIh_iPvInW5",
        "XYc3hiAQKKgJ"
      ],
      "authorship_tag": "ABX9TyOwtEuVcoZYJrDYns6Qw+My",
      "include_colab_link": true
    },
    "kernelspec": {
      "display_name": "Python 3",
      "name": "python3"
    },
    "language_info": {
      "name": "python"
    }
  },
  "nbformat": 4,
  "nbformat_minor": 0
}