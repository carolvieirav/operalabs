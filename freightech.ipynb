{
  "cells": [
    {
      "cell_type": "markdown",
      "metadata": {
        "id": "view-in-github",
        "colab_type": "text"
      },
      "source": [
        "<a href=\"https://colab.research.google.com/github/carolvieirav/operalabs/blob/main/freightech.ipynb\" target=\"_parent\"><img src=\"https://colab.research.google.com/assets/colab-badge.svg\" alt=\"Open In Colab\"/></a>"
      ]
    },
    {
      "cell_type": "markdown",
      "metadata": {
        "id": "dHIh_iPvInW5"
      },
      "source": [
        "## Install & Import"
      ]
    },
    {
      "cell_type": "code",
      "execution_count": null,
      "metadata": {
        "id": "gQY9QmOJH_6l"
      },
      "outputs": [],
      "source": [
        "!pip install selenium"
      ]
    },
    {
      "cell_type": "code",
      "execution_count": null,
      "metadata": {
        "id": "9Zqih-MBIQPc"
      },
      "outputs": [],
      "source": [
        "!apt install chromium-chromedriver"
      ]
    },
    {
      "cell_type": "code",
      "execution_count": 94,
      "metadata": {
        "id": "vN8snPiTISpW"
      },
      "outputs": [],
      "source": [
        "from selenium import webdriver\n",
        "from selenium.webdriver.common.keys import Keys\n",
        "import requests\n",
        "import numpy as np\n",
        "import pandas as pd\n",
        "from bs4 import BeautifulSoup\n",
        "from selenium.webdriver.support import expected_conditions as EC\n",
        "from selenium.webdriver.support.ui import WebDriverWait\n",
        "from selenium.webdriver.common.by import By\n",
        "from selenium.webdriver import ActionChains"
      ]
    },
    {
      "cell_type": "code",
      "execution_count": 95,
      "metadata": {
        "id": "kLaCpkLMIXxz"
      },
      "outputs": [],
      "source": [
        "options = webdriver.ChromeOptions()\n",
        "options.add_argument('--headless')\n",
        "options.add_argument('--no-sandbox')\n",
        "options.add_argument('--disable-dev-shm-usage')\n",
        "driver = webdriver.Chrome('chromedriver',options=options)"
      ]
    },
    {
      "cell_type": "markdown",
      "metadata": {
        "id": "XYc3hiAQKKgJ"
      },
      "source": [
        "## Login"
      ]
    },
    {
      "cell_type": "code",
      "execution_count": 96,
      "metadata": {
        "id": "_VXlbUMrJdyT"
      },
      "outputs": [],
      "source": [
        "driver.get(\"https://freightech.ambev.com.br/#/login\")"
      ]
    },
    {
      "cell_type": "code",
      "execution_count": 97,
      "metadata": {
        "colab": {
          "base_uri": "https://localhost:8080/"
        },
        "id": "mOqPb4IcKMSk",
        "outputId": "e8099644-6008-41b8-c02b-3e445128a465"
      },
      "outputs": [
        {
          "output_type": "stream",
          "name": "stderr",
          "text": [
            "/usr/local/lib/python3.7/dist-packages/ipykernel_launcher.py:1: DeprecationWarning: find_element_by_* commands are deprecated. Please use find_element() instead\n",
            "  \"\"\"Entry point for launching an IPython kernel.\n",
            "/usr/local/lib/python3.7/dist-packages/ipykernel_launcher.py:2: DeprecationWarning: find_element_by_* commands are deprecated. Please use find_element() instead\n",
            "  \n"
          ]
        },
        {
          "output_type": "stream",
          "name": "stdout",
          "text": [
            "Logged in Successfuly\n"
          ]
        },
        {
          "output_type": "stream",
          "name": "stderr",
          "text": [
            "/usr/local/lib/python3.7/dist-packages/ipykernel_launcher.py:7: DeprecationWarning: find_element_by_* commands are deprecated. Please use find_element() instead\n",
            "  import sys\n"
          ]
        }
      ],
      "source": [
        "username = driver.find_element_by_xpath(\"/html/body/app-root/ft-core-login/div/div/div/wac-input[1]/div/div/input\")\n",
        "password = driver.find_element_by_xpath(\"/html/body/app-root/ft-core-login/div/div/div/wac-input[2]/div/div/input\")\n",
        "\n",
        "username.send_keys(\"anne.pereira@operalog.com.br\")\n",
        "password.send_keys(\"55026170\")\n",
        "\n",
        "driver.find_element_by_xpath(\"/html/body/app-root/ft-core-login/div/div/div/wac-button[1]/button\").click()\n",
        "print(\"Logged in Successfuly\")"
      ]
    },
    {
      "cell_type": "markdown",
      "metadata": {
        "id": "HGErBeWL1OlM"
      },
      "source": [
        "## Extracts the dashboard HTML source code"
      ]
    },
    {
      "cell_type": "code",
      "execution_count": 98,
      "metadata": {
        "colab": {
          "base_uri": "https://localhost:8080/"
        },
        "id": "QGUImf89qDt8",
        "outputId": "a17ae2dd-a32f-4059-e2a2-93a8d0160385"
      },
      "outputs": [
        {
          "output_type": "stream",
          "name": "stderr",
          "text": [
            "/usr/local/lib/python3.7/dist-packages/ipykernel_launcher.py:5: DeprecationWarning: find_element_by_* commands are deprecated. Please use find_element() instead\n",
            "  \"\"\"\n"
          ]
        }
      ],
      "source": [
        "# set implicit wait time\n",
        "driver.implicitly_wait(10) # seconds\n",
        "\n",
        "driver.get(\"https://freightech.ambev.com.br/#/dashboard\")\n",
        "driver.find_element_by_xpath(\"/html/body/app-root/ft-home/div/main/div/ft-dashboard/div[1]/div[1]/div/wac-select\").click()"
      ]
    },
    {
      "cell_type": "code",
      "execution_count": null,
      "metadata": {
        "id": "sNd951kvz6sK"
      },
      "outputs": [],
      "source": [
        "soup = BeautifulSoup(driver.page_source, 'html.parser')\n",
        "soup"
      ]
    },
    {
      "cell_type": "markdown",
      "metadata": {
        "id": "S9y-YgI43gc-"
      },
      "source": [
        "## Parse and Extract"
      ]
    },
    {
      "cell_type": "code",
      "execution_count": null,
      "metadata": {
        "id": "zjFw8XlQ3ilH"
      },
      "outputs": [],
      "source": [
        "vigencia_options = soup.find_all('div',{'class': 'ng-option ng-star-inserted'})\n",
        "vigencia_options"
      ]
    },
    {
      "cell_type": "code",
      "execution_count": 107,
      "metadata": {
        "colab": {
          "base_uri": "https://localhost:8080/"
        },
        "id": "juH4Ii8R4VlG",
        "outputId": "3af2fdd4-5aac-4089-94bb-c7bdb472b9a8"
      },
      "outputs": [
        {
          "output_type": "execute_result",
          "data": {
            "text/plain": [
              "[[' ', <span class=\"ng-option-label ng-star-inserted\">2_11_2021</span>, ' '],\n",
              " [' ', <span class=\"ng-option-label ng-star-inserted\">1_11_2021</span>, ' '],\n",
              " [' ', <span class=\"ng-option-label ng-star-inserted\">2_10_2021</span>, ' '],\n",
              " [' ', <span class=\"ng-option-label ng-star-inserted\">1_10_2021</span>, ' '],\n",
              " [' ', <span class=\"ng-option-label ng-star-inserted\">2_9_2021</span>, ' '],\n",
              " [' ', <span class=\"ng-option-label ng-star-inserted\">1_9_2021</span>, ' '],\n",
              " [' ', <span class=\"ng-option-label ng-star-inserted\">2_8_2021</span>, ' '],\n",
              " [' ', <span class=\"ng-option-label ng-star-inserted\">1_8_2021</span>, ' '],\n",
              " [' ', <span class=\"ng-option-label ng-star-inserted\">2_7_2021</span>, ' '],\n",
              " [' ', <span class=\"ng-option-label ng-star-inserted\">1_7_2021</span>, ' '],\n",
              " [' ', <span class=\"ng-option-label ng-star-inserted\">2_6_2021</span>, ' '],\n",
              " [' ', <span class=\"ng-option-label ng-star-inserted\">1_6_2021</span>, ' '],\n",
              " [' ', <span class=\"ng-option-label ng-star-inserted\">2_5_2021</span>, ' '],\n",
              " [' ', <span class=\"ng-option-label ng-star-inserted\">1_5_2021</span>, ' '],\n",
              " [' ', <span class=\"ng-option-label ng-star-inserted\">2_4_2021</span>, ' '],\n",
              " [' ', <span class=\"ng-option-label ng-star-inserted\">1_4_2021</span>, ' '],\n",
              " [' ', <span class=\"ng-option-label ng-star-inserted\">2_3_2021</span>, ' '],\n",
              " [' ', <span class=\"ng-option-label ng-star-inserted\">1_3_2021</span>, ' '],\n",
              " [' ', <span class=\"ng-option-label ng-star-inserted\">2_2_2021</span>, ' '],\n",
              " [' ', <span class=\"ng-option-label ng-star-inserted\">1_2_2021</span>, ' '],\n",
              " [' ', <span class=\"ng-option-label ng-star-inserted\">2_1_2021</span>, ' '],\n",
              " [' ', <span class=\"ng-option-label ng-star-inserted\">1_1_2021</span>, ' '],\n",
              " [' ', <span class=\"ng-option-label ng-star-inserted\">2_12_2020</span>, ' '],\n",
              " [' ', <span class=\"ng-option-label ng-star-inserted\">1_12_2020</span>, ' '],\n",
              " [' ', <span class=\"ng-option-label ng-star-inserted\">2_11_2020</span>, ' '],\n",
              " [' ', <span class=\"ng-option-label ng-star-inserted\">1_11_2020</span>, ' '],\n",
              " [' ', <span class=\"ng-option-label ng-star-inserted\">2_10_2020</span>, ' '],\n",
              " [' ', <span class=\"ng-option-label ng-star-inserted\">1_10_2020</span>, ' '],\n",
              " [' ', <span class=\"ng-option-label ng-star-inserted\">2_9_2020</span>, ' '],\n",
              " [' ', <span class=\"ng-option-label ng-star-inserted\">1_9_2020</span>, ' '],\n",
              " [' ', <span class=\"ng-option-label ng-star-inserted\">2_8_2020</span>, ' '],\n",
              " [' ', <span class=\"ng-option-label ng-star-inserted\">1_8_2020</span>, ' '],\n",
              " [' ', <span class=\"ng-option-label ng-star-inserted\">2_7_2020</span>, ' '],\n",
              " [' ', <span class=\"ng-option-label ng-star-inserted\">1_7_2020</span>, ' '],\n",
              " [' ', <span class=\"ng-option-label ng-star-inserted\">2_6_2020</span>, ' '],\n",
              " [' ', <span class=\"ng-option-label ng-star-inserted\">1_6_2020</span>, ' '],\n",
              " [' ', <span class=\"ng-option-label ng-star-inserted\">2_5_2020</span>, ' '],\n",
              " [' ', <span class=\"ng-option-label ng-star-inserted\">1_5_2020</span>, ' '],\n",
              " [' ', <span class=\"ng-option-label ng-star-inserted\">2_4_2020</span>, ' '],\n",
              " [' ', <span class=\"ng-option-label ng-star-inserted\">1_4_2020</span>, ' '],\n",
              " [' ', <span class=\"ng-option-label ng-star-inserted\">2_3_2020</span>, ' '],\n",
              " [' ', <span class=\"ng-option-label ng-star-inserted\">1_3_2020</span>, ' '],\n",
              " [' ', <span class=\"ng-option-label ng-star-inserted\">2_2_2020</span>, ' '],\n",
              " [' ', <span class=\"ng-option-label ng-star-inserted\">1_2_2020</span>, ' '],\n",
              " [' ', <span class=\"ng-option-label ng-star-inserted\">2_1_2020</span>, ' '],\n",
              " [' ', <span class=\"ng-option-label ng-star-inserted\">1_1_2020</span>, ' '],\n",
              " [' ', <span class=\"ng-option-label ng-star-inserted\">2_12_2019</span>, ' '],\n",
              " [' ', <span class=\"ng-option-label ng-star-inserted\">1_12_2019</span>, ' '],\n",
              " [' ', <span class=\"ng-option-label ng-star-inserted\">2_11_2019</span>, ' '],\n",
              " [' ', <span class=\"ng-option-label ng-star-inserted\">1_11_2019</span>, ' '],\n",
              " [' ', <span class=\"ng-option-label ng-star-inserted\">2_10_2019</span>, ' '],\n",
              " [' ', <span class=\"ng-option-label ng-star-inserted\">1_10_2019</span>, ' '],\n",
              " [' ', <span class=\"ng-option-label ng-star-inserted\">2_9_2019</span>, ' '],\n",
              " [' ', <span class=\"ng-option-label ng-star-inserted\">1_9_2019</span>, ' '],\n",
              " [' ', <span class=\"ng-option-label ng-star-inserted\">2_8_2019</span>, ' '],\n",
              " [' ', <span class=\"ng-option-label ng-star-inserted\">1_8_2019</span>, ' '],\n",
              " [' ', <span class=\"ng-option-label ng-star-inserted\">2_7_2019</span>, ' '],\n",
              " [' ', <span class=\"ng-option-label ng-star-inserted\">1_7_2019</span>, ' '],\n",
              " [' ', <span class=\"ng-option-label ng-star-inserted\">2_6_2019</span>, ' '],\n",
              " [' ', <span class=\"ng-option-label ng-star-inserted\">1_6_2019</span>, ' '],\n",
              " [' ', <span class=\"ng-option-label ng-star-inserted\">2_5_2019</span>, ' '],\n",
              " [' ', <span class=\"ng-option-label ng-star-inserted\">1_5_2019</span>, ' '],\n",
              " [' ', <span class=\"ng-option-label ng-star-inserted\">2_4_2019</span>, ' '],\n",
              " [' ', <span class=\"ng-option-label ng-star-inserted\">1_4_2019</span>, ' '],\n",
              " [' ', <span class=\"ng-option-label ng-star-inserted\">2_3_2019</span>, ' '],\n",
              " [' ', <span class=\"ng-option-label ng-star-inserted\">1_3_2019</span>, ' '],\n",
              " [' ', <span class=\"ng-option-label ng-star-inserted\">2_2_2019</span>, ' '],\n",
              " [' ', <span class=\"ng-option-label ng-star-inserted\">1_2_2019</span>, ' '],\n",
              " [' ', <span class=\"ng-option-label ng-star-inserted\">2_1_2019</span>, ' '],\n",
              " [' ', <span class=\"ng-option-label ng-star-inserted\">1_1_2019</span>, ' '],\n",
              " [' ', <span class=\"ng-option-label ng-star-inserted\">2_12_2018</span>, ' '],\n",
              " [' ', <span class=\"ng-option-label ng-star-inserted\">1_12_2018</span>, ' '],\n",
              " [' ', <span class=\"ng-option-label ng-star-inserted\">2_11_2018</span>, ' '],\n",
              " [' ', <span class=\"ng-option-label ng-star-inserted\">1_11_2018</span>, ' '],\n",
              " [' ', <span class=\"ng-option-label ng-star-inserted\">2_10_2018</span>, ' '],\n",
              " [' ', <span class=\"ng-option-label ng-star-inserted\">1_10_2018</span>, ' '],\n",
              " [' ', <span class=\"ng-option-label ng-star-inserted\">2_9_2018</span>, ' '],\n",
              " [' ', <span class=\"ng-option-label ng-star-inserted\">1_9_2018</span>, ' '],\n",
              " [' ', <span class=\"ng-option-label ng-star-inserted\">2_8_2018</span>, ' '],\n",
              " [' ', <span class=\"ng-option-label ng-star-inserted\">1_8_2018</span>, ' '],\n",
              " [' ', <span class=\"ng-option-label ng-star-inserted\">2_7_2018</span>, ' '],\n",
              " [' ', <span class=\"ng-option-label ng-star-inserted\">1_7_2018</span>, ' '],\n",
              " [' ', <span class=\"ng-option-label ng-star-inserted\">2_6_2018</span>, ' '],\n",
              " [' ', <span class=\"ng-option-label ng-star-inserted\">1_6_2018</span>, ' '],\n",
              " [' ', <span class=\"ng-option-label ng-star-inserted\">2_5_2018</span>, ' '],\n",
              " [' ', <span class=\"ng-option-label ng-star-inserted\">1_5_2018</span>, ' ']]"
            ]
          },
          "metadata": {},
          "execution_count": 107
        }
      ],
      "source": [
        "options = []\n",
        "for option in vigencia_options:\n",
        "  options.append(option.contents)\n",
        "  \n",
        "options"
      ]
    },
    {
      "cell_type": "code",
      "execution_count": null,
      "metadata": {
        "colab": {
          "base_uri": "https://localhost:8080/"
        },
        "id": "dj-D4M6d5qgI",
        "outputId": "069dbae1-fe39-4bb4-a7b7-9fbe1f671abe"
      },
      "outputs": [
        {
          "data": {
            "text/plain": [
              "[None]"
            ]
          },
          "execution_count": 76,
          "metadata": {},
          "output_type": "execute_result"
        }
      ],
      "source": [
        "<div class=\"ng-option ng-option-selected ng-star-inserted\" role=\"option\" aria-selected=\"true\" id=\"ac443acd4f60-0\"><!----><span class=\"ng-option-label ng-star-inserted\">1_12_2021</span><!----></div>"
      ]
    }
  ],
  "metadata": {
    "colab": {
      "name": "freightech.ipynb",
      "provenance": [],
      "authorship_tag": "ABX9TyOrG1gTySF/Pcf6wXU6ZkeX",
      "include_colab_link": true
    },
    "kernelspec": {
      "display_name": "Python 3",
      "name": "python3"
    },
    "language_info": {
      "name": "python"
    }
  },
  "nbformat": 4,
  "nbformat_minor": 0
}