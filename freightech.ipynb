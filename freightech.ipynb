{
  "cells": [
    {
      "cell_type": "markdown",
      "metadata": {
        "id": "view-in-github",
        "colab_type": "text"
      },
      "source": [
        "<a href=\"https://colab.research.google.com/github/carolvieirav/operalabs/blob/main/freightech.ipynb\" target=\"_parent\"><img src=\"https://colab.research.google.com/assets/colab-badge.svg\" alt=\"Open In Colab\"/></a>"
      ]
    },
    {
      "cell_type": "markdown",
      "metadata": {
        "id": "dHIh_iPvInW5"
      },
      "source": [
        "## Install & Import"
      ]
    },
    {
      "cell_type": "code",
      "execution_count": null,
      "metadata": {
        "id": "gQY9QmOJH_6l"
      },
      "outputs": [],
      "source": [
        "!pip install selenium"
      ]
    },
    {
      "cell_type": "code",
      "execution_count": null,
      "metadata": {
        "id": "9Zqih-MBIQPc"
      },
      "outputs": [],
      "source": [
        "!apt install chromium-chromedriver"
      ]
    },
    {
      "cell_type": "code",
      "execution_count": 114,
      "metadata": {
        "id": "vN8snPiTISpW"
      },
      "outputs": [],
      "source": [
        "from selenium import webdriver\n",
        "from selenium.webdriver.common.keys import Keys\n",
        "import requests\n",
        "import numpy as np\n",
        "import pandas as pd\n",
        "from bs4 import BeautifulSoup\n",
        "from selenium.webdriver.support import expected_conditions as EC\n",
        "from selenium.webdriver.support.ui import WebDriverWait\n",
        "from selenium.webdriver.common.by import By\n",
        "from selenium.webdriver import ActionChains\n",
        "from selenium.webdriver.support.ui import Select"
      ]
    },
    {
      "cell_type": "code",
      "execution_count": 115,
      "metadata": {
        "id": "kLaCpkLMIXxz"
      },
      "outputs": [],
      "source": [
        "options = webdriver.ChromeOptions()\n",
        "options.add_argument('--headless')\n",
        "options.add_argument('--no-sandbox')\n",
        "options.add_argument('--disable-dev-shm-usage')\n",
        "driver = webdriver.Chrome('chromedriver',options=options)"
      ]
    },
    {
      "cell_type": "markdown",
      "metadata": {
        "id": "XYc3hiAQKKgJ"
      },
      "source": [
        "## Login"
      ]
    },
    {
      "cell_type": "code",
      "execution_count": 116,
      "metadata": {
        "id": "_VXlbUMrJdyT"
      },
      "outputs": [],
      "source": [
        "driver.get(\"https://freightech.ambev.com.br/#/login\")"
      ]
    },
    {
      "cell_type": "code",
      "execution_count": 117,
      "metadata": {
        "colab": {
          "base_uri": "https://localhost:8080/"
        },
        "id": "mOqPb4IcKMSk",
        "outputId": "04029d63-6db8-454f-881d-a6ebb06c20a6"
      },
      "outputs": [
        {
          "output_type": "stream",
          "name": "stderr",
          "text": [
            "/usr/local/lib/python3.7/dist-packages/ipykernel_launcher.py:1: DeprecationWarning: find_element_by_* commands are deprecated. Please use find_element() instead\n",
            "  \"\"\"Entry point for launching an IPython kernel.\n",
            "/usr/local/lib/python3.7/dist-packages/ipykernel_launcher.py:2: DeprecationWarning: find_element_by_* commands are deprecated. Please use find_element() instead\n",
            "  \n"
          ]
        },
        {
          "output_type": "stream",
          "name": "stdout",
          "text": [
            "Logged in Successfuly\n"
          ]
        },
        {
          "output_type": "stream",
          "name": "stderr",
          "text": [
            "/usr/local/lib/python3.7/dist-packages/ipykernel_launcher.py:7: DeprecationWarning: find_element_by_* commands are deprecated. Please use find_element() instead\n",
            "  import sys\n"
          ]
        }
      ],
      "source": [
        "username = driver.find_element_by_xpath(\"/html/body/app-root/ft-core-login/div/div/div/wac-input[1]/div/div/input\")\n",
        "password = driver.find_element_by_xpath(\"/html/body/app-root/ft-core-login/div/div/div/wac-input[2]/div/div/input\")\n",
        "\n",
        "username.send_keys(\"anne.pereira@operalog.com.br\")\n",
        "password.send_keys(\"55026170\")\n",
        "\n",
        "driver.find_element_by_xpath(\"/html/body/app-root/ft-core-login/div/div/div/wac-button[1]/button\").click()\n",
        "print(\"Logged in Successfuly\")"
      ]
    },
    {
      "cell_type": "markdown",
      "metadata": {
        "id": "HGErBeWL1OlM"
      },
      "source": [
        "## Extract option 1 from \"distribuição\" em \"Meus Chamados\" "
      ]
    },
    {
      "cell_type": "code",
      "execution_count": 154,
      "metadata": {
        "id": "QGUImf89qDt8"
      },
      "outputs": [],
      "source": [
        "# set implicit wait time\n",
        "driver.implicitly_wait(10) # seconds\n",
        "\n",
        "driver.get(\"https://freightech.ambev.com.br/#/dashboard\")"
      ]
    },
    {
      "cell_type": "code",
      "execution_count": 155,
      "metadata": {
        "id": "sNd951kvz6sK"
      },
      "outputs": [],
      "source": [
        "soup = BeautifulSoup(driver.page_source, 'html.parser')"
      ]
    },
    {
      "cell_type": "code",
      "source": [
        "# primeira data distribuição\n",
        "data = [item.get_text() for item in soup.find_all('div',{'class': 'box box-100'})]\n",
        "vigencia = data[0][0]\n",
        "chamados_aberto = data[0][1]\n",
        "chamados_resolvidos = data[0][2]\n",
        "chamados_pendentes = data[0][3]\n",
        "pendentes_alcada = data[0][4]"
      ],
      "metadata": {
        "id": "Ipy9i5YzZDK7"
      },
      "execution_count": 156,
      "outputs": []
    },
    {
      "cell_type": "code",
      "source": [
        "data"
      ],
      "metadata": {
        "colab": {
          "base_uri": "https://localhost:8080/"
        },
        "id": "4tCgW8buNc9E",
        "outputId": "5f14ab30-8996-4aea-e2f1-81f6922ed1da"
      },
      "execution_count": 158,
      "outputs": [
        {
          "output_type": "execute_result",
          "data": {
            "text/plain": [
              "[' Vigência  RESTAM  10  dias ',\n",
              " ' Chamados em aberto  0  CHAMADOS ROTA0ChamadosAS0Chamados',\n",
              " ' Chamados resolvidos  30  CHAMADOS ROTA30ChamadosAS0Chamados',\n",
              " ' Chamados pendentes  ROTA  0  chamados  AS  0  chamados APROVAR CHAMADOS',\n",
              " ' Pendentes por alçada  GOD  0  chamados  CAMPO REGIONAL  0  chamados  AC PRODUTIVIDADE  0  chamados  AC CUSTOS  0  chamados ']"
            ]
          },
          "metadata": {},
          "execution_count": 158
        }
      ]
    },
    {
      "cell_type": "markdown",
      "metadata": {
        "id": "S9y-YgI43gc-"
      },
      "source": [
        "## Parse and Extract data from all \"distribuição\" options "
      ]
    },
    {
      "cell_type": "code",
      "source": [
        "# set implicit wait time\n",
        "driver.implicitly_wait(10) # seconds\n",
        "\n",
        "driver.get(\"https://freightech.ambev.com.br/#/dashboard\")\n"
      ],
      "metadata": {
        "colab": {
          "base_uri": "https://localhost:8080/"
        },
        "id": "JT_yJRoxD-t3",
        "outputId": "9cdb4e36-9103-433e-9d68-4239cc27f9d8"
      },
      "execution_count": 134,
      "outputs": [
        {
          "output_type": "stream",
          "name": "stderr",
          "text": [
            "/usr/local/lib/python3.7/dist-packages/ipykernel_launcher.py:5: DeprecationWarning: find_element_by_* commands are deprecated. Please use find_element() instead\n",
            "  \"\"\"\n"
          ]
        },
        {
          "output_type": "execute_result",
          "data": {
            "text/plain": [
              "<selenium.webdriver.remote.webelement.WebElement (session=\"cb042aa6b40372ba70436d64ba73949f\", element=\"83afcd40-6796-43ef-a585-d0fe6f2e4dfb\")>"
            ]
          },
          "metadata": {},
          "execution_count": 134
        }
      ]
    },
    {
      "cell_type": "code",
      "source": [
        "soup.find_all('span',{'class': 'ng-option-label ng-star-inserted'})"
      ],
      "metadata": {
        "colab": {
          "base_uri": "https://localhost:8080/"
        },
        "id": "f4OY0GKUEuG4",
        "outputId": "4661c67f-2abf-4bf1-df76-bb18675d4543"
      },
      "execution_count": 160,
      "outputs": [
        {
          "output_type": "execute_result",
          "data": {
            "text/plain": [
              "[]"
            ]
          },
          "metadata": {},
          "execution_count": 160
        }
      ]
    }
  ],
  "metadata": {
    "colab": {
      "name": "freightech.ipynb",
      "provenance": [],
      "collapsed_sections": [
        "dHIh_iPvInW5",
        "XYc3hiAQKKgJ"
      ],
      "authorship_tag": "ABX9TyOgXAWy21c9XaxnlTvlxRiI",
      "include_colab_link": true
    },
    "kernelspec": {
      "display_name": "Python 3",
      "name": "python3"
    },
    "language_info": {
      "name": "python"
    }
  },
  "nbformat": 4,
  "nbformat_minor": 0
}