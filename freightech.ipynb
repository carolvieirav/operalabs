{
  "cells": [
    {
      "cell_type": "markdown",
      "metadata": {
        "id": "view-in-github",
        "colab_type": "text"
      },
      "source": [
        "<a href=\"https://colab.research.google.com/github/carolvieirav/operalabs/blob/main/freightech.ipynb\" target=\"_parent\"><img src=\"https://colab.research.google.com/assets/colab-badge.svg\" alt=\"Open In Colab\"/></a>"
      ]
    },
    {
      "cell_type": "markdown",
      "metadata": {
        "id": "dHIh_iPvInW5"
      },
      "source": [
        "## Install & Import"
      ]
    },
    {
      "cell_type": "code",
      "execution_count": 1,
      "metadata": {
        "colab": {
          "base_uri": "https://localhost:8080/"
        },
        "id": "gQY9QmOJH_6l",
        "outputId": "20567e19-1d8e-4b00-ec63-81b5d0681d5b"
      },
      "outputs": [
        {
          "output_type": "stream",
          "name": "stdout",
          "text": [
            "Requirement already satisfied: selenium in /usr/local/lib/python3.7/dist-packages (4.1.0)\n",
            "Requirement already satisfied: trio~=0.17 in /usr/local/lib/python3.7/dist-packages (from selenium) (0.19.0)\n",
            "Requirement already satisfied: trio-websocket~=0.9 in /usr/local/lib/python3.7/dist-packages (from selenium) (0.9.2)\n",
            "Requirement already satisfied: urllib3[secure]~=1.26 in /usr/local/lib/python3.7/dist-packages (from selenium) (1.26.7)\n",
            "Requirement already satisfied: sniffio in /usr/local/lib/python3.7/dist-packages (from trio~=0.17->selenium) (1.2.0)\n",
            "Requirement already satisfied: idna in /usr/local/lib/python3.7/dist-packages (from trio~=0.17->selenium) (2.10)\n",
            "Requirement already satisfied: outcome in /usr/local/lib/python3.7/dist-packages (from trio~=0.17->selenium) (1.1.0)\n",
            "Requirement already satisfied: attrs>=19.2.0 in /usr/local/lib/python3.7/dist-packages (from trio~=0.17->selenium) (21.2.0)\n",
            "Requirement already satisfied: async-generator>=1.9 in /usr/local/lib/python3.7/dist-packages (from trio~=0.17->selenium) (1.10)\n",
            "Requirement already satisfied: sortedcontainers in /usr/local/lib/python3.7/dist-packages (from trio~=0.17->selenium) (2.4.0)\n",
            "Requirement already satisfied: wsproto>=0.14 in /usr/local/lib/python3.7/dist-packages (from trio-websocket~=0.9->selenium) (1.0.0)\n",
            "Requirement already satisfied: cryptography>=1.3.4 in /usr/local/lib/python3.7/dist-packages (from urllib3[secure]~=1.26->selenium) (36.0.0)\n",
            "Requirement already satisfied: certifi in /usr/local/lib/python3.7/dist-packages (from urllib3[secure]~=1.26->selenium) (2021.10.8)\n",
            "Requirement already satisfied: pyOpenSSL>=0.14 in /usr/local/lib/python3.7/dist-packages (from urllib3[secure]~=1.26->selenium) (21.0.0)\n",
            "Requirement already satisfied: cffi>=1.12 in /usr/local/lib/python3.7/dist-packages (from cryptography>=1.3.4->urllib3[secure]~=1.26->selenium) (1.15.0)\n",
            "Requirement already satisfied: pycparser in /usr/local/lib/python3.7/dist-packages (from cffi>=1.12->cryptography>=1.3.4->urllib3[secure]~=1.26->selenium) (2.21)\n",
            "Requirement already satisfied: six>=1.5.2 in /usr/local/lib/python3.7/dist-packages (from pyOpenSSL>=0.14->urllib3[secure]~=1.26->selenium) (1.15.0)\n",
            "Requirement already satisfied: h11<1,>=0.9.0 in /usr/local/lib/python3.7/dist-packages (from wsproto>=0.14->trio-websocket~=0.9->selenium) (0.12.0)\n"
          ]
        }
      ],
      "source": [
        "!pip install selenium"
      ]
    },
    {
      "cell_type": "code",
      "execution_count": 2,
      "metadata": {
        "colab": {
          "base_uri": "https://localhost:8080/"
        },
        "id": "9Zqih-MBIQPc",
        "outputId": "e185bb9a-9214-47a1-b4bc-dab96e2a84aa"
      },
      "outputs": [
        {
          "output_type": "stream",
          "name": "stdout",
          "text": [
            "Reading package lists... Done\n",
            "Building dependency tree       \n",
            "Reading state information... Done\n",
            "chromium-chromedriver is already the newest version (95.0.4638.69-0ubuntu0.18.04.1).\n",
            "0 upgraded, 0 newly installed, 0 to remove and 37 not upgraded.\n"
          ]
        }
      ],
      "source": [
        "!apt install chromium-chromedriver"
      ]
    },
    {
      "cell_type": "code",
      "execution_count": 3,
      "metadata": {
        "id": "vN8snPiTISpW",
        "colab": {
          "base_uri": "https://localhost:8080/"
        },
        "outputId": "8c68d6fe-e628-49a1-967a-7153dd4a6977"
      },
      "outputs": [
        {
          "output_type": "stream",
          "name": "stderr",
          "text": [
            "/usr/local/lib/python3.7/dist-packages/requests/__init__.py:91: RequestsDependencyWarning: urllib3 (1.26.7) or chardet (3.0.4) doesn't match a supported version!\n",
            "  RequestsDependencyWarning)\n"
          ]
        }
      ],
      "source": [
        "from selenium import webdriver\n",
        "from selenium.webdriver.common.keys import Keys\n",
        "import requests\n",
        "import numpy as np\n",
        "import pandas as pd\n",
        "from bs4 import BeautifulSoup\n",
        "from selenium.webdriver.support import expected_conditions as EC\n",
        "from selenium.webdriver.support.ui import WebDriverWait\n",
        "from selenium.webdriver.common.by import By\n",
        "from selenium.webdriver import ActionChains"
      ]
    },
    {
      "cell_type": "code",
      "execution_count": 4,
      "metadata": {
        "id": "kLaCpkLMIXxz"
      },
      "outputs": [],
      "source": [
        "options = webdriver.ChromeOptions()\n",
        "options.add_argument('--headless')\n",
        "options.add_argument('--no-sandbox')\n",
        "options.add_argument('--disable-dev-shm-usage')\n",
        "driver = webdriver.Chrome('chromedriver',options=options)"
      ]
    },
    {
      "cell_type": "markdown",
      "metadata": {
        "id": "XYc3hiAQKKgJ"
      },
      "source": [
        "## Login"
      ]
    },
    {
      "cell_type": "code",
      "execution_count": 5,
      "metadata": {
        "id": "_VXlbUMrJdyT"
      },
      "outputs": [],
      "source": [
        "driver.get(\"https://freightech.ambev.com.br/#/login\")"
      ]
    },
    {
      "cell_type": "code",
      "execution_count": 6,
      "metadata": {
        "colab": {
          "base_uri": "https://localhost:8080/"
        },
        "id": "mOqPb4IcKMSk",
        "outputId": "18412698-159f-404d-9c72-faa2ef297b91"
      },
      "outputs": [
        {
          "output_type": "stream",
          "name": "stderr",
          "text": [
            "/usr/local/lib/python3.7/dist-packages/ipykernel_launcher.py:1: DeprecationWarning: find_element_by_* commands are deprecated. Please use find_element() instead\n",
            "  \"\"\"Entry point for launching an IPython kernel.\n",
            "/usr/local/lib/python3.7/dist-packages/ipykernel_launcher.py:2: DeprecationWarning: find_element_by_* commands are deprecated. Please use find_element() instead\n",
            "  \n"
          ]
        },
        {
          "output_type": "stream",
          "name": "stdout",
          "text": [
            "Logged in Successfuly\n"
          ]
        },
        {
          "output_type": "stream",
          "name": "stderr",
          "text": [
            "/usr/local/lib/python3.7/dist-packages/ipykernel_launcher.py:7: DeprecationWarning: find_element_by_* commands are deprecated. Please use find_element() instead\n",
            "  import sys\n"
          ]
        }
      ],
      "source": [
        "username = driver.find_element_by_xpath(\"/html/body/app-root/ft-core-login/div/div/div/wac-input[1]/div/div/input\")\n",
        "password = driver.find_element_by_xpath(\"/html/body/app-root/ft-core-login/div/div/div/wac-input[2]/div/div/input\")\n",
        "\n",
        "username.send_keys(\"anne.pereira@operalog.com.br\")\n",
        "password.send_keys(\"55026170\")\n",
        "\n",
        "driver.find_element_by_xpath(\"/html/body/app-root/ft-core-login/div/div/div/wac-button[1]/button\").click()\n",
        "print(\"Logged in Successfuly\")"
      ]
    },
    {
      "cell_type": "markdown",
      "metadata": {
        "id": "HGErBeWL1OlM"
      },
      "source": [
        "## Extracts the dashboard HTML source code"
      ]
    },
    {
      "cell_type": "code",
      "execution_count": 7,
      "metadata": {
        "id": "QGUImf89qDt8"
      },
      "outputs": [],
      "source": [
        "# set implicit wait time\n",
        "driver.implicitly_wait(10) # seconds\n",
        "\n",
        "driver.get(\"https://freightech.ambev.com.br/#/dashboard\")"
      ]
    },
    {
      "cell_type": "code",
      "execution_count": 8,
      "metadata": {
        "id": "sNd951kvz6sK"
      },
      "outputs": [],
      "source": [
        "soup = BeautifulSoup(driver.page_source, 'html.parser')"
      ]
    },
    {
      "cell_type": "code",
      "source": [
        "driver.get"
      ],
      "metadata": {
        "id": "ukRSmtDKr7Uh"
      },
      "execution_count": null,
      "outputs": []
    },
    {
      "cell_type": "markdown",
      "metadata": {
        "id": "S9y-YgI43gc-"
      },
      "source": [
        "## Parse and Extract"
      ]
    },
    {
      "cell_type": "code",
      "source": [
        "temp1 = []\n",
        "menu = []\n",
        "\n",
        "for item in soup.find_all('ng-dropdown-panel',{'class': 'ng-dropdown-panel ng-star-inserted ng-select-bottom'}):\n",
        "  temp1.append(item)\n",
        "menu.append(temp1)\n",
        "menu"
      ],
      "metadata": {
        "colab": {
          "base_uri": "https://localhost:8080/"
        },
        "id": "WWQncHmqqtlH",
        "outputId": "cbd08c50-a61f-42c6-836f-fbc8625d62fb"
      },
      "execution_count": 16,
      "outputs": [
        {
          "output_type": "execute_result",
          "data": {
            "text/plain": [
              "[[]]"
            ]
          },
          "metadata": {},
          "execution_count": 16
        }
      ]
    },
    {
      "cell_type": "code",
      "source": [
        "# primeira data distribuição\n",
        "data = []\n",
        "temp = []\n",
        "for item in soup.find_all('div',{'class': 'box box-100'}):\n",
        "  temp.append(item.get_text())\n",
        "data.append(temp)\n",
        "data"
      ],
      "metadata": {
        "id": "Ipy9i5YzZDK7",
        "colab": {
          "base_uri": "https://localhost:8080/"
        },
        "outputId": "6ef39914-b44b-49fe-c745-8981083ee93d"
      },
      "execution_count": 18,
      "outputs": [
        {
          "output_type": "execute_result",
          "data": {
            "text/plain": [
              "[[' Vigência  RESTAM  10  dias ',\n",
              "  ' Chamados em aberto  0  CHAMADOS ROTA0ChamadosAS0Chamados',\n",
              "  ' Chamados resolvidos  30  CHAMADOS ROTA30ChamadosAS0Chamados',\n",
              "  ' Chamados pendentes  ROTA  0  chamados  AS  0  chamados APROVAR CHAMADOS',\n",
              "  ' Pendentes por alçada  GOD  0  chamados  CAMPO REGIONAL  0  chamados  AC PRODUTIVIDADE  0  chamados  AC CUSTOS  0  chamados ']]"
            ]
          },
          "metadata": {},
          "execution_count": 18
        }
      ]
    },
    {
      "cell_type": "code",
      "source": [
        ""
      ],
      "metadata": {
        "id": "bNqGkk73kP6l"
      },
      "execution_count": null,
      "outputs": []
    }
  ],
  "metadata": {
    "colab": {
      "name": "freightech.ipynb",
      "provenance": [],
      "authorship_tag": "ABX9TyP9PW4kVWqYBip3GmllzWhL",
      "include_colab_link": true
    },
    "kernelspec": {
      "display_name": "Python 3",
      "name": "python3"
    },
    "language_info": {
      "name": "python"
    }
  },
  "nbformat": 4,
  "nbformat_minor": 0
}