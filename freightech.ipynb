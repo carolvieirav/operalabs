{
  "cells": [
    {
      "cell_type": "markdown",
      "metadata": {
        "id": "view-in-github",
        "colab_type": "text"
      },
      "source": [
        "<a href=\"https://colab.research.google.com/github/carolvieirav/operalabs/blob/main/freightech.ipynb\" target=\"_parent\"><img src=\"https://colab.research.google.com/assets/colab-badge.svg\" alt=\"Open In Colab\"/></a>"
      ]
    },
    {
      "cell_type": "markdown",
      "metadata": {
        "id": "dHIh_iPvInW5"
      },
      "source": [
        "## Install & Import"
      ]
    },
    {
      "cell_type": "code",
      "execution_count": 173,
      "metadata": {
        "id": "gQY9QmOJH_6l",
        "colab": {
          "base_uri": "https://localhost:8080/"
        },
        "outputId": "fc4a80e3-d666-4bf0-c284-463804b6b020"
      },
      "outputs": [
        {
          "output_type": "stream",
          "name": "stdout",
          "text": [
            "Requirement already satisfied: selenium in /usr/local/lib/python3.7/dist-packages (4.1.0)\n",
            "Requirement already satisfied: trio-websocket~=0.9 in /usr/local/lib/python3.7/dist-packages (from selenium) (0.9.2)\n",
            "Requirement already satisfied: urllib3[secure]~=1.26 in /usr/local/lib/python3.7/dist-packages (from selenium) (1.26.7)\n",
            "Requirement already satisfied: trio~=0.17 in /usr/local/lib/python3.7/dist-packages (from selenium) (0.19.0)\n",
            "Requirement already satisfied: sortedcontainers in /usr/local/lib/python3.7/dist-packages (from trio~=0.17->selenium) (2.4.0)\n",
            "Requirement already satisfied: outcome in /usr/local/lib/python3.7/dist-packages (from trio~=0.17->selenium) (1.1.0)\n",
            "Requirement already satisfied: sniffio in /usr/local/lib/python3.7/dist-packages (from trio~=0.17->selenium) (1.2.0)\n",
            "Requirement already satisfied: async-generator>=1.9 in /usr/local/lib/python3.7/dist-packages (from trio~=0.17->selenium) (1.10)\n",
            "Requirement already satisfied: attrs>=19.2.0 in /usr/local/lib/python3.7/dist-packages (from trio~=0.17->selenium) (21.2.0)\n",
            "Requirement already satisfied: idna in /usr/local/lib/python3.7/dist-packages (from trio~=0.17->selenium) (2.10)\n",
            "Requirement already satisfied: wsproto>=0.14 in /usr/local/lib/python3.7/dist-packages (from trio-websocket~=0.9->selenium) (1.0.0)\n",
            "Requirement already satisfied: cryptography>=1.3.4 in /usr/local/lib/python3.7/dist-packages (from urllib3[secure]~=1.26->selenium) (36.0.0)\n",
            "Requirement already satisfied: pyOpenSSL>=0.14 in /usr/local/lib/python3.7/dist-packages (from urllib3[secure]~=1.26->selenium) (21.0.0)\n",
            "Requirement already satisfied: certifi in /usr/local/lib/python3.7/dist-packages (from urllib3[secure]~=1.26->selenium) (2021.10.8)\n",
            "Requirement already satisfied: cffi>=1.12 in /usr/local/lib/python3.7/dist-packages (from cryptography>=1.3.4->urllib3[secure]~=1.26->selenium) (1.15.0)\n",
            "Requirement already satisfied: pycparser in /usr/local/lib/python3.7/dist-packages (from cffi>=1.12->cryptography>=1.3.4->urllib3[secure]~=1.26->selenium) (2.21)\n",
            "Requirement already satisfied: six>=1.5.2 in /usr/local/lib/python3.7/dist-packages (from pyOpenSSL>=0.14->urllib3[secure]~=1.26->selenium) (1.15.0)\n",
            "Requirement already satisfied: h11<1,>=0.9.0 in /usr/local/lib/python3.7/dist-packages (from wsproto>=0.14->trio-websocket~=0.9->selenium) (0.12.0)\n"
          ]
        }
      ],
      "source": [
        "!pip install selenium"
      ]
    },
    {
      "cell_type": "code",
      "execution_count": 174,
      "metadata": {
        "id": "9Zqih-MBIQPc",
        "colab": {
          "base_uri": "https://localhost:8080/"
        },
        "outputId": "e2d7f88a-0caa-4d80-e195-3cead54fd503"
      },
      "outputs": [
        {
          "output_type": "stream",
          "name": "stdout",
          "text": [
            "Reading package lists... Done\n",
            "Building dependency tree       \n",
            "Reading state information... Done\n",
            "chromium-chromedriver is already the newest version (95.0.4638.69-0ubuntu0.18.04.1).\n",
            "0 upgraded, 0 newly installed, 0 to remove and 37 not upgraded.\n"
          ]
        }
      ],
      "source": [
        "!apt install chromium-chromedriver"
      ]
    },
    {
      "cell_type": "code",
      "execution_count": 175,
      "metadata": {
        "id": "vN8snPiTISpW"
      },
      "outputs": [],
      "source": [
        "from selenium import webdriver\n",
        "from selenium.webdriver.common.keys import Keys\n",
        "from selenium.webdriver.support import expected_conditions as EC\n",
        "from selenium.webdriver.support.ui import WebDriverWait\n",
        "from selenium.webdriver.common.by import By\n",
        "from selenium.webdriver import ActionChains\n",
        "from selenium.webdriver.common.action_chains import ActionChains\n",
        "from selenium.webdriver.support.ui import Select"
      ]
    },
    {
      "cell_type": "code",
      "source": [
        "import requests\n",
        "import numpy as np\n",
        "import pandas as pd\n",
        "from bs4 import BeautifulSoup\n",
        "import re"
      ],
      "metadata": {
        "id": "5u5Mv1zR3H0b"
      },
      "execution_count": 176,
      "outputs": []
    },
    {
      "cell_type": "code",
      "execution_count": 177,
      "metadata": {
        "id": "kLaCpkLMIXxz"
      },
      "outputs": [],
      "source": [
        "options = webdriver.ChromeOptions()\n",
        "options.add_argument('--headless')\n",
        "options.add_argument('--no-sandbox')\n",
        "options.add_argument('--disable-dev-shm-usage')"
      ]
    },
    {
      "cell_type": "markdown",
      "source": [
        "## class bot"
      ],
      "metadata": {
        "id": "A1llsu0Dzv_e"
      }
    },
    {
      "cell_type": "code",
      "source": [
        "class Bot:\n",
        "  \n",
        "  def __init__(self,username,password):\n",
        "    self.username = username\n",
        "    self.password = password\n",
        "    self.bot = webdriver.Chrome('chromedriver',options=options)\n",
        "\n",
        "  def login(self):\n",
        "    bot = self.bot\n",
        "    bot.get(\"https://freightech.ambev.com.br/#/login\")\n",
        "    bot.implicitly_wait(10) # seconds\n",
        "    email = bot.find_element_by_xpath(\"/html/body/app-root/ft-core-login/div/div/div/wac-input[1]/div/div/input\")\n",
        "    password = bot.find_element_by_xpath(\"/html/body/app-root/ft-core-login/div/div/div/wac-input[2]/div/div/input\")\n",
        "    email.clear()\n",
        "    password.clear()\n",
        "    email.send_keys(self.username)\n",
        "    password.send_keys(self.password)\n",
        "    bot.find_element_by_xpath(\"/html/body/app-root/ft-core-login/div/div/div/wac-button[1]/button\").click()\n",
        "    print(\"Logged in Successfuly\")"
      ],
      "metadata": {
        "id": "p62z6TcGzvCw"
      },
      "execution_count": 178,
      "outputs": []
    },
    {
      "cell_type": "code",
      "source": [
        "automate = Bot(\"anne.pereira@operalog.com.br\", \"55026170\") \n",
        "automate.login()"
      ],
      "metadata": {
        "id": "lKydSkHf54VN",
        "colab": {
          "base_uri": "https://localhost:8080/"
        },
        "outputId": "2dbb0879-55ab-489e-bdfe-ce9214e5e321"
      },
      "execution_count": 179,
      "outputs": [
        {
          "output_type": "stream",
          "name": "stderr",
          "text": [
            "/usr/local/lib/python3.7/dist-packages/ipykernel_launcher.py:12: DeprecationWarning: find_element_by_* commands are deprecated. Please use find_element() instead\n",
            "  if sys.path[0] == '':\n",
            "/usr/local/lib/python3.7/dist-packages/ipykernel_launcher.py:13: DeprecationWarning: find_element_by_* commands are deprecated. Please use find_element() instead\n",
            "  del sys.path[0]\n"
          ]
        },
        {
          "output_type": "stream",
          "name": "stdout",
          "text": [
            "Logged in Successfuly\n"
          ]
        },
        {
          "output_type": "stream",
          "name": "stderr",
          "text": [
            "/usr/local/lib/python3.7/dist-packages/ipykernel_launcher.py:18: DeprecationWarning: find_element_by_* commands are deprecated. Please use find_element() instead\n"
          ]
        }
      ]
    },
    {
      "cell_type": "markdown",
      "source": [
        "## dashboard"
      ],
      "metadata": {
        "id": "wsAB4XALDJ4I"
      }
    },
    {
      "cell_type": "code",
      "source": [
        "def meus_chamados(vigencia, chamadas_pen, chamadas_resol, chamadas_aber, pen_alcada):\n",
        "\n",
        "  ''' \n",
        "  Extract dashboard's data for pages \"distribuição\", \"apoio\" e \"T1\" and store \n",
        "  in a pandas dataframe.\n",
        "  '''\n",
        "\n",
        "  paths = [vigencia, chamadas_aber, chamadas_resol, chamadas_pen, pen_alcada]\n",
        "\n",
        "  data = []\n",
        "  for path in paths:\n",
        "    automate.bot.implicitly_wait(10) # seconds\n",
        "    elements = automate.bot.find_elements_by_xpath(path)\n",
        "    \n",
        "    for elem in elements:\n",
        "      automate.bot.implicitly_wait(10) # seconds\n",
        "      data.append(elem.text)\n",
        "  \n",
        "  # cleaning data with replace\n",
        "  data = [item.replace(\"\\n\", \" \") for item in data]\n",
        "  data[0] = data[0].replace('Vigência RESTAM ', '')\n",
        "  data[1] = data[1].replace('Chamados em aberto ','')\n",
        "  data[1] = data[1].replace(' Chamados', '')\n",
        "  data[2] = data[2].replace('Chamados resolvidos ','')\n",
        "  data[2] = data[2].replace(' Chamados', '')\n",
        "  data[3] = data[3].replace('Chamados pendentes ','')\n",
        "  data[3] = data[3].replace(' CHAMADOS', '')\n",
        "  data[3] = data[3].replace(' APROVAR', '')\n",
        "  data[4] = data[4].replace('Pendentes por alçada', '')\n",
        "  data[4] = data[4].replace(' CHAMADOS', '')\n",
        "\n",
        "  # transform data in pandas dataframe\n",
        "  data = [pd.Series(item) for item in data]\n",
        "  df = pd.DataFrame(data)\n",
        "  df = df.T\n",
        "  df = df.rename(columns={0:'Vigência', 1:\"Chamados em aberto\", 2:'Chamados resolvidos', 3:'Chamados pendentes', 4: 'Pendentes por alçada'}, inplace = False)\n",
        "  \n",
        "  return df"
      ],
      "metadata": {
        "id": "xD0qBVlYi8vv"
      },
      "execution_count": 8,
      "outputs": []
    },
    {
      "cell_type": "code",
      "source": [
        "# *bug* tags de distribuição retornam apenas a primeira data\n",
        "\n",
        "vigencia_dist =  '/html/body/app-root/ft-home/div/main/div/ft-dashboard/div[1]/div[2]/div[1]/wac-box/div'\n",
        "chamadas_aber_dist = '/html/body/app-root/ft-home/div/main/div/ft-dashboard/div[1]/div[2]/div[2]/wac-box/div'\n",
        "chamadas_resol_dist = '/html/body/app-root/ft-home/div/main/div/ft-dashboard/div[1]/div[2]/div[3]/wac-box/div'\n",
        "chamadas_pen_dist = '/html/body/app-root/ft-home/div/main/div/ft-dashboard/div[1]/div[3]/div[1]/wac-box/div'\n",
        "pen_alcada_dist = '/html/body/app-root/ft-home/div/main/div/ft-dashboard/div[1]/div[3]/div[2]/wac-box/div'\n",
        "\n",
        "dist = meus_chamados(vigencia_dist, chamadas_pen_dist, chamadas_resol_dist, chamadas_aber_dist, pen_alcada_dist)\n",
        "dist"
      ],
      "metadata": {
        "colab": {
          "base_uri": "https://localhost:8080/",
          "height": 135
        },
        "id": "TitZfaND5l_T",
        "outputId": "2530ceb4-6832-4525-a1ee-b12225bbc661"
      },
      "execution_count": 9,
      "outputs": [
        {
          "output_type": "stream",
          "name": "stderr",
          "text": [
            "/usr/local/lib/python3.7/dist-packages/ipykernel_launcher.py:13: DeprecationWarning: find_elements_by_* commands are deprecated. Please use find_elements() instead\n",
            "  del sys.path[0]\n"
          ]
        },
        {
          "output_type": "execute_result",
          "data": {
            "text/html": [
              "<div>\n",
              "<style scoped>\n",
              "    .dataframe tbody tr th:only-of-type {\n",
              "        vertical-align: middle;\n",
              "    }\n",
              "\n",
              "    .dataframe tbody tr th {\n",
              "        vertical-align: top;\n",
              "    }\n",
              "\n",
              "    .dataframe thead th {\n",
              "        text-align: right;\n",
              "    }\n",
              "</style>\n",
              "<table border=\"1\" class=\"dataframe\">\n",
              "  <thead>\n",
              "    <tr style=\"text-align: right;\">\n",
              "      <th></th>\n",
              "      <th>Vigência</th>\n",
              "      <th>Chamados em aberto</th>\n",
              "      <th>Chamados resolvidos</th>\n",
              "      <th>Chamados pendentes</th>\n",
              "      <th>Pendentes por alçada</th>\n",
              "    </tr>\n",
              "  </thead>\n",
              "  <tbody>\n",
              "    <tr>\n",
              "      <th>0</th>\n",
              "      <td>8 DIAS</td>\n",
              "      <td>0 CHAMADOS ROTA 0 AS 0</td>\n",
              "      <td>30 CHAMADOS ROTA 30 AS 0</td>\n",
              "      <td>ROTA 0 AS 0</td>\n",
              "      <td>GOD 0 CAMPO REGIONAL 0 AC PRODUTIVIDADE 0 AC ...</td>\n",
              "    </tr>\n",
              "  </tbody>\n",
              "</table>\n",
              "</div>"
            ],
            "text/plain": [
              "  Vigência  ...                               Pendentes por alçada\n",
              "0   8 DIAS  ...   GOD 0 CAMPO REGIONAL 0 AC PRODUTIVIDADE 0 AC ...\n",
              "\n",
              "[1 rows x 5 columns]"
            ]
          },
          "metadata": {},
          "execution_count": 9
        }
      ]
    },
    {
      "cell_type": "code",
      "source": [
        "# *bug* tags do apoio retornam dados da aba distibuição\n",
        "\n",
        "vigencia_apoio =  '/html/body/app-root/ft-home/div/main/div/ft-dashboard/div[1]/div[2]/div[1]/wac-box/div'\n",
        "chamadas_aber_apoio = '/html/body/app-root/ft-home/div/main/div/ft-dashboard/div[1]/div[2]/div[2]/wac-box/div'\n",
        "chamadas_resol_apoio = '/html/body/app-root/ft-home/div/main/div/ft-dashboard/div[1]/div[2]/div[3]/wac-box/div'\n",
        "chamadas_pen_apoio = '/html/body/app-root/ft-home/div/main/div/ft-dashboard/div[1]/div[3]/div[1]/wac-box/div'\n",
        "pen_alcada_apoio = '/html/body/app-root/ft-home/div/main/div/ft-dashboard/div[1]/div[3]/div[2]/wac-box/div'\n",
        "\n",
        "meus_chamados(vigencia_apoio, chamadas_pen_apoio, chamadas_resol_apoio, chamadas_aber_apoio, pen_alcada_apoio)"
      ],
      "metadata": {
        "colab": {
          "base_uri": "https://localhost:8080/",
          "height": 135
        },
        "id": "1GirXhaU0XqT",
        "outputId": "aa2c02e8-1813-4fff-ec56-97086bfc8dab"
      },
      "execution_count": 10,
      "outputs": [
        {
          "output_type": "stream",
          "name": "stderr",
          "text": [
            "/usr/local/lib/python3.7/dist-packages/ipykernel_launcher.py:13: DeprecationWarning: find_elements_by_* commands are deprecated. Please use find_elements() instead\n",
            "  del sys.path[0]\n"
          ]
        },
        {
          "output_type": "execute_result",
          "data": {
            "text/html": [
              "<div>\n",
              "<style scoped>\n",
              "    .dataframe tbody tr th:only-of-type {\n",
              "        vertical-align: middle;\n",
              "    }\n",
              "\n",
              "    .dataframe tbody tr th {\n",
              "        vertical-align: top;\n",
              "    }\n",
              "\n",
              "    .dataframe thead th {\n",
              "        text-align: right;\n",
              "    }\n",
              "</style>\n",
              "<table border=\"1\" class=\"dataframe\">\n",
              "  <thead>\n",
              "    <tr style=\"text-align: right;\">\n",
              "      <th></th>\n",
              "      <th>Vigência</th>\n",
              "      <th>Chamados em aberto</th>\n",
              "      <th>Chamados resolvidos</th>\n",
              "      <th>Chamados pendentes</th>\n",
              "      <th>Pendentes por alçada</th>\n",
              "    </tr>\n",
              "  </thead>\n",
              "  <tbody>\n",
              "    <tr>\n",
              "      <th>0</th>\n",
              "      <td>8 DIAS</td>\n",
              "      <td>0 CHAMADOS ROTA 0 AS 0</td>\n",
              "      <td>30 CHAMADOS ROTA 30 AS 0</td>\n",
              "      <td>ROTA 0 AS 0</td>\n",
              "      <td>GOD 0 CAMPO REGIONAL 0 AC PRODUTIVIDADE 0 AC ...</td>\n",
              "    </tr>\n",
              "  </tbody>\n",
              "</table>\n",
              "</div>"
            ],
            "text/plain": [
              "  Vigência  ...                               Pendentes por alçada\n",
              "0   8 DIAS  ...   GOD 0 CAMPO REGIONAL 0 AC PRODUTIVIDADE 0 AC ...\n",
              "\n",
              "[1 rows x 5 columns]"
            ]
          },
          "metadata": {},
          "execution_count": 10
        }
      ]
    },
    {
      "cell_type": "code",
      "source": [
        "vigencia_t1 =  '/html/body/app-root/ft-home/div/main/div/ft-dashboard/div[1]/div[2]/div[1]/wac-box/div'\n",
        "chamadas_aber_t1 = '/html/body/app-root/ft-home/div/main/div/ft-dashboard/div[1]/div[2]/div[2]/wac-box/div'\n",
        "chamadas_resol_t1 = '/html/body/app-root/ft-home/div/main/div/ft-dashboard/div[1]/div[2]/div[3]/wac-box/div'\n",
        "chamadas_pen_t1 = '/html/body/app-root/ft-home/div/main/div/ft-dashboard/div[1]/div[3]/div[1]/wac-box/div'\n",
        "pen_alcada_t1 = '/html/body/app-root/ft-home/div/main/div/ft-dashboard/div[1]/div[3]/div[2]/wac-box/div'\n",
        "\n",
        "meus_chamados(vigencia_t1, chamadas_pen_t1, chamadas_resol_t1, chamadas_aber_t1, pen_alcada_t1)"
      ],
      "metadata": {
        "colab": {
          "base_uri": "https://localhost:8080/",
          "height": 135
        },
        "id": "sbZ0M5bg0YWY",
        "outputId": "a50d33b7-82e0-4005-fd74-927d6823b64e"
      },
      "execution_count": 11,
      "outputs": [
        {
          "output_type": "stream",
          "name": "stderr",
          "text": [
            "/usr/local/lib/python3.7/dist-packages/ipykernel_launcher.py:13: DeprecationWarning: find_elements_by_* commands are deprecated. Please use find_elements() instead\n",
            "  del sys.path[0]\n"
          ]
        },
        {
          "output_type": "execute_result",
          "data": {
            "text/html": [
              "<div>\n",
              "<style scoped>\n",
              "    .dataframe tbody tr th:only-of-type {\n",
              "        vertical-align: middle;\n",
              "    }\n",
              "\n",
              "    .dataframe tbody tr th {\n",
              "        vertical-align: top;\n",
              "    }\n",
              "\n",
              "    .dataframe thead th {\n",
              "        text-align: right;\n",
              "    }\n",
              "</style>\n",
              "<table border=\"1\" class=\"dataframe\">\n",
              "  <thead>\n",
              "    <tr style=\"text-align: right;\">\n",
              "      <th></th>\n",
              "      <th>Vigência</th>\n",
              "      <th>Chamados em aberto</th>\n",
              "      <th>Chamados resolvidos</th>\n",
              "      <th>Chamados pendentes</th>\n",
              "      <th>Pendentes por alçada</th>\n",
              "    </tr>\n",
              "  </thead>\n",
              "  <tbody>\n",
              "    <tr>\n",
              "      <th>0</th>\n",
              "      <td>8 DIAS</td>\n",
              "      <td>0 CHAMADOS ROTA 0 AS 0</td>\n",
              "      <td>30 CHAMADOS ROTA 30 AS 0</td>\n",
              "      <td>ROTA 0 AS 0</td>\n",
              "      <td>GOD 0 CAMPO REGIONAL 0 AC PRODUTIVIDADE 0 AC ...</td>\n",
              "    </tr>\n",
              "  </tbody>\n",
              "</table>\n",
              "</div>"
            ],
            "text/plain": [
              "  Vigência  ...                               Pendentes por alçada\n",
              "0   8 DIAS  ...   GOD 0 CAMPO REGIONAL 0 AC PRODUTIVIDADE 0 AC ...\n",
              "\n",
              "[1 rows x 5 columns]"
            ]
          },
          "metadata": {},
          "execution_count": 11
        }
      ]
    },
    {
      "cell_type": "code",
      "source": [
        ""
      ],
      "metadata": {
        "id": "4HzzMWmqFZ8k"
      },
      "execution_count": null,
      "outputs": []
    },
    {
      "cell_type": "markdown",
      "source": [
        "## meus chamados"
      ],
      "metadata": {
        "id": "u8aBDje0Faut"
      }
    },
    {
      "cell_type": "code",
      "source": [
        "automate.bot.implicitly_wait(10) # seconds\n",
        "automate.bot.get(\"https://freightech.ambev.com.br/#/meus-chamados\")"
      ],
      "metadata": {
        "id": "gMBn5UqUFemE"
      },
      "execution_count": 180,
      "outputs": []
    },
    {
      "cell_type": "code",
      "source": [
        "rows = 1+len(automate.bot.find_elements_by_xpath(\"/html/body/app-root/ft-home/div/main/div/wac-meus-chamados/div[3]/div/ft-meus-chamados-detalhes/table/tbody/tr\"))"
      ],
      "metadata": {
        "id": "9myaIdx5MsfH",
        "outputId": "c60405b9-ef8c-442f-9f30-63f5f374fb70",
        "colab": {
          "base_uri": "https://localhost:8080/"
        }
      },
      "execution_count": 181,
      "outputs": [
        {
          "output_type": "stream",
          "name": "stderr",
          "text": [
            "/usr/local/lib/python3.7/dist-packages/ipykernel_launcher.py:1: DeprecationWarning: find_elements_by_* commands are deprecated. Please use find_elements() instead\n",
            "  \"\"\"Entry point for launching an IPython kernel.\n"
          ]
        }
      ]
    },
    {
      "cell_type": "code",
      "source": [
        "cols=len(automate.bot.find_elements_by_xpath(\"/html/body/app-root/ft-home/div/main/div/wac-meus-chamados/div[3]/div/ft-meus-chamados-detalhes/table/tbody/tr/td\"))"
      ],
      "metadata": {
        "id": "cZdUqmvbUkSL",
        "outputId": "03d5b0c1-b50b-4cd5-e548-388db90f0036",
        "colab": {
          "base_uri": "https://localhost:8080/"
        }
      },
      "execution_count": 182,
      "outputs": [
        {
          "output_type": "stream",
          "name": "stderr",
          "text": [
            "/usr/local/lib/python3.7/dist-packages/ipykernel_launcher.py:1: DeprecationWarning: find_elements_by_* commands are deprecated. Please use find_elements() instead\n",
            "  \"\"\"Entry point for launching an IPython kernel.\n"
          ]
        }
      ]
    },
    {
      "cell_type": "code",
      "source": [
        "print(rows)\n",
        "print(cols)"
      ],
      "metadata": {
        "id": "D696dTXWdODT",
        "outputId": "5811a96e-b8ea-4e1c-bd3a-7122a6daf0db",
        "colab": {
          "base_uri": "https://localhost:8080/"
        }
      },
      "execution_count": 183,
      "outputs": [
        {
          "output_type": "stream",
          "name": "stdout",
          "text": [
            "1\n",
            "0\n"
          ]
        }
      ]
    },
    {
      "cell_type": "code",
      "source": [
        "for r in range(2, rows+1):\n",
        "  for p in range(1, cols+1):\n",
        "    value = automate.bot.find_element_by_xpath(\"/html/body/app-root/ft-home/div/main/div/wac-meus-chamados/div[3]/div/ft-meus-chamados-detalhes/table/tbody/tr['+str(r)+']/td['+str(p)+']\")"
      ],
      "metadata": {
        "id": "z3oGrHscavDj"
      },
      "execution_count": 164,
      "outputs": []
    },
    {
      "cell_type": "markdown",
      "source": [
        "## categoria chamados"
      ],
      "metadata": {
        "id": "JxK2DSrrG8C_"
      }
    },
    {
      "cell_type": "code",
      "source": [
        "def categorias_chamados():\n",
        "\n",
        "  '''\n",
        "  Extract the table from categoria dos chamados's page and store in a Pandas DataFrame \n",
        "  '''\n",
        "\n",
        "  automate.bot.implicitly_wait(10) # seconds\n",
        "  automate.bot.get(\"https://freightech.ambev.com.br/#/categoria-chamados\")\n",
        "\n",
        "  automate.bot.implicitly_wait(10) # seconds\n",
        "  table = automate.bot.find_elements_by_xpath('/html/body/app-root/ft-home/div/main/div/ft-categoria-chamados/div/div/div/div')\n",
        "\n",
        "  table_data = []\n",
        "  for item in table:\n",
        "    table_data.append(item.text)\n",
        "\n",
        "  table_data = [item.replace(\"\\n\", \" \") for item in table_data]\n",
        "\n",
        "  table_data = table_data[0].strip()\n",
        "  table_data = re.split(\" [1-9]. \", table_data)\n",
        "  teste = [item.split(\"[0-9]{4}-[0-9]{2}-[0-9]{2}T[0-9]{2}:[0-9]{2}:[0-9]{2}.[0-9]{3}\") for item in table_data]\n",
        "  table_data = [re.split(\"([0-9]{4}-[0-9]{2}-[0-9]{2}T[0-9]{2}:[0-9]{2}:[0-9]{2}.[0-9]{3})\", item) for item in table_data]\n",
        "\n",
        "  table_data[0][0] = table_data[0][0].split()\n",
        "  table_data[0][0].pop(-1)\n",
        "  table_data[0][0].pop(-2)\n",
        "  table_data[0] = table_data[0][0]\n",
        "\n",
        "  table_data = [pd.Series(item) for item in table_data]\n",
        "  table_categories = pd.DataFrame(table_data)\n",
        "  table_categories.columns = table_categories.iloc[0]\n",
        "  table_categories = table_categories.drop(axis=0, index=0)\n",
        "\n",
        "  return table_categories"
      ],
      "metadata": {
        "id": "RN7c6PoOFo7U"
      },
      "execution_count": 116,
      "outputs": []
    },
    {
      "cell_type": "code",
      "source": [
        "categorias_chamados()"
      ],
      "metadata": {
        "id": "OO4eG2iVD5FA",
        "outputId": "74b2ad2b-de76-484c-82cc-391615c504b8",
        "colab": {
          "base_uri": "https://localhost:8080/",
          "height": 386
        }
      },
      "execution_count": 117,
      "outputs": [
        {
          "output_type": "stream",
          "name": "stderr",
          "text": [
            "/usr/local/lib/python3.7/dist-packages/ipykernel_launcher.py:11: DeprecationWarning: find_elements_by_* commands are deprecated. Please use find_elements() instead\n",
            "  # This is added back by InteractiveShellApp.init_path()\n"
          ]
        },
        {
          "output_type": "execute_result",
          "data": {
            "text/html": [
              "<div>\n",
              "<style scoped>\n",
              "    .dataframe tbody tr th:only-of-type {\n",
              "        vertical-align: middle;\n",
              "    }\n",
              "\n",
              "    .dataframe tbody tr th {\n",
              "        vertical-align: top;\n",
              "    }\n",
              "\n",
              "    .dataframe thead th {\n",
              "        text-align: right;\n",
              "    }\n",
              "</style>\n",
              "<table border=\"1\" class=\"dataframe\">\n",
              "  <thead>\n",
              "    <tr style=\"text-align: right;\">\n",
              "      <th></th>\n",
              "      <th>Nome</th>\n",
              "      <th>Data</th>\n",
              "      <th>Usuário</th>\n",
              "    </tr>\n",
              "  </thead>\n",
              "  <tbody>\n",
              "    <tr>\n",
              "      <th>1</th>\n",
              "      <td>Sem evidência</td>\n",
              "      <td>2021-05-13T08:58:05.495</td>\n",
              "      <td>Nathalia Fernanda Viana Rodrigues</td>\n",
              "    </tr>\n",
              "    <tr>\n",
              "      <th>2</th>\n",
              "      <td>Evidência incorreta</td>\n",
              "      <td>2021-05-13T08:58:18.443</td>\n",
              "      <td>Nathalia Fernanda Viana Rodrigues</td>\n",
              "    </tr>\n",
              "    <tr>\n",
              "      <th>3</th>\n",
              "      <td>Sem evidência de validação</td>\n",
              "      <td>2021-05-13T08:58:36.966</td>\n",
              "      <td>Nathalia Fernanda Viana Rodrigues</td>\n",
              "    </tr>\n",
              "    <tr>\n",
              "      <th>4</th>\n",
              "      <td>Sem aprovação prévia do GOD ou Regional via Fr...</td>\n",
              "      <td>2021-05-13T08:59:09.611</td>\n",
              "      <td>Nathalia Fernanda Viana Rodrigues</td>\n",
              "    </tr>\n",
              "    <tr>\n",
              "      <th>5</th>\n",
              "      <td>Ajuste realizado de forma centralizada</td>\n",
              "      <td>2021-05-13T08:59:28.682</td>\n",
              "      <td>Nathalia Fernanda Viana Rodrigues</td>\n",
              "    </tr>\n",
              "    <tr>\n",
              "      <th>6</th>\n",
              "      <td>Divergência entre valor solicitado x valor da ...</td>\n",
              "      <td>2021-05-13T08:59:55.044</td>\n",
              "      <td>Nathalia Fernanda Viana Rodrigues</td>\n",
              "    </tr>\n",
              "    <tr>\n",
              "      <th>7</th>\n",
              "      <td>Abertura deve ser feita pelo Sisnec</td>\n",
              "      <td>2021-05-13T09:00:13.265</td>\n",
              "      <td>Nathalia Fernanda Viana Rodrigues</td>\n",
              "    </tr>\n",
              "    <tr>\n",
              "      <th>8</th>\n",
              "      <td>Campo incorreto</td>\n",
              "      <td>2021-05-13T09:00:21.916</td>\n",
              "      <td>Nathalia Fernanda Viana Rodrigues</td>\n",
              "    </tr>\n",
              "    <tr>\n",
              "      <th>9</th>\n",
              "      <td>Outros</td>\n",
              "      <td>2021-05-14T10:50:23.645</td>\n",
              "      <td>Sergi Blabia Garriga 1 para 9 de 9 Página 1 de 1</td>\n",
              "    </tr>\n",
              "  </tbody>\n",
              "</table>\n",
              "</div>"
            ],
            "text/plain": [
              "0                                               Nome  ...                                            Usuário\n",
              "1                                     Sem evidência   ...                  Nathalia Fernanda Viana Rodrigues\n",
              "2                               Evidência incorreta   ...                  Nathalia Fernanda Viana Rodrigues\n",
              "3                        Sem evidência de validação   ...                  Nathalia Fernanda Viana Rodrigues\n",
              "4  Sem aprovação prévia do GOD ou Regional via Fr...  ...                  Nathalia Fernanda Viana Rodrigues\n",
              "5            Ajuste realizado de forma centralizada   ...                  Nathalia Fernanda Viana Rodrigues\n",
              "6  Divergência entre valor solicitado x valor da ...  ...                  Nathalia Fernanda Viana Rodrigues\n",
              "7               Abertura deve ser feita pelo Sisnec   ...                  Nathalia Fernanda Viana Rodrigues\n",
              "8                                   Campo incorreto   ...                  Nathalia Fernanda Viana Rodrigues\n",
              "9                                            Outros   ...   Sergi Blabia Garriga 1 para 9 de 9 Página 1 de 1\n",
              "\n",
              "[9 rows x 3 columns]"
            ]
          },
          "metadata": {},
          "execution_count": 117
        }
      ]
    },
    {
      "cell_type": "markdown",
      "source": [
        "## Exportação"
      ],
      "metadata": {
        "id": "ypmkY02ArXLl"
      }
    },
    {
      "cell_type": "code",
      "source": [
        "# set implicit wait time\n",
        "driver.implicitly_wait(10) # seconds\n",
        "\n",
        "driver.get(\"https://freightech.ambev.com.br/#/exportacao-dados\")\n",
        "soup = BeautifulSoup(driver.page_source, 'html.parser')"
      ],
      "metadata": {
        "id": "3jy0Unviru51"
      },
      "execution_count": null,
      "outputs": []
    },
    {
      "cell_type": "code",
      "source": [
        "modelo = [item.get_text() for item in soup.find_all('p',{'class': \"card-fav card-fav-custom no-fav is-selected\"})]\n",
        "modelo"
      ],
      "metadata": {
        "colab": {
          "base_uri": "https://localhost:8080/"
        },
        "id": "ajaV4Gm_se9P",
        "outputId": "b3e61e9a-1117-452f-f51f-1c2a755a6064"
      },
      "execution_count": null,
      "outputs": [
        {
          "output_type": "execute_result",
          "data": {
            "text/plain": [
              "[]"
            ]
          },
          "metadata": {},
          "execution_count": 242
        }
      ]
    },
    {
      "cell_type": "code",
      "source": [
        ""
      ],
      "metadata": {
        "id": "dOh3OMPpubtC"
      },
      "execution_count": null,
      "outputs": []
    }
  ],
  "metadata": {
    "colab": {
      "name": "freightech.ipynb",
      "provenance": [],
      "collapsed_sections": [
        "dHIh_iPvInW5",
        "XYc3hiAQKKgJ"
      ],
      "authorship_tag": "ABX9TyMOjl3icGDjUGUvB7RVDyb7",
      "include_colab_link": true
    },
    "kernelspec": {
      "display_name": "Python 3",
      "name": "python3"
    },
    "language_info": {
      "name": "python"
    }
  },
  "nbformat": 4,
  "nbformat_minor": 0
}