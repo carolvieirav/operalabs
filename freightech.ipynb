{
  "cells": [
    {
      "cell_type": "markdown",
      "metadata": {
        "id": "view-in-github",
        "colab_type": "text"
      },
      "source": [
        "<a href=\"https://colab.research.google.com/github/carolvieirav/operalabs/blob/main/freightech.ipynb\" target=\"_parent\"><img src=\"https://colab.research.google.com/assets/colab-badge.svg\" alt=\"Open In Colab\"/></a>"
      ]
    },
    {
      "cell_type": "markdown",
      "metadata": {
        "id": "dHIh_iPvInW5"
      },
      "source": [
        "## Install & Import"
      ]
    },
    {
      "cell_type": "code",
      "execution_count": null,
      "metadata": {
        "id": "gQY9QmOJH_6l"
      },
      "outputs": [],
      "source": [
        "!pip install selenium"
      ]
    },
    {
      "cell_type": "code",
      "execution_count": null,
      "metadata": {
        "id": "9Zqih-MBIQPc"
      },
      "outputs": [],
      "source": [
        "!apt install chromium-chromedriver"
      ]
    },
    {
      "cell_type": "code",
      "execution_count": 33,
      "metadata": {
        "id": "vN8snPiTISpW"
      },
      "outputs": [],
      "source": [
        "from selenium import webdriver\n",
        "from selenium.webdriver.common.keys import Keys\n",
        "from selenium.webdriver.support import expected_conditions as EC\n",
        "from selenium.webdriver.support.ui import WebDriverWait\n",
        "from selenium.webdriver.common.by import By\n",
        "from selenium.webdriver import ActionChains\n",
        "from selenium.webdriver.common.action_chains import ActionChains\n",
        "from selenium.webdriver.support.ui import Select"
      ]
    },
    {
      "cell_type": "code",
      "source": [
        "import requests\n",
        "import numpy as np\n",
        "import pandas as pd\n",
        "from bs4 import BeautifulSoup"
      ],
      "metadata": {
        "id": "5u5Mv1zR3H0b",
        "outputId": "c8095cdc-d96d-4b0c-9e64-a4fc8810e88d",
        "colab": {
          "base_uri": "https://localhost:8080/"
        }
      },
      "execution_count": 4,
      "outputs": [
        {
          "output_type": "stream",
          "name": "stderr",
          "text": [
            "/usr/local/lib/python3.7/dist-packages/requests/__init__.py:91: RequestsDependencyWarning: urllib3 (1.26.7) or chardet (3.0.4) doesn't match a supported version!\n",
            "  RequestsDependencyWarning)\n"
          ]
        }
      ]
    },
    {
      "cell_type": "code",
      "execution_count": 6,
      "metadata": {
        "id": "kLaCpkLMIXxz"
      },
      "outputs": [],
      "source": [
        "options = webdriver.ChromeOptions()\n",
        "options.add_argument('--headless')\n",
        "options.add_argument('--no-sandbox')\n",
        "options.add_argument('--disable-dev-shm-usage')"
      ]
    },
    {
      "cell_type": "markdown",
      "source": [
        "## class bot"
      ],
      "metadata": {
        "id": "A1llsu0Dzv_e"
      }
    },
    {
      "cell_type": "code",
      "source": [
        "class Bot:\n",
        "  \n",
        "  def __init__(self,username,password):\n",
        "    self.username = username\n",
        "    self.password = password\n",
        "    self.bot = webdriver.Chrome('chromedriver',options=options)\n",
        "\n",
        "  def login(self):\n",
        "    bot = self.bot\n",
        "    bot.get(\"https://freightech.ambev.com.br/#/login\")\n",
        "    bot.implicitly_wait(10) # seconds\n",
        "    email = bot.find_element_by_xpath(\"/html/body/app-root/ft-core-login/div/div/div/wac-input[1]/div/div/input\")\n",
        "    password = bot.find_element_by_xpath(\"/html/body/app-root/ft-core-login/div/div/div/wac-input[2]/div/div/input\")\n",
        "    email.clear()\n",
        "    password.clear()\n",
        "    email.send_keys(self.username)\n",
        "    password.send_keys(self.password)\n",
        "    bot.find_element_by_xpath(\"/html/body/app-root/ft-core-login/div/div/div/wac-button[1]/button\").click()\n",
        "    print(\"Logged in Successfuly\")"
      ],
      "metadata": {
        "id": "p62z6TcGzvCw"
      },
      "execution_count": 100,
      "outputs": []
    },
    {
      "cell_type": "code",
      "source": [
        "automate = Bot(\"anne.pereira@operalog.com.br\", \"55026170\") \n",
        "automate.login()"
      ],
      "metadata": {
        "id": "lKydSkHf54VN"
      },
      "execution_count": null,
      "outputs": []
    },
    {
      "cell_type": "code",
      "source": [
        "vigencia_dist =  '/html/body/app-root/ft-home/div/main/div/ft-dashboard/div[1]/div[2]/div[1]/wac-box/div'\n",
        "chamadas_aber_dist = '/html/body/app-root/ft-home/div/main/div/ft-dashboard/div[1]/div[2]/div[2]/wac-box/div'\n",
        "chamadas_resol_dist = '/html/body/app-root/ft-home/div/main/div/ft-dashboard/div[1]/div[2]/div[3]/wac-box/div'\n",
        "chamadas_pen_dist = '/html/body/app-root/ft-home/div/main/div/ft-dashboard/div[1]/div[3]/div[1]/wac-box/div'\n",
        "pen_alcada_dist = '/html/body/app-root/ft-home/div/main/div/ft-dashboard/div[1]/div[3]/div[2]/wac-box/div'\n",
        "\n",
        "\n",
        "def meus_chamados(vigencia, chamadas_pen, chamadas_resol, chamadas_aber, pen_alcada):\n",
        "\n",
        "  ''' \n",
        "  Extract dashboard's data for pages \"distribuição\", \"apoio\" e \"T1\" and store \n",
        "  in a pandas dataframe.\n",
        "  '''\n",
        "\n",
        "  paths = [vigencia, chamadas_pen, chamadas_resol, chamadas_aber, pen_alcada]\n",
        "\n",
        "  data = []\n",
        "  for path in paths:\n",
        "    elements = automate.bot.find_elements_by_xpath(path)\n",
        "    \n",
        "    for elem in elements:\n",
        "      automate.bot.implicitly_wait(10) # seconds\n",
        "      data.append(elem.text)\n",
        "      \n",
        "  data = [item.replace(\"\\n\", \" \") for item in data]\n",
        "  #data = [pd.Series(item) for item in data]\n",
        "\n",
        "  #df = pd.DataFrame(data)\n",
        "  #df = df.T\n",
        "\n",
        "  return \n",
        "\n",
        "meus_chamados(vigencia_dist, chamadas_pen_dist, chamadas_resol_dist, chamadas_aber_dist, pen_alcada_dist)"
      ],
      "metadata": {
        "id": "xD0qBVlYi8vv",
        "outputId": "4cc7f1be-3231-493d-dd73-6f86c468cc4a",
        "colab": {
          "base_uri": "https://localhost:8080/",
          "height": 135
        }
      },
      "execution_count": 122,
      "outputs": [
        {
          "output_type": "stream",
          "name": "stderr",
          "text": [
            "/usr/local/lib/python3.7/dist-packages/ipykernel_launcher.py:18: DeprecationWarning: find_elements_by_* commands are deprecated. Please use find_elements() instead\n"
          ]
        },
        {
          "output_type": "execute_result",
          "data": {
            "text/html": [
              "<div>\n",
              "<style scoped>\n",
              "    .dataframe tbody tr th:only-of-type {\n",
              "        vertical-align: middle;\n",
              "    }\n",
              "\n",
              "    .dataframe tbody tr th {\n",
              "        vertical-align: top;\n",
              "    }\n",
              "\n",
              "    .dataframe thead th {\n",
              "        text-align: right;\n",
              "    }\n",
              "</style>\n",
              "<table border=\"1\" class=\"dataframe\">\n",
              "  <thead>\n",
              "    <tr style=\"text-align: right;\">\n",
              "      <th></th>\n",
              "      <th>0</th>\n",
              "      <th>1</th>\n",
              "      <th>2</th>\n",
              "      <th>3</th>\n",
              "      <th>4</th>\n",
              "    </tr>\n",
              "  </thead>\n",
              "  <tbody>\n",
              "    <tr>\n",
              "      <th>0</th>\n",
              "      <td>Vigência RESTAM 9 DIAS</td>\n",
              "      <td>Chamados pendentes ROTA 0 CHAMADOS AS 0 CHAMAD...</td>\n",
              "      <td>Chamados resolvidos 30 CHAMADOS ROTA 30 Chamad...</td>\n",
              "      <td>Chamados em aberto 0 CHAMADOS ROTA 0 Chamados ...</td>\n",
              "      <td>Pendentes por alçada GOD 0 CHAMADOS CAMPO REGI...</td>\n",
              "    </tr>\n",
              "  </tbody>\n",
              "</table>\n",
              "</div>"
            ],
            "text/plain": [
              "                        0  ...                                                  4\n",
              "0  Vigência RESTAM 9 DIAS  ...  Pendentes por alçada GOD 0 CHAMADOS CAMPO REGI...\n",
              "\n",
              "[1 rows x 5 columns]"
            ]
          },
          "metadata": {},
          "execution_count": 122
        }
      ]
    },
    {
      "cell_type": "markdown",
      "source": [
        "## categoria chamados"
      ],
      "metadata": {
        "id": "JxK2DSrrG8C_"
      }
    },
    {
      "cell_type": "code",
      "source": [
        "# set implicit wait time\n",
        "driver.implicitly_wait(10) # seconds\n",
        "\n",
        "driver.get(\"https://freightech.ambev.com.br/#/categoria-chamados\")"
      ],
      "metadata": {
        "id": "R43bxSsMG-KB"
      },
      "execution_count": 220,
      "outputs": []
    },
    {
      "cell_type": "code",
      "source": [
        "soup = BeautifulSoup(driver.page_source, 'html.parser')"
      ],
      "metadata": {
        "id": "c8Jw1viLHbt3"
      },
      "execution_count": 221,
      "outputs": []
    },
    {
      "cell_type": "code",
      "source": [
        "def columns_category():\n",
        "  columns = [item.get_text().strip(\"\\n\") for item in soup.find_all('div',{'class': \"ag-header-container\"})]\n",
        "  columns[0].replace(\"\\n\", \" \")\n",
        "  columns= columns[0].split()\n",
        "  columns.pop(-2)\n",
        "  columns.pop(-3)\n",
        "  print(columns)\n",
        "\n",
        "columns_category()"
      ],
      "metadata": {
        "id": "0WW3Jbx4B4E7",
        "outputId": "916c4657-4121-45e4-9934-ca7f5d129ddb",
        "colab": {
          "base_uri": "https://localhost:8080/"
        }
      },
      "execution_count": 222,
      "outputs": [
        {
          "output_type": "stream",
          "name": "stdout",
          "text": [
            "['Nome', 'Data', 'Usuário', 'AÇÕES']\n"
          ]
        }
      ]
    },
    {
      "cell_type": "code",
      "source": [
        "def rows_category():\n",
        "  rows = [item.get_text() for item in soup.find_all('div',{'class': \"ag-body-viewport ag-layout-normal ag-row-no-animation\"})]\n",
        "  rows= rows[0].replace(\"\\n\", \"\")\n",
        "  print(rows)\n",
        "\n",
        "rows_category()"
      ],
      "metadata": {
        "id": "LDk0KfvTMvsZ",
        "outputId": "70dff301-39fa-45c2-8cf7-dce5ddd04797",
        "colab": {
          "base_uri": "https://localhost:8080/"
        }
      },
      "execution_count": 223,
      "outputs": [
        {
          "output_type": "stream",
          "name": "stdout",
          "text": [
            "1. Sem evidência2021-05-13T08:58:05.495Nathalia Fernanda Viana Rodrigues2. Evidência incorreta2021-05-13T08:58:18.443Nathalia Fernanda Viana Rodrigues3. Sem evidência de validação2021-05-13T08:58:36.966Nathalia Fernanda Viana Rodrigues4. Sem aprovação prévia do GOD ou Regional via FreighTech2021-05-13T08:59:09.611Nathalia Fernanda Viana Rodrigues5. Ajuste realizado de forma centralizada2021-05-13T08:59:28.682Nathalia Fernanda Viana Rodrigues6. Divergência entre valor solicitado x valor da evidência2021-05-13T08:59:55.044Nathalia Fernanda Viana Rodrigues7. Abertura deve ser feita pelo Sisnec2021-05-13T09:00:13.265Nathalia Fernanda Viana Rodrigues8. Campo incorreto2021-05-13T09:00:21.916Nathalia Fernanda Viana Rodrigues9. Outros2021-05-14T10:50:23.645Sergi Blabia Garriga\n"
          ]
        }
      ]
    },
    {
      "cell_type": "code",
      "source": [
        ""
      ],
      "metadata": {
        "id": "5yBms6A1bTBN"
      },
      "execution_count": 227,
      "outputs": []
    },
    {
      "cell_type": "markdown",
      "source": [
        "## Exportação"
      ],
      "metadata": {
        "id": "ypmkY02ArXLl"
      }
    },
    {
      "cell_type": "code",
      "source": [
        "# set implicit wait time\n",
        "driver.implicitly_wait(10) # seconds\n",
        "\n",
        "driver.get(\"https://freightech.ambev.com.br/#/exportacao-dados\")\n",
        "soup = BeautifulSoup(driver.page_source, 'html.parser')"
      ],
      "metadata": {
        "id": "3jy0Unviru51"
      },
      "execution_count": 240,
      "outputs": []
    },
    {
      "cell_type": "code",
      "source": [
        "modelo = [item.get_text() for item in soup.find_all('p',{'class': \"card-fav card-fav-custom no-fav is-selected\"})]\n",
        "modelo"
      ],
      "metadata": {
        "id": "ajaV4Gm_se9P",
        "outputId": "b3e61e9a-1117-452f-f51f-1c2a755a6064",
        "colab": {
          "base_uri": "https://localhost:8080/"
        }
      },
      "execution_count": 242,
      "outputs": [
        {
          "output_type": "execute_result",
          "data": {
            "text/plain": [
              "[]"
            ]
          },
          "metadata": {},
          "execution_count": 242
        }
      ]
    },
    {
      "cell_type": "code",
      "source": [
        ""
      ],
      "metadata": {
        "id": "dOh3OMPpubtC"
      },
      "execution_count": null,
      "outputs": []
    }
  ],
  "metadata": {
    "colab": {
      "name": "freightech.ipynb",
      "provenance": [],
      "collapsed_sections": [
        "dHIh_iPvInW5",
        "XYc3hiAQKKgJ"
      ],
      "authorship_tag": "ABX9TyNnstf5vD++eWdkKSZd3NTR",
      "include_colab_link": true
    },
    "kernelspec": {
      "display_name": "Python 3",
      "name": "python3"
    },
    "language_info": {
      "name": "python"
    }
  },
  "nbformat": 4,
  "nbformat_minor": 0
}