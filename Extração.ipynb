{
  "nbformat": 4,
  "nbformat_minor": 0,
  "metadata": {
    "colab": {
      "name": "Extração.ipynb",
      "provenance": [],
      "authorship_tag": "ABX9TyPR68ghxhLa/J3QoImUzc5u",
      "include_colab_link": true
    },
    "kernelspec": {
      "name": "python3",
      "display_name": "Python 3"
    },
    "language_info": {
      "name": "python"
    }
  },
  "cells": [
    {
      "cell_type": "markdown",
      "metadata": {
        "id": "view-in-github",
        "colab_type": "text"
      },
      "source": [
        "<a href=\"https://colab.research.google.com/github/carolvieirav/operalabs/blob/main/Extra%C3%A7%C3%A3o.ipynb\" target=\"_parent\"><img src=\"https://colab.research.google.com/assets/colab-badge.svg\" alt=\"Open In Colab\"/></a>"
      ]
    },
    {
      "cell_type": "markdown",
      "metadata": {
        "id": "dHIh_iPvInW5"
      },
      "source": [
        "## Install & Import"
      ]
    },
    {
      "cell_type": "code",
      "metadata": {
        "id": "gQY9QmOJH_6l"
      },
      "source": [
        "!pip install selenium"
      ],
      "execution_count": null,
      "outputs": []
    },
    {
      "cell_type": "code",
      "metadata": {
        "id": "9Zqih-MBIQPc"
      },
      "source": [
        "!apt install chromium-chromedriver"
      ],
      "execution_count": null,
      "outputs": []
    },
    {
      "cell_type": "code",
      "metadata": {
        "id": "vN8snPiTISpW"
      },
      "source": [
        "from selenium import webdriver\n",
        "from selenium.webdriver.common.keys import Keys\n",
        "import requests\n",
        "import numpy as np\n",
        "import pandas as pd\n",
        "from bs4 import BeautifulSoup"
      ],
      "execution_count": 5,
      "outputs": []
    },
    {
      "cell_type": "code",
      "metadata": {
        "id": "kLaCpkLMIXxz"
      },
      "source": [
        "options = webdriver.ChromeOptions()\n",
        "options.add_argument('--headless')\n",
        "options.add_argument('--no-sandbox')\n",
        "options.add_argument('--disable-dev-shm-usage')\n",
        "driver = webdriver.Chrome('chromedriver',options=options)"
      ],
      "execution_count": 4,
      "outputs": []
    },
    {
      "cell_type": "markdown",
      "metadata": {
        "id": "KbWzW4gMJTGo"
      },
      "source": [
        "## Select and Parse Tags"
      ]
    },
    {
      "cell_type": "code",
      "metadata": {
        "id": "_VXlbUMrJdyT"
      },
      "source": [
        "# page source with selenium \n",
        "\n",
        "url =''\n",
        "driver.get(url)\n",
        "html = driver.page_source\n",
        "\n",
        "# page source with bs4\n",
        "\n",
        "response = requests.get(url)\n",
        "soup = BeautifulSoup(response.content)"
      ],
      "execution_count": 7,
      "outputs": []
    },
    {
      "cell_type": "code",
      "metadata": {
        "id": "dlU_GFdVO3SN"
      },
      "source": [
        ""
      ],
      "execution_count": null,
      "outputs": []
    },
    {
      "cell_type": "code",
      "metadata": {
        "id": "FNLWdC_RO912"
      },
      "source": [
        ""
      ],
      "execution_count": null,
      "outputs": []
    },
    {
      "cell_type": "markdown",
      "metadata": {
        "id": "XYc3hiAQKKgJ"
      },
      "source": [
        "## Login"
      ]
    },
    {
      "cell_type": "code",
      "metadata": {
        "id": "mOqPb4IcKMSk"
      },
      "source": [
        "'''driver = webdriver.Firefox(...)  # Or Chrome(), or Ie(), or Opera()\n",
        "\n",
        "username = driver.find_element_by_id(\"username\")\n",
        "password = driver.find_element_by_id(\"password\")\n",
        "\n",
        "username.send_keys(\"YourUsername\")\n",
        "password.send_keys(\"Pa55worD\")\n",
        "\n",
        "driver.find_element_by_name(\"submit\").click()'''"
      ],
      "execution_count": null,
      "outputs": []
    },
    {
      "cell_type": "code",
      "metadata": {
        "id": "g9OLy0ZSKPBq"
      },
      "source": [
        ""
      ],
      "execution_count": null,
      "outputs": []
    }
  ]
}