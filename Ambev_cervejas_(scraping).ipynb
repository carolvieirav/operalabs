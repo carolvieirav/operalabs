{
  "nbformat": 4,
  "nbformat_minor": 0,
  "metadata": {
    "colab": {
      "name": "Ambev - cervejas (scraping).ipynb",
      "provenance": [],
      "authorship_tag": "ABX9TyNcJc8exwI7OmQwEAACbUBG",
      "include_colab_link": true
    },
    "kernelspec": {
      "name": "python3",
      "display_name": "Python 3"
    },
    "language_info": {
      "name": "python"
    }
  },
  "cells": [
    {
      "cell_type": "markdown",
      "metadata": {
        "id": "view-in-github",
        "colab_type": "text"
      },
      "source": [
        "<a href=\"https://colab.research.google.com/github/carolvieirav/operalabs/blob/main/Ambev_cervejas_(scraping).ipynb\" target=\"_parent\"><img src=\"https://colab.research.google.com/assets/colab-badge.svg\" alt=\"Open In Colab\"/></a>"
      ]
    },
    {
      "cell_type": "markdown",
      "metadata": {
        "id": "c378_InMO4Hc"
      },
      "source": [
        "## Install, Import and Initiate Modules"
      ]
    },
    {
      "cell_type": "code",
      "metadata": {
        "id": "RPced_lbOzv4",
        "colab": {
          "base_uri": "https://localhost:8080/"
        },
        "outputId": "b3ea0f0b-8fa5-44db-88ba-a2330a4b85d7"
      },
      "source": [
        "!pip install selenium"
      ],
      "execution_count": 1,
      "outputs": [
        {
          "output_type": "stream",
          "name": "stdout",
          "text": [
            "Collecting selenium\n",
            "  Downloading selenium-4.1.0-py3-none-any.whl (958 kB)\n",
            "\u001b[K     |████████████████████████████████| 958 kB 5.3 MB/s \n",
            "\u001b[?25hCollecting trio-websocket~=0.9\n",
            "  Downloading trio_websocket-0.9.2-py3-none-any.whl (16 kB)\n",
            "Collecting urllib3[secure]~=1.26\n",
            "  Downloading urllib3-1.26.7-py2.py3-none-any.whl (138 kB)\n",
            "\u001b[K     |████████████████████████████████| 138 kB 65.6 MB/s \n",
            "\u001b[?25hCollecting trio~=0.17\n",
            "  Downloading trio-0.19.0-py3-none-any.whl (356 kB)\n",
            "\u001b[K     |████████████████████████████████| 356 kB 68.7 MB/s \n",
            "\u001b[?25hRequirement already satisfied: attrs>=19.2.0 in /usr/local/lib/python3.7/dist-packages (from trio~=0.17->selenium) (21.2.0)\n",
            "Collecting sniffio\n",
            "  Downloading sniffio-1.2.0-py3-none-any.whl (10 kB)\n",
            "Requirement already satisfied: sortedcontainers in /usr/local/lib/python3.7/dist-packages (from trio~=0.17->selenium) (2.4.0)\n",
            "Collecting outcome\n",
            "  Downloading outcome-1.1.0-py2.py3-none-any.whl (9.7 kB)\n",
            "Requirement already satisfied: idna in /usr/local/lib/python3.7/dist-packages (from trio~=0.17->selenium) (2.10)\n",
            "Collecting async-generator>=1.9\n",
            "  Downloading async_generator-1.10-py3-none-any.whl (18 kB)\n",
            "Collecting wsproto>=0.14\n",
            "  Downloading wsproto-1.0.0-py3-none-any.whl (24 kB)\n",
            "Requirement already satisfied: certifi in /usr/local/lib/python3.7/dist-packages (from urllib3[secure]~=1.26->selenium) (2021.10.8)\n",
            "Collecting pyOpenSSL>=0.14\n",
            "  Downloading pyOpenSSL-21.0.0-py2.py3-none-any.whl (55 kB)\n",
            "\u001b[K     |████████████████████████████████| 55 kB 3.7 MB/s \n",
            "\u001b[?25hCollecting cryptography>=1.3.4\n",
            "  Downloading cryptography-36.0.0-cp36-abi3-manylinux_2_24_x86_64.whl (3.6 MB)\n",
            "\u001b[K     |████████████████████████████████| 3.6 MB 42.5 MB/s \n",
            "\u001b[?25hRequirement already satisfied: cffi>=1.12 in /usr/local/lib/python3.7/dist-packages (from cryptography>=1.3.4->urllib3[secure]~=1.26->selenium) (1.15.0)\n",
            "Requirement already satisfied: pycparser in /usr/local/lib/python3.7/dist-packages (from cffi>=1.12->cryptography>=1.3.4->urllib3[secure]~=1.26->selenium) (2.21)\n",
            "Requirement already satisfied: six>=1.5.2 in /usr/local/lib/python3.7/dist-packages (from pyOpenSSL>=0.14->urllib3[secure]~=1.26->selenium) (1.15.0)\n",
            "Collecting h11<1,>=0.9.0\n",
            "  Downloading h11-0.12.0-py3-none-any.whl (54 kB)\n",
            "\u001b[K     |████████████████████████████████| 54 kB 3.6 MB/s \n",
            "\u001b[?25hInstalling collected packages: sniffio, outcome, h11, cryptography, async-generator, wsproto, urllib3, trio, pyOpenSSL, trio-websocket, selenium\n",
            "  Attempting uninstall: urllib3\n",
            "    Found existing installation: urllib3 1.24.3\n",
            "    Uninstalling urllib3-1.24.3:\n",
            "      Successfully uninstalled urllib3-1.24.3\n",
            "\u001b[31mERROR: pip's dependency resolver does not currently take into account all the packages that are installed. This behaviour is the source of the following dependency conflicts.\n",
            "requests 2.23.0 requires urllib3!=1.25.0,!=1.25.1,<1.26,>=1.21.1, but you have urllib3 1.26.7 which is incompatible.\n",
            "datascience 0.10.6 requires folium==0.2.1, but you have folium 0.8.3 which is incompatible.\u001b[0m\n",
            "Successfully installed async-generator-1.10 cryptography-36.0.0 h11-0.12.0 outcome-1.1.0 pyOpenSSL-21.0.0 selenium-4.1.0 sniffio-1.2.0 trio-0.19.0 trio-websocket-0.9.2 urllib3-1.26.7 wsproto-1.0.0\n"
          ]
        }
      ]
    },
    {
      "cell_type": "code",
      "metadata": {
        "colab": {
          "base_uri": "https://localhost:8080/"
        },
        "id": "bYQkGpkTOiVe",
        "outputId": "969ae9f5-af5d-4662-dc47-b9f85d2f864f"
      },
      "source": [
        "!apt install chromium-chromedriver"
      ],
      "execution_count": 2,
      "outputs": [
        {
          "output_type": "stream",
          "name": "stdout",
          "text": [
            "Reading package lists... Done\n",
            "Building dependency tree       \n",
            "Reading state information... Done\n",
            "The following additional packages will be installed:\n",
            "  chromium-browser chromium-browser-l10n chromium-codecs-ffmpeg-extra\n",
            "Suggested packages:\n",
            "  webaccounts-chromium-extension unity-chromium-extension\n",
            "The following NEW packages will be installed:\n",
            "  chromium-browser chromium-browser-l10n chromium-chromedriver\n",
            "  chromium-codecs-ffmpeg-extra\n",
            "0 upgraded, 4 newly installed, 0 to remove and 37 not upgraded.\n",
            "Need to get 94.0 MB of archives.\n",
            "After this operation, 324 MB of additional disk space will be used.\n",
            "Get:1 http://archive.ubuntu.com/ubuntu bionic-updates/universe amd64 chromium-codecs-ffmpeg-extra amd64 95.0.4638.69-0ubuntu0.18.04.1 [1,135 kB]\n",
            "Get:2 http://archive.ubuntu.com/ubuntu bionic-updates/universe amd64 chromium-browser amd64 95.0.4638.69-0ubuntu0.18.04.1 [83.6 MB]\n",
            "Get:3 http://archive.ubuntu.com/ubuntu bionic-updates/universe amd64 chromium-browser-l10n all 95.0.4638.69-0ubuntu0.18.04.1 [4,249 kB]\n",
            "Get:4 http://archive.ubuntu.com/ubuntu bionic-updates/universe amd64 chromium-chromedriver amd64 95.0.4638.69-0ubuntu0.18.04.1 [4,986 kB]\n",
            "Fetched 94.0 MB in 5s (19.5 MB/s)\n",
            "Selecting previously unselected package chromium-codecs-ffmpeg-extra.\n",
            "(Reading database ... 155222 files and directories currently installed.)\n",
            "Preparing to unpack .../chromium-codecs-ffmpeg-extra_95.0.4638.69-0ubuntu0.18.04.1_amd64.deb ...\n",
            "Unpacking chromium-codecs-ffmpeg-extra (95.0.4638.69-0ubuntu0.18.04.1) ...\n",
            "Selecting previously unselected package chromium-browser.\n",
            "Preparing to unpack .../chromium-browser_95.0.4638.69-0ubuntu0.18.04.1_amd64.deb ...\n",
            "Unpacking chromium-browser (95.0.4638.69-0ubuntu0.18.04.1) ...\n",
            "Selecting previously unselected package chromium-browser-l10n.\n",
            "Preparing to unpack .../chromium-browser-l10n_95.0.4638.69-0ubuntu0.18.04.1_all.deb ...\n",
            "Unpacking chromium-browser-l10n (95.0.4638.69-0ubuntu0.18.04.1) ...\n",
            "Selecting previously unselected package chromium-chromedriver.\n",
            "Preparing to unpack .../chromium-chromedriver_95.0.4638.69-0ubuntu0.18.04.1_amd64.deb ...\n",
            "Unpacking chromium-chromedriver (95.0.4638.69-0ubuntu0.18.04.1) ...\n",
            "Setting up chromium-codecs-ffmpeg-extra (95.0.4638.69-0ubuntu0.18.04.1) ...\n",
            "Setting up chromium-browser (95.0.4638.69-0ubuntu0.18.04.1) ...\n",
            "update-alternatives: using /usr/bin/chromium-browser to provide /usr/bin/x-www-browser (x-www-browser) in auto mode\n",
            "update-alternatives: using /usr/bin/chromium-browser to provide /usr/bin/gnome-www-browser (gnome-www-browser) in auto mode\n",
            "Setting up chromium-chromedriver (95.0.4638.69-0ubuntu0.18.04.1) ...\n",
            "Setting up chromium-browser-l10n (95.0.4638.69-0ubuntu0.18.04.1) ...\n",
            "Processing triggers for man-db (2.8.3-2ubuntu0.1) ...\n",
            "Processing triggers for hicolor-icon-theme (0.17-2) ...\n",
            "Processing triggers for mime-support (3.60ubuntu1) ...\n",
            "Processing triggers for libc-bin (2.27-3ubuntu1.3) ...\n",
            "/sbin/ldconfig.real: /usr/local/lib/python3.7/dist-packages/ideep4py/lib/libmkldnn.so.0 is not a symbolic link\n",
            "\n"
          ]
        }
      ]
    },
    {
      "cell_type": "code",
      "metadata": {
        "colab": {
          "base_uri": "https://localhost:8080/"
        },
        "id": "gZtfN1aRRLOj",
        "outputId": "403ce7d3-256c-44eb-e41b-5c4032b0865a"
      },
      "source": [
        "from selenium import webdriver\n",
        "import requests\n",
        "import numpy as np\n",
        "import pandas as pd\n",
        "from bs4 import BeautifulSoup\n",
        "import matplotlib.pyplot as plt\n",
        "\n",
        "%matplotlib inline"
      ],
      "execution_count": 3,
      "outputs": [
        {
          "output_type": "stream",
          "name": "stderr",
          "text": [
            "/usr/local/lib/python3.7/dist-packages/requests/__init__.py:91: RequestsDependencyWarning: urllib3 (1.26.7) or chardet (3.0.4) doesn't match a supported version!\n",
            "  RequestsDependencyWarning)\n"
          ]
        }
      ]
    },
    {
      "cell_type": "code",
      "metadata": {
        "id": "AumaE62VRcaH"
      },
      "source": [
        "options = webdriver.ChromeOptions()\n",
        "options.add_argument('--headless')\n",
        "options.add_argument('--no-sandbox')\n",
        "options.add_argument('--disable-dev-shm-usage')\n",
        "# # open it, go to a website, and get results\n",
        "driver = webdriver.Chrome('chromedriver',options=options)"
      ],
      "execution_count": 4,
      "outputs": []
    },
    {
      "cell_type": "markdown",
      "metadata": {
        "id": "D62v0NBARkbn"
      },
      "source": [
        "## Get the web page"
      ]
    },
    {
      "cell_type": "code",
      "metadata": {
        "id": "dwmB2hIuO-Kn",
        "colab": {
          "base_uri": "https://localhost:8080/"
        },
        "outputId": "d91de347-01b4-4fe5-8843-0a3cfa6c500d"
      },
      "source": [
        "driver.get('https://www.ambev.com.br/marcas/cervejas/')\n",
        "my_element = driver.find_element_by_class_name(\"elements-grid__item\")"
      ],
      "execution_count": 5,
      "outputs": [
        {
          "output_type": "stream",
          "name": "stderr",
          "text": [
            "/usr/local/lib/python3.7/dist-packages/ipykernel_launcher.py:2: DeprecationWarning: find_element_by_* commands are deprecated. Please use find_element() instead\n",
            "  \n"
          ]
        }
      ]
    },
    {
      "cell_type": "code",
      "metadata": {
        "colab": {
          "base_uri": "https://localhost:8080/"
        },
        "id": "QfbwXc2NWp19",
        "outputId": "00f39713-c49f-4950-99f2-cefe85636dd7"
      },
      "source": [
        "url = 'https://www.ambev.com.br/marcas/cervejas/'\n",
        "\n",
        "# Use requests to retrieve data from a given URL\n",
        "response = requests.get(url)\n",
        "\n",
        "# Parse the whole HTML page using BeautifulSoup\n",
        "soup = BeautifulSoup(response.text, 'html.parser')\n",
        "\n",
        "# Title of the parsed page\n",
        "soup.title"
      ],
      "execution_count": 6,
      "outputs": [
        {
          "output_type": "execute_result",
          "data": {
            "text/plain": [
              "<title>Cervejas - Ambev</title>"
            ]
          },
          "metadata": {},
          "execution_count": 6
        }
      ]
    },
    {
      "cell_type": "markdown",
      "metadata": {
        "id": "CQzTJxfgf3e0"
      },
      "source": [
        "## Get Infos"
      ]
    },
    {
      "cell_type": "code",
      "metadata": {
        "id": "AU4t6NISa6MG"
      },
      "source": [
        "#html body where the brands are located\n",
        "product_info = soup.find('ul', {'class':'elements-grid__items'})"
      ],
      "execution_count": 7,
      "outputs": []
    },
    {
      "cell_type": "code",
      "metadata": {
        "colab": {
          "base_uri": "https://localhost:8080/"
        },
        "id": "kmFCmznCedRB",
        "outputId": "f17ea057-8976-4294-f744-d96d6bb9ea3f"
      },
      "source": [
        "product_info"
      ],
      "execution_count": 8,
      "outputs": [
        {
          "output_type": "execute_result",
          "data": {
            "text/plain": [
              "<ul class=\"elements-grid__items\"><li class=\"elements-grid__item\"> <a class=\"brand__link\" href=\"https://www.ambev.com.br/marcas/cervejas/adriatica\"><div class=\"brand__logo-holder\"> <img alt=\"Adriática\" class=\"brand__logo brand__logo--logo\" data-lazy-src=\"https://www.ambev.com.br/conteudo/uploads/2019/03/logo_adriatica.jpg\" src=\"#\" title=\"Adriática\"/></div><p class=\"brand__name\">Adriática</p> </a></li><li class=\"elements-grid__item\"> <a class=\"brand__link\" href=\"https://www.ambev.com.br/marcas/cervejas/andes\"><div class=\"brand__logo-holder\"> <img alt=\"Andes\" class=\"brand__logo brand__logo--logo\" data-lazy-src=\"https://www.ambev.com.br/conteudo/uploads/2021/04/andes_logo.jpg\" src=\"#\" title=\"Andes\"/></div><p class=\"brand__name\">Andes</p> </a></li><li class=\"elements-grid__item\"> <a class=\"brand__link\" href=\"https://www.ambev.com.br/marcas/cervejas/antarctica\"><div class=\"brand__logo-holder\"> <img alt=\"Antarctica\" class=\"brand__logo brand__logo--logo\" data-lazy-src=\"https://www.ambev.com.br/conteudo/uploads/2019/03/logo_antarctica.jpg\" src=\"#\" title=\"Antarctica\"/></div><p class=\"brand__name\">Antarctica</p> </a></li><li class=\"elements-grid__item\"> <a class=\"brand__link\" href=\"https://www.ambev.com.br/marcas/cervejas/becks\"><div class=\"brand__logo-holder\"> <img alt=\"Beck's\" class=\"brand__logo brand__logo--logo\" data-lazy-src=\"https://www.ambev.com.br/conteudo/uploads/2019/03/logo_becks.jpg\" src=\"#\" title=\"Beck's\"/></div><p class=\"brand__name\">Beck's</p> </a></li><li class=\"elements-grid__item\"> <a class=\"brand__link\" href=\"https://www.ambev.com.br/marcas/cervejas/berrio-do-piaui\"><div class=\"brand__logo-holder\"> <img alt=\"Berrió do Piauí\" class=\"brand__logo brand__logo--logo\" data-lazy-src=\"https://www.ambev.com.br/conteudo/uploads/2021/01/logo.jpg\" src=\"#\" title=\"Berrió do Piauí\"/></div><p class=\"brand__name\">Berrió do Piauí</p> </a></li><li class=\"elements-grid__item\"> <a class=\"brand__link\" href=\"https://www.ambev.com.br/marcas/cervejas/bohemia\"><div class=\"brand__logo-holder\"> <img alt=\"Bohemia\" class=\"brand__logo brand__logo--logo\" data-lazy-src=\"https://www.ambev.com.br/conteudo/uploads/2019/03/logo_bohemia_novo.jpg\" src=\"#\" title=\"Bohemia\"/></div><p class=\"brand__name\">Bohemia</p> </a></li><li class=\"elements-grid__item\"> <a class=\"brand__link\" href=\"https://www.ambev.com.br/marcas/cervejas/brahma\"><div class=\"brand__logo-holder\"> <img alt=\"Brahma\" class=\"brand__logo brand__logo--logo\" data-lazy-src=\"https://www.ambev.com.br/conteudo/uploads/2019/03/logo_brahma.jpg\" src=\"#\" title=\"Brahma\"/></div><p class=\"brand__name\">Brahma</p> </a></li><li class=\"elements-grid__item\"> <a class=\"brand__link\" href=\"https://www.ambev.com.br/marcas/cervejas/budweiser\"><div class=\"brand__logo-holder\"> <img alt=\"Budweiser\" class=\"brand__logo brand__logo--logo\" data-lazy-src=\"https://www.ambev.com.br/conteudo/uploads/2019/03/logo_bud.jpg\" src=\"#\" title=\"Budweiser\"/></div><p class=\"brand__name\">Budweiser</p> </a></li><li class=\"elements-grid__item\"> <a class=\"brand__link\" href=\"https://www.ambev.com.br/marcas/cervejas/caracu\"><div class=\"brand__logo-holder\"> <img alt=\"Caracu\" class=\"brand__logo brand__logo--logo\" data-lazy-src=\"https://www.ambev.com.br/conteudo/uploads/2019/03/logo_caracu.jpg\" src=\"#\" title=\"Caracu\"/></div><p class=\"brand__name\">Caracu</p> </a></li><li class=\"elements-grid__item\"> <a class=\"brand__link\" href=\"https://www.ambev.com.br/marcas/cervejas/cervejaria-colorado\"><div class=\"brand__logo-holder\"> <img alt=\"Cervejaria Colorado\" class=\"brand__logo brand__logo--logo\" data-lazy-src=\"https://www.ambev.com.br/conteudo/uploads/2019/03/logo_colorado.jpg\" src=\"#\" title=\"Cervejaria Colorado\"/></div><p class=\"brand__name\">Cervejaria Colorado</p> </a></li><li class=\"elements-grid__item\"> <a class=\"brand__link\" href=\"https://www.ambev.com.br/marcas/cervejas/corona\"><div class=\"brand__logo-holder\"> <img alt=\"Corona\" class=\"brand__logo brand__logo--logo\" data-lazy-src=\"https://www.ambev.com.br/conteudo/uploads/2019/03/logo_corona.jpg\" src=\"#\" title=\"Corona\"/></div><p class=\"brand__name\">Corona</p> </a></li><li class=\"elements-grid__item\"> <a class=\"brand__link\" href=\"https://www.ambev.com.br/marcas/cervejas/esmera-de-goias\"><div class=\"brand__logo-holder\"> <img alt=\"Esmera de Goiás\" class=\"brand__logo brand__logo--logo\" data-lazy-src=\"https://www.ambev.com.br/conteudo/uploads/2021/01/logo-esmera.png\" src=\"#\" title=\"Esmera de Goiás\"/></div><p class=\"brand__name\">Esmera de Goiás</p> </a></li><li class=\"elements-grid__item\"> <a class=\"brand__link\" href=\"https://www.ambev.com.br/marcas/cervejas/franziskaner\"><div class=\"brand__logo-holder\"> <img alt=\"Franziskaner\" class=\"brand__logo brand__logo--logo\" data-lazy-src=\"https://www.ambev.com.br/conteudo/uploads/2019/03/logo_franziskaner.jpg\" src=\"#\" title=\"Franziskaner\"/></div><p class=\"brand__name\">Franziskaner</p> </a></li><li class=\"elements-grid__item\"> <a class=\"brand__link\" href=\"https://www.ambev.com.br/marcas/cervejas/goose-island\"><div class=\"brand__logo-holder\"> <img alt=\"Goose Island\" class=\"brand__logo brand__logo--logo\" data-lazy-src=\"https://www.ambev.com.br/conteudo/uploads/2019/03/logo_goose-island.jpg\" src=\"#\" title=\"Goose Island\"/></div><p class=\"brand__name\">Goose Island</p> </a></li><li class=\"elements-grid__item\"> <a class=\"brand__link\" href=\"https://www.ambev.com.br/marcas/cervejas/hoegaarden\"><div class=\"brand__logo-holder\"> <img alt=\"Hoegaarden\" class=\"brand__logo brand__logo--logo\" data-lazy-src=\"https://www.ambev.com.br/conteudo/uploads/2019/03/logo_hoegaarden.jpg\" src=\"#\" title=\"Hoegaarden\"/></div><p class=\"brand__name\">Hoegaarden</p> </a></li><li class=\"elements-grid__item\"> <a class=\"brand__link\" href=\"https://www.ambev.com.br/marcas/cervejas/kona\"><div class=\"brand__logo-holder\"> <img alt=\"Kona\" class=\"brand__logo brand__logo--logo\" data-lazy-src=\"https://www.ambev.com.br/conteudo/uploads/2021/04/kona_logoo.jpg\" src=\"#\" title=\"Kona\"/></div><p class=\"brand__name\">Kona</p> </a></li><li class=\"elements-grid__item\"> <a class=\"brand__link\" href=\"https://www.ambev.com.br/marcas/cervejas/leffe\"><div class=\"brand__logo-holder\"> <img alt=\"Leffe\" class=\"brand__logo brand__logo--logo\" data-lazy-src=\"https://www.ambev.com.br/conteudo/uploads/2019/03/logo_leffe.jpg\" src=\"#\" title=\"Leffe\"/></div><p class=\"brand__name\">Leffe</p> </a></li><li class=\"elements-grid__item\"> <a class=\"brand__link\" href=\"https://www.ambev.com.br/marcas/cervejas/legitima\"><div class=\"brand__logo-holder\"> <img alt=\"Legítima\" class=\"brand__logo brand__logo--logo\" data-lazy-src=\"https://www.ambev.com.br/conteudo/uploads/2019/11/logo_legitima.jpg\" src=\"#\" title=\"Legítima\"/></div><p class=\"brand__name\">Legítima</p> </a></li><li class=\"elements-grid__item\"> <a class=\"brand__link\" href=\"https://www.ambev.com.br/marcas/cervejas/magnifica-do-maranhao\"><div class=\"brand__logo-holder\"> <img alt=\"Magnífica do Maranhão\" class=\"brand__logo brand__logo--logo\" data-lazy-src=\"https://www.ambev.com.br/conteudo/uploads/2019/03/logo_magnifica-1.jpg\" src=\"#\" title=\"Magnífica do Maranhão\"/></div><p class=\"brand__name\">Magnífica do Maranhão</p> </a></li><li class=\"elements-grid__item\"> <a class=\"brand__link\" href=\"https://www.ambev.com.br/marcas/cervejas/michelob-ultra\"><div class=\"brand__logo-holder\"> <img alt=\"Michelob Ultra\" class=\"brand__logo brand__logo--logo\" data-lazy-src=\"https://www.ambev.com.br/conteudo/uploads/2021/04/michelob_logo.jpg\" src=\"#\" title=\"Michelob Ultra\"/></div><p class=\"brand__name\">Michelob Ultra</p> </a></li><li class=\"elements-grid__item\"> <a class=\"brand__link\" href=\"https://www.ambev.com.br/marcas/cervejas/modelo\"><div class=\"brand__logo-holder\"> <img alt=\"Modelo\" class=\"brand__logo brand__logo--logo\" data-lazy-src=\"https://www.ambev.com.br/conteudo/uploads/2021/04/modelo_logo.jpg\" src=\"#\" title=\"Modelo\"/></div><p class=\"brand__name\">Modelo</p> </a></li><li class=\"elements-grid__item\"> <a class=\"brand__link\" href=\"https://www.ambev.com.br/marcas/cervejas/nossa\"><div class=\"brand__logo-holder\"> <img alt=\"Nossa\" class=\"brand__logo brand__logo--logo\" data-lazy-src=\"https://www.ambev.com.br/conteudo/uploads/2019/03/logo_nossa.jpg\" src=\"#\" title=\"Nossa\"/></div><p class=\"brand__name\">Nossa</p> </a></li><li class=\"elements-grid__item\"> <a class=\"brand__link\" href=\"https://www.ambev.com.br/marcas/cervejas/original\"><div class=\"brand__logo-holder\"> <img alt=\"Original\" class=\"brand__logo brand__logo--logo\" data-lazy-src=\"https://www.ambev.com.br/conteudo/uploads/2019/03/logo_original.jpg\" src=\"#\" title=\"Original\"/></div><p class=\"brand__name\">Original</p> </a></li><li class=\"elements-grid__item\"> <a class=\"brand__link\" href=\"https://www.ambev.com.br/marcas/cervejas/patagonia\"><div class=\"brand__logo-holder\"> <img alt=\"Patagonia\" class=\"brand__logo brand__logo--logo\" data-lazy-src=\"https://www.ambev.com.br/conteudo/uploads/2019/03/logo_patagonia.jpg\" src=\"#\" title=\"Patagonia\"/></div><p class=\"brand__name\">Patagonia</p> </a></li><li class=\"elements-grid__item\"> <a class=\"brand__link\" href=\"https://www.ambev.com.br/marcas/cervejas/polar\"><div class=\"brand__logo-holder\"> <img alt=\"Polar\" class=\"brand__logo brand__logo--logo\" data-lazy-src=\"https://www.ambev.com.br/conteudo/uploads/2019/03/logo_polar-novo.jpg\" src=\"#\" title=\"Polar\"/></div><p class=\"brand__name\">Polar</p> </a></li><li class=\"elements-grid__item\"> <a class=\"brand__link\" href=\"https://www.ambev.com.br/marcas/cervejas/serramalte\"><div class=\"brand__logo-holder\"> <img alt=\"Serramalte\" class=\"brand__logo brand__logo--logo\" data-lazy-src=\"https://www.ambev.com.br/conteudo/uploads/2019/03/logo_serramalte.jpg\" src=\"#\" title=\"Serramalte\"/></div><p class=\"brand__name\">Serramalte</p> </a></li><li class=\"elements-grid__item\"> <a class=\"brand__link\" href=\"https://www.ambev.com.br/marcas/cervejas/serrana\"><div class=\"brand__logo-holder\"> <img alt=\"Serrana\" class=\"brand__logo brand__logo--logo\" data-lazy-src=\"https://www.ambev.com.br/conteudo/uploads/2019/03/logo_serrana.jpg\" src=\"#\" title=\"Serrana\"/></div><p class=\"brand__name\">Serrana</p> </a></li><li class=\"elements-grid__item\"> <a class=\"brand__link\" href=\"https://www.ambev.com.br/marcas/cervejas/skol\"><div class=\"brand__logo-holder\"> <img alt=\"Skol\" class=\"brand__logo brand__logo--logo\" data-lazy-src=\"https://www.ambev.com.br/conteudo/uploads/2019/03/logo_skol.jpg\" src=\"#\" title=\"Skol\"/></div><p class=\"brand__name\">Skol</p> </a></li><li class=\"elements-grid__item\"> <a class=\"brand__link\" href=\"https://www.ambev.com.br/marcas/cervejas/spaten\"><div class=\"brand__logo-holder\"> <img alt=\"Spaten\" class=\"brand__logo brand__logo--logo\" data-lazy-src=\"https://www.ambev.com.br/conteudo/uploads/2021/04/spaten_logo.jpg\" src=\"#\" title=\"Spaten\"/></div><p class=\"brand__name\">Spaten</p> </a></li><li class=\"elements-grid__item\"> <a class=\"brand__link\" href=\"https://www.ambev.com.br/marcas/cervejas/stella-artois\"><div class=\"brand__logo-holder\"> <img alt=\"Stella Artois\" class=\"brand__logo brand__logo--logo\" data-lazy-src=\"https://www.ambev.com.br/conteudo/uploads/2019/03/logo_stella-artois.jpg\" src=\"#\" title=\"Stella Artois\"/></div><p class=\"brand__name\">Stella Artois</p> </a></li><li class=\"elements-grid__item\"> <a class=\"brand__link\" href=\"https://www.ambev.com.br/marcas/cervejas/tres-fidalgas\"><div class=\"brand__logo-holder\"> <img alt=\"Três Fidalgas\" class=\"brand__logo brand__logo--logo\" data-lazy-src=\"https://www.ambev.com.br/conteudo/uploads/2019/03/logo_tres-fidalgas.jpg\" src=\"#\" title=\"Três Fidalgas\"/></div><p class=\"brand__name\">Três Fidalgas</p> </a></li><li class=\"elements-grid__item\"> <a class=\"brand__link\" href=\"https://www.ambev.com.br/marcas/cervejas/wals\"><div class=\"brand__logo-holder\"> <img alt=\"Wäls\" class=\"brand__logo brand__logo--logo\" data-lazy-src=\"https://www.ambev.com.br/conteudo/uploads/2019/03/logo_wals.jpg\" src=\"#\" title=\"Wäls\"/></div><p class=\"brand__name\">Wäls</p> </a></li></ul>"
            ]
          },
          "metadata": {},
          "execution_count": 8
        }
      ]
    },
    {
      "cell_type": "code",
      "metadata": {
        "colab": {
          "base_uri": "https://localhost:8080/"
        },
        "id": "_5vOnSxmelUO",
        "outputId": "1ee80831-f583-48e6-80d6-08c19a084c07"
      },
      "source": [
        "#link for each brand information\n",
        "brand_link = [x.find('a').get('href') for x in product_info]\n",
        "brand_link"
      ],
      "execution_count": 9,
      "outputs": [
        {
          "output_type": "execute_result",
          "data": {
            "text/plain": [
              "['https://www.ambev.com.br/marcas/cervejas/adriatica',\n",
              " 'https://www.ambev.com.br/marcas/cervejas/andes',\n",
              " 'https://www.ambev.com.br/marcas/cervejas/antarctica',\n",
              " 'https://www.ambev.com.br/marcas/cervejas/becks',\n",
              " 'https://www.ambev.com.br/marcas/cervejas/berrio-do-piaui',\n",
              " 'https://www.ambev.com.br/marcas/cervejas/bohemia',\n",
              " 'https://www.ambev.com.br/marcas/cervejas/brahma',\n",
              " 'https://www.ambev.com.br/marcas/cervejas/budweiser',\n",
              " 'https://www.ambev.com.br/marcas/cervejas/caracu',\n",
              " 'https://www.ambev.com.br/marcas/cervejas/cervejaria-colorado',\n",
              " 'https://www.ambev.com.br/marcas/cervejas/corona',\n",
              " 'https://www.ambev.com.br/marcas/cervejas/esmera-de-goias',\n",
              " 'https://www.ambev.com.br/marcas/cervejas/franziskaner',\n",
              " 'https://www.ambev.com.br/marcas/cervejas/goose-island',\n",
              " 'https://www.ambev.com.br/marcas/cervejas/hoegaarden',\n",
              " 'https://www.ambev.com.br/marcas/cervejas/kona',\n",
              " 'https://www.ambev.com.br/marcas/cervejas/leffe',\n",
              " 'https://www.ambev.com.br/marcas/cervejas/legitima',\n",
              " 'https://www.ambev.com.br/marcas/cervejas/magnifica-do-maranhao',\n",
              " 'https://www.ambev.com.br/marcas/cervejas/michelob-ultra',\n",
              " 'https://www.ambev.com.br/marcas/cervejas/modelo',\n",
              " 'https://www.ambev.com.br/marcas/cervejas/nossa',\n",
              " 'https://www.ambev.com.br/marcas/cervejas/original',\n",
              " 'https://www.ambev.com.br/marcas/cervejas/patagonia',\n",
              " 'https://www.ambev.com.br/marcas/cervejas/polar',\n",
              " 'https://www.ambev.com.br/marcas/cervejas/serramalte',\n",
              " 'https://www.ambev.com.br/marcas/cervejas/serrana',\n",
              " 'https://www.ambev.com.br/marcas/cervejas/skol',\n",
              " 'https://www.ambev.com.br/marcas/cervejas/spaten',\n",
              " 'https://www.ambev.com.br/marcas/cervejas/stella-artois',\n",
              " 'https://www.ambev.com.br/marcas/cervejas/tres-fidalgas',\n",
              " 'https://www.ambev.com.br/marcas/cervejas/wals']"
            ]
          },
          "metadata": {},
          "execution_count": 9
        }
      ]
    },
    {
      "cell_type": "code",
      "metadata": {
        "id": "-bYDt8x-jviv"
      },
      "source": [
        "response = [requests.get(item) for item in brand_link]\n",
        "texts = [BeautifulSoup(lst.text) for lst in response]"
      ],
      "execution_count": 10,
      "outputs": []
    },
    {
      "cell_type": "code",
      "metadata": {
        "id": "2Oc75Xw5n_ou"
      },
      "source": [
        "# extract product informations \n",
        "name = []\n",
        "category = []\n",
        "description = []\n",
        "ingredients = []\n",
        "\n",
        "\n",
        "for text in texts:\n",
        "\n",
        "  temp=[]\n",
        "  for texData in text.find_all('h1',{'class':'title product-info__title'}):\n",
        "    temp.append(texData.get_text())\n",
        "  name.append(temp)\n",
        "\n",
        "  temp2=[]\n",
        "  for texData in text.find_all('div',{'class': 'product-info__category'}):\n",
        "    temp2.append(texData.get_text())\n",
        "  category.append(temp2)\n",
        "    \n",
        "  temp3=[]\n",
        "  for texData in text.find_all('div',{'class': 'product-info__description--has-socials product-info__no-mobile'}):\n",
        "    temp3.append(texData.get_text())\n",
        "  description.append(temp3)\n",
        "    \n",
        "  temp4=[]\n",
        "  for texData in text.find_all('div',{'class': 'product-info__text-feature product-info__no-mobile'}):\n",
        "    temp4.append(texData.get_text())\n",
        "  ingredients.append(temp4)\n"
      ],
      "execution_count": 11,
      "outputs": []
    },
    {
      "cell_type": "code",
      "metadata": {
        "id": "kdyAD-HNreSZ"
      },
      "source": [
        "p = [text.findAll('p',{'class': 'product-info__item product-info__item-icon product-info__item-icon--alcohol-content'}) for text in texts]   \n",
        "#temp5 = [item.find('Teor alcoólico') for item in p]\n",
        "\n",
        "#temp6 = [ul.findAll('li')[2] for ul in uls]\n",
        "\n"
      ],
      "execution_count": null,
      "outputs": []
    },
    {
      "cell_type": "code",
      "metadata": {
        "colab": {
          "base_uri": "https://localhost:8080/",
          "height": 403
        },
        "id": "s1l2JytG-PYr",
        "outputId": "c71daf8b-d77b-4870-daf6-088e10d1ced6"
      },
      "source": [
        "lst = [pd.Series(name), pd.Series(category), pd.Series(description), pd.Series(ingredients)]\n",
        "df = pd.DataFrame(lst)\n",
        "df"
      ],
      "execution_count": 19,
      "outputs": [
        {
          "output_type": "execute_result",
          "data": {
            "text/html": [
              "<div>\n",
              "<style scoped>\n",
              "    .dataframe tbody tr th:only-of-type {\n",
              "        vertical-align: middle;\n",
              "    }\n",
              "\n",
              "    .dataframe tbody tr th {\n",
              "        vertical-align: top;\n",
              "    }\n",
              "\n",
              "    .dataframe thead th {\n",
              "        text-align: right;\n",
              "    }\n",
              "</style>\n",
              "<table border=\"1\" class=\"dataframe\">\n",
              "  <thead>\n",
              "    <tr style=\"text-align: right;\">\n",
              "      <th></th>\n",
              "      <th>0</th>\n",
              "      <th>1</th>\n",
              "      <th>2</th>\n",
              "      <th>3</th>\n",
              "      <th>4</th>\n",
              "      <th>5</th>\n",
              "      <th>6</th>\n",
              "      <th>7</th>\n",
              "      <th>8</th>\n",
              "      <th>9</th>\n",
              "      <th>10</th>\n",
              "      <th>11</th>\n",
              "      <th>12</th>\n",
              "      <th>13</th>\n",
              "      <th>14</th>\n",
              "      <th>15</th>\n",
              "      <th>16</th>\n",
              "      <th>17</th>\n",
              "      <th>18</th>\n",
              "      <th>19</th>\n",
              "      <th>20</th>\n",
              "      <th>21</th>\n",
              "      <th>22</th>\n",
              "      <th>23</th>\n",
              "      <th>24</th>\n",
              "      <th>25</th>\n",
              "      <th>26</th>\n",
              "      <th>27</th>\n",
              "      <th>28</th>\n",
              "      <th>29</th>\n",
              "      <th>30</th>\n",
              "      <th>31</th>\n",
              "    </tr>\n",
              "  </thead>\n",
              "  <tbody>\n",
              "    <tr>\n",
              "      <th>0</th>\n",
              "      <td>[  Adriática ]</td>\n",
              "      <td>[  Andes ]</td>\n",
              "      <td>[]</td>\n",
              "      <td>[  Beck's ]</td>\n",
              "      <td>[  Berrió do Piauí ]</td>\n",
              "      <td>[]</td>\n",
              "      <td>[]</td>\n",
              "      <td>[  Budweiser ]</td>\n",
              "      <td>[  Caracu ]</td>\n",
              "      <td>[]</td>\n",
              "      <td>[]</td>\n",
              "      <td>[  Esmera do Goiás ]</td>\n",
              "      <td>[]</td>\n",
              "      <td>[]</td>\n",
              "      <td>[ Hoegaarden  Wit Blanche ]</td>\n",
              "      <td>[]</td>\n",
              "      <td>[ Leffe  Blonde ]</td>\n",
              "      <td>[  Legítima ]</td>\n",
              "      <td>[  Magnífica ]</td>\n",
              "      <td>[ Michelob  Ultra ]</td>\n",
              "      <td>[  Modelo ]</td>\n",
              "      <td>[  Nossa ]</td>\n",
              "      <td>[ Antarctica  Original ]</td>\n",
              "      <td>[]</td>\n",
              "      <td>[  Polar ]</td>\n",
              "      <td>[  Serramalte ]</td>\n",
              "      <td>[  Serrana ]</td>\n",
              "      <td>[]</td>\n",
              "      <td>[  Spaten ]</td>\n",
              "      <td>[]</td>\n",
              "      <td>[  Três Fidalgas ]</td>\n",
              "      <td>[]</td>\n",
              "    </tr>\n",
              "    <tr>\n",
              "      <th>1</th>\n",
              "      <td>[ Premium American Lager ]</td>\n",
              "      <td>[ Premium American Lager ]</td>\n",
              "      <td>[]</td>\n",
              "      <td>[ German Pilsner ]</td>\n",
              "      <td>[ American Lager ]</td>\n",
              "      <td>[]</td>\n",
              "      <td>[]</td>\n",
              "      <td>[ American Lager ]</td>\n",
              "      <td>[ Sweet Stout ]</td>\n",
              "      <td>[]</td>\n",
              "      <td>[]</td>\n",
              "      <td>[ American Lager ]</td>\n",
              "      <td>[]</td>\n",
              "      <td>[]</td>\n",
              "      <td>[ Witbier ]</td>\n",
              "      <td>[]</td>\n",
              "      <td>[ Belgian Blond Ale ]</td>\n",
              "      <td>[ American Lager ]</td>\n",
              "      <td>[ American Lager ]</td>\n",
              "      <td>[ Ultra Light Lager ]</td>\n",
              "      <td>[ Premium American Lager ]</td>\n",
              "      <td>[ American Lager ]</td>\n",
              "      <td>[ American Lager ]</td>\n",
              "      <td>[]</td>\n",
              "      <td>[ American Lager ]</td>\n",
              "      <td>[ Premium American Lager ]</td>\n",
              "      <td>[ American Lager ]</td>\n",
              "      <td>[]</td>\n",
              "      <td>[ Munich Helles ]</td>\n",
              "      <td>[]</td>\n",
              "      <td>[ American Pale Ale ]</td>\n",
              "      <td>[]</td>\n",
              "    </tr>\n",
              "    <tr>\n",
              "      <th>2</th>\n",
              "      <td>[A Cerveja Adriática 600ml foi criada pelo ale...</td>\n",
              "      <td>[Puro malte argentino inspirado no frescor das...</td>\n",
              "      <td>[]</td>\n",
              "      <td>[Beck’s é uma legítima German Lager Puro Malte...</td>\n",
              "      <td>[Produzida e vendida somente no Piauí, ideal p...</td>\n",
              "      <td>[]</td>\n",
              "      <td>[]</td>\n",
              "      <td>[O processo de produçãoda Budweiser é diferenc...</td>\n",
              "      <td>[Caracu, a cerveja preta FORTE E GOSTOSA, foi ...</td>\n",
              "      <td>[]</td>\n",
              "      <td>[]</td>\n",
              "      <td>[Produzida e vendida exclusivamente em Goiás, ...</td>\n",
              "      <td>[]</td>\n",
              "      <td>[]</td>\n",
              "      <td>[Hoegaarden é uma Witbier belga feita de trigo...</td>\n",
              "      <td>[]</td>\n",
              "      <td>[A cerveja Leffe Blonde possui maltes selecion...</td>\n",
              "      <td>[Feita no Ceará para os cearences, com mandioc...</td>\n",
              "      <td>[A Magnífica é uma cerveja saborosa, leve e re...</td>\n",
              "      <td>[Michelob Ultra é uma cerveja de baixa caloria...</td>\n",
              "      <td>[Maltes tostados lentamente para um sabor por ...</td>\n",
              "      <td>[Feita no Pernambuco para os pernabucanos, com...</td>\n",
              "      <td>[Mais que uma simples cerveja, é uma verdadeir...</td>\n",
              "      <td>[]</td>\n",
              "      <td>[Produzida a partir de maltes e lúpulos seleci...</td>\n",
              "      <td>[Serramalte é uma cerveja puro malte, de cor d...</td>\n",
              "      <td>[Nascida na Serra, refrescante e saborosa. Pre...</td>\n",
              "      <td>[]</td>\n",
              "      <td>[Spaten é a cerveja mais pura que respeita a m...</td>\n",
              "      <td>[]</td>\n",
              "      <td>[Inspirada na herança cultural da cidade de Sã...</td>\n",
              "      <td>[]</td>\n",
              "    </tr>\n",
              "    <tr>\n",
              "      <th>3</th>\n",
              "      <td>[Ingredientes: Água, malte e lúpulo., Alergêni...</td>\n",
              "      <td>[Ingredientes: Água, malte e lúpulo., Alergêni...</td>\n",
              "      <td>[]</td>\n",
              "      <td>[Ingredientes: Água, malte e lúpulo., Alergêni...</td>\n",
              "      <td>[Ingredientes: Lúpulo, Água, Malte, Milho e Su...</td>\n",
              "      <td>[]</td>\n",
              "      <td>[]</td>\n",
              "      <td>[Ingredientes: Água, malte, arroz e lúpulo., A...</td>\n",
              "      <td>[Ingredientes: Água, malte, milho, lúpulo e co...</td>\n",
              "      <td>[]</td>\n",
              "      <td>[]</td>\n",
              "      <td>[Ingredientes: Lúpulo, água, malte, mandioca e...</td>\n",
              "      <td>[]</td>\n",
              "      <td>[]</td>\n",
              "      <td>[Ingredientes: água, malte de cevada, trigo, s...</td>\n",
              "      <td>[]</td>\n",
              "      <td>[Ingredientes: Água, malte de cevada, milho, c...</td>\n",
              "      <td>[Ingredientes: Água, malte, milho, mandioca e ...</td>\n",
              "      <td>[Ingredientes: Água, malte, milho, mandioca e ...</td>\n",
              "      <td>[Ingredientes: Malte, lúpulo e arroz, Alergêni...</td>\n",
              "      <td>[Ingredientes: Água, malte e lúpulo., Alergêni...</td>\n",
              "      <td>[Ingredientes: Água, malte, milho, mandioca e ...</td>\n",
              "      <td>[Ingredientes: Água, malte, milho e lúpulo., A...</td>\n",
              "      <td>[]</td>\n",
              "      <td>[Ingredientes: Água, malte, milho e lúpulo., A...</td>\n",
              "      <td>[Ingredientes: Água, malte e lúpulo., Alergêni...</td>\n",
              "      <td>[Ingredientes: Água, malte, milho e lúpulo., A...</td>\n",
              "      <td>[]</td>\n",
              "      <td>[Ingredientes: Água, malte e lúpulo., Alergêni...</td>\n",
              "      <td>[]</td>\n",
              "      <td>[Ingredientes: Água, malte e lúpulo., Alergêni...</td>\n",
              "      <td>[]</td>\n",
              "    </tr>\n",
              "  </tbody>\n",
              "</table>\n",
              "</div>"
            ],
            "text/plain": [
              "                                                  0   ...  31\n",
              "0                                     [  Adriática ]  ...  []\n",
              "1                         [ Premium American Lager ]  ...  []\n",
              "2  [A Cerveja Adriática 600ml foi criada pelo ale...  ...  []\n",
              "3  [Ingredientes: Água, malte e lúpulo., Alergêni...  ...  []\n",
              "\n",
              "[4 rows x 32 columns]"
            ]
          },
          "metadata": {},
          "execution_count": 19
        }
      ]
    },
    {
      "cell_type": "code",
      "metadata": {
        "id": "7UaYtNrSzgxr"
      },
      "source": [
        ""
      ],
      "execution_count": null,
      "outputs": []
    }
  ]
}