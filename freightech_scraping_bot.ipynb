{
  "nbformat": 4,
  "nbformat_minor": 0,
  "metadata": {
    "colab": {
      "name": "freightech-scraping-bot.ipynb",
      "provenance": [],
      "authorship_tag": "ABX9TyPADAjXc8eyN27mr/ZXngO1",
      "include_colab_link": true
    },
    "kernelspec": {
      "name": "python3",
      "display_name": "Python 3"
    },
    "language_info": {
      "name": "python"
    }
  },
  "cells": [
    {
      "cell_type": "markdown",
      "metadata": {
        "id": "view-in-github",
        "colab_type": "text"
      },
      "source": [
        "<a href=\"https://colab.research.google.com/github/carolvieirav/operalabs/blob/main/freightech_scraping_bot.ipynb\" target=\"_parent\"><img src=\"https://colab.research.google.com/assets/colab-badge.svg\" alt=\"Open In Colab\"/></a>"
      ]
    },
    {
      "cell_type": "markdown",
      "source": [
        "## Install & Import"
      ],
      "metadata": {
        "id": "q1ffLzvDQj1-"
      }
    },
    {
      "cell_type": "code",
      "execution_count": null,
      "metadata": {
        "id": "xW1XVPP_QG9e"
      },
      "outputs": [],
      "source": [
        "!pip install selenium\n",
        "!apt install chromium-chromedriver\n",
        "\n",
        "import requests\n",
        "import numpy as np\n",
        "import pandas as pd\n",
        "from bs4 import BeautifulSoup\n",
        "import re\n",
        "from functools import reduce\n",
        "\n",
        "from selenium import webdriver\n",
        "from selenium.webdriver.common.keys import Keys\n",
        "from selenium.webdriver.support import expected_conditions as EC\n",
        "from selenium.webdriver.support.ui import WebDriverWait\n",
        "from selenium.webdriver.common.by import By\n",
        "from selenium.webdriver import ActionChains\n",
        "from selenium.webdriver.common.action_chains import ActionChains\n",
        "from selenium.webdriver.support.ui import Select\n",
        "from selenium import webdriver\n",
        "from selenium.webdriver.common.keys import Keys\n",
        "from selenium.webdriver.support import expected_conditions as EC\n",
        "from selenium.webdriver.support.ui import WebDriverWait\n",
        "from selenium.webdriver.common.by import By\n",
        "from selenium.webdriver import ActionChains\n",
        "from selenium.webdriver.common.action_chains import ActionChains\n",
        "from selenium.webdriver.support.ui import Select\n",
        "  \n",
        "  \n",
        "options = webdriver.ChromeOptions()\n",
        "options.add_argument('--headless')\n",
        "options.add_argument('--no-sandbox')\n",
        "options.add_argument('--disable-dev-shm-usage')\n",
        "  "
      ]
    },
    {
      "cell_type": "markdown",
      "source": [
        "##  Class Bot"
      ],
      "metadata": {
        "id": "oojFPfFmQnDt"
      }
    },
    {
      "cell_type": "code",
      "source": [
        "class Bot:\n",
        "  \n",
        "  def __init__(self,username,password):\n",
        "    self.username = username\n",
        "    self.password = password\n",
        "    self.bot = webdriver.Chrome('chromedriver',options=options)\n",
        "\n",
        "  def login(self):\n",
        "    \n",
        "    bot = self.bot\n",
        "    bot.get(\"https://freightech.ambev.com.br/#/login\")\n",
        "    bot.implicitly_wait(10) # seconds\n",
        "    email = bot.find_element_by_xpath(\"/html/body/app-root/ft-core-login/div/div/div/wac-input[1]/div/div/input\")\n",
        "    password = bot.find_element_by_xpath(\"/html/body/app-root/ft-core-login/div/div/div/wac-input[2]/div/div/input\")\n",
        "    email.clear()\n",
        "    password.clear()\n",
        "    email.send_keys(self.username)\n",
        "    password.send_keys(self.password)\n",
        "    bot.find_element_by_xpath(\"/html/body/app-root/ft-core-login/div/div/div/wac-button[1]/button\").click()\n",
        "    print(\"Logged in Successfuly\")\n",
        "\n",
        "  def click_elem(self,path):\n",
        "    bot = self.bot\n",
        "    element = bot.find_element_by_xpath(path)\n",
        "    bot.implicitly_wait(10) # seconds\n",
        "    element.click()\n",
        "\n",
        "  def bs(self,search):\n",
        "    bot = self.bot\n",
        "    bot.implicitly_wait(10) # seconds\n",
        "    html = bot.page_source\n",
        "    soup = BeautifulSoup(html, 'xml')\n",
        "    return soup.find_all(search)\n",
        "\n",
        "  def get_text_list(self, path):\n",
        "    bot= self.bot\n",
        "    xpath = bot.find_elements_by_xpath(path)\n",
        "    data = []\n",
        "    for i in xpath:\n",
        "      data.append(i.text)\n",
        "    return data\n"
      ],
      "metadata": {
        "id": "4Hf1ESmRQtVU"
      },
      "execution_count": 7,
      "outputs": []
    },
    {
      "cell_type": "code",
      "source": [
        "automate = Bot(\"anne.pereira@operalog.com.br\", \"55026170\") \n",
        "automate.login()"
      ],
      "metadata": {
        "id": "r4BjI-YsQuOL",
        "colab": {
          "base_uri": "https://localhost:8080/"
        },
        "outputId": "07c30d0b-2e60-4e04-d3c6-9a7cc47b3a97"
      },
      "execution_count": 8,
      "outputs": [
        {
          "output_type": "stream",
          "name": "stderr",
          "text": [
            "/usr/local/lib/python3.7/dist-packages/ipykernel_launcher.py:13: DeprecationWarning: find_element_by_* commands are deprecated. Please use find_element() instead\n",
            "  del sys.path[0]\n",
            "/usr/local/lib/python3.7/dist-packages/ipykernel_launcher.py:14: DeprecationWarning: find_element_by_* commands are deprecated. Please use find_element() instead\n",
            "  \n"
          ]
        },
        {
          "output_type": "stream",
          "name": "stdout",
          "text": [
            "Logged in Successfuly\n"
          ]
        },
        {
          "output_type": "stream",
          "name": "stderr",
          "text": [
            "/usr/local/lib/python3.7/dist-packages/ipykernel_launcher.py:19: DeprecationWarning: find_element_by_* commands are deprecated. Please use find_element() instead\n"
          ]
        }
      ]
    },
    {
      "cell_type": "code",
      "source": [
        ""
      ],
      "metadata": {
        "id": "O_9t39_BQwmA"
      },
      "execution_count": 8,
      "outputs": []
    },
    {
      "cell_type": "markdown",
      "source": [
        "## Rota seleção"
      ],
      "metadata": {
        "id": "3l-ATpuSQ5Ba"
      }
    },
    {
      "cell_type": "code",
      "source": [
        "automate.bot.implicitly_wait(10) # seconds\n",
        "automate.bot.get(\"https://freightech.ambev.com.br/#/escolha-segmento\")"
      ],
      "metadata": {
        "id": "YnsKYdQtuHzU"
      },
      "execution_count": 11,
      "outputs": []
    },
    {
      "cell_type": "code",
      "source": [
        "automate.bot.implicitly_wait(10) # seconds\n",
        "rota = automate.bot.find_element_by_xpath('/html/body/app-root/ft-home/div/main/div/wac-escolha-seguimento/ft-escolha-segmento/div[1]/div[1]/div/ft-segmentos/div/wac-select/ng-select/div/div/div[2]/input')\n",
        "automate.bot.implicitly_wait(10) # seconds\n",
        "rota.clear\n",
        "automate.bot.implicitly_wait(10) # seconds\n",
        "rota.send_keys('ROTA')\n",
        "rota.send_keys(Keys.RETURN)"
      ],
      "metadata": {
        "id": "oxY-qjFYHbOi",
        "colab": {
          "base_uri": "https://localhost:8080/"
        },
        "outputId": "0857101f-aa6c-4cbc-e379-79c9b04c452a"
      },
      "execution_count": 12,
      "outputs": [
        {
          "output_type": "stream",
          "name": "stderr",
          "text": [
            "/usr/local/lib/python3.7/dist-packages/ipykernel_launcher.py:2: DeprecationWarning: find_element_by_* commands are deprecated. Please use find_element() instead\n",
            "  \n"
          ]
        }
      ]
    },
    {
      "cell_type": "code",
      "source": [
        "automate.bot.implicitly_wait(10) # seconds\n",
        "vigencia = automate.bot.find_element_by_xpath('//*[@id=\"vigenciaSelect\"]/div/wac-select/ng-select/div/div/div[2]/input')\n",
        "automate.bot.implicitly_wait(10) # seconds\n",
        "vigencia.clear\n",
        "automate.bot.implicitly_wait(10)\n",
        "vigencia.send_keys('ROTA_1_12_2021')\n",
        "vigencia.send_keys(Keys.RETURN)"
      ],
      "metadata": {
        "id": "da1HeNzHHo4M",
        "colab": {
          "base_uri": "https://localhost:8080/"
        },
        "outputId": "a628ffd0-d357-4382-d03b-2f10fed4419d"
      },
      "execution_count": 13,
      "outputs": [
        {
          "output_type": "stream",
          "name": "stderr",
          "text": [
            "/usr/local/lib/python3.7/dist-packages/ipykernel_launcher.py:2: DeprecationWarning: find_element_by_* commands are deprecated. Please use find_element() instead\n",
            "  \n"
          ]
        }
      ]
    },
    {
      "cell_type": "code",
      "source": [
        "automate.bot.implicitly_wait(10) # seconds\n",
        "unidade = automate.bot.find_element_by_xpath('//*[@id=\"unidadeSelect\"]/div/wac-select/ng-select/div/div/div[2]/input')\n",
        "automate.bot.implicitly_wait(10) # seconds\n",
        "unidade.clear\n",
        "automate.bot.implicitly_wait(10)\n",
        "unidade.send_keys('CDD BARREIRAS-OPERALOG')\n",
        "unidade.send_keys(Keys.RETURN)"
      ],
      "metadata": {
        "colab": {
          "base_uri": "https://localhost:8080/"
        },
        "id": "TBzsG1HKnm17",
        "outputId": "acc5cfd8-5006-43da-e22a-8bc7c82cc086"
      },
      "execution_count": 14,
      "outputs": [
        {
          "output_type": "stream",
          "name": "stderr",
          "text": [
            "/usr/local/lib/python3.7/dist-packages/ipykernel_launcher.py:2: DeprecationWarning: find_element_by_* commands are deprecated. Please use find_element() instead\n",
            "  \n"
          ]
        }
      ]
    },
    {
      "cell_type": "code",
      "source": [
        "automate.bot.implicitly_wait(10) # seconds\n",
        "\n",
        "automate.bot.find_element_by_xpath(\"/html/body/app-root/ft-home/div/main/div/wac-escolha-seguimento/ft-escolha-segmento/div/div[4]/wac-button/button\").click()"
      ],
      "metadata": {
        "colab": {
          "base_uri": "https://localhost:8080/"
        },
        "id": "dNav3xb2omyD",
        "outputId": "ab887545-470d-49cf-a8a9-12e4b7bef20d"
      },
      "execution_count": 15,
      "outputs": [
        {
          "output_type": "stream",
          "name": "stderr",
          "text": [
            "/usr/local/lib/python3.7/dist-packages/ipykernel_launcher.py:3: DeprecationWarning: find_element_by_* commands are deprecated. Please use find_element() instead\n",
            "  This is separate from the ipykernel package so we can avoid doing imports until\n"
          ]
        }
      ]
    },
    {
      "cell_type": "code",
      "source": [
        "automate.bot.implicitly_wait(10)\n",
        "pagina_atual = automate.bot.window_handles[0]\n",
        "automate.bot.switch_to.window(pagina_atual)"
      ],
      "metadata": {
        "id": "I63MC1SUGY2d"
      },
      "execution_count": 16,
      "outputs": []
    },
    {
      "cell_type": "markdown",
      "source": [
        "## Benefício Equipe Entrega"
      ],
      "metadata": {
        "id": "l0kcouvCnIMK"
      }
    },
    {
      "cell_type": "markdown",
      "source": [
        "### select"
      ],
      "metadata": {
        "id": "trzBI_zuvdY-"
      }
    },
    {
      "cell_type": "code",
      "source": [
        "automate.bot.implicitly_wait(10)\n",
        "automate.bot.find_element_by_xpath('/html/body/app-root/ft-home/div/main/div/wac-escolha-seguimento/ft-escolha-segmento/div[2]/div/div[1]/wac-card-fav/div/a/wac-text/p').click()"
      ],
      "metadata": {
        "colab": {
          "base_uri": "https://localhost:8080/"
        },
        "id": "eEmfaSC9HzjP",
        "outputId": "79999a04-3832-41ef-ca86-f91f9b377864"
      },
      "execution_count": 17,
      "outputs": [
        {
          "output_type": "stream",
          "name": "stderr",
          "text": [
            "/usr/local/lib/python3.7/dist-packages/ipykernel_launcher.py:2: DeprecationWarning: find_element_by_* commands are deprecated. Please use find_element() instead\n",
            "  \n"
          ]
        }
      ]
    },
    {
      "cell_type": "code",
      "source": [
        "pagina_atual = automate.bot.window_handles[0]\n",
        "automate.bot.switch_to.window(pagina_atual)\n",
        "\n",
        "automate.bot.implicitly_wait(10)"
      ],
      "metadata": {
        "id": "YVb3CyhSGZGs"
      },
      "execution_count": 18,
      "outputs": []
    },
    {
      "cell_type": "code",
      "source": [
        "automate.bot.find_element_by_xpath('/html/body/app-root/ft-home/div/main/div/ft-multiple-generic/div/div/section[2]/div/div[2]/wac-select/ng-select').click()"
      ],
      "metadata": {
        "colab": {
          "base_uri": "https://localhost:8080/"
        },
        "id": "LKGuSH3XUpuj",
        "outputId": "bb7d0e9a-daf1-40c3-8cb0-3e82c4616d47"
      },
      "execution_count": 19,
      "outputs": [
        {
          "output_type": "stream",
          "name": "stderr",
          "text": [
            "/usr/local/lib/python3.7/dist-packages/ipykernel_launcher.py:1: DeprecationWarning: find_element_by_* commands are deprecated. Please use find_element() instead\n",
            "  \"\"\"Entry point for launching an IPython kernel.\n"
          ]
        }
      ]
    },
    {
      "cell_type": "code",
      "source": [
        "automate.bot.find_element_by_xpath('/html/body/app-root/ft-home/div/main/div/ft-multiple-generic/div/div/section[2]/div/div[2]/wac-select/ng-select/ng-dropdown-panel/div/div[2]/div[1]/span').click()"
      ],
      "metadata": {
        "id": "RMKGDBk1mzVE",
        "outputId": "52b9619c-acd0-44ce-f77e-de54d1a70cc2",
        "colab": {
          "base_uri": "https://localhost:8080/"
        }
      },
      "execution_count": 20,
      "outputs": [
        {
          "output_type": "stream",
          "name": "stderr",
          "text": [
            "/usr/local/lib/python3.7/dist-packages/ipykernel_launcher.py:1: DeprecationWarning: find_element_by_* commands are deprecated. Please use find_element() instead\n",
            "  \"\"\"Entry point for launching an IPython kernel.\n"
          ]
        }
      ]
    },
    {
      "cell_type": "code",
      "source": [
        "pagina_atual = automate.bot.window_handles[0]\n",
        "automate.bot.switch_to.window(pagina_atual)\n",
        "\n",
        "automate.bot.implicitly_wait(10)"
      ],
      "metadata": {
        "id": "VH-RRo4umzcD"
      },
      "execution_count": 21,
      "outputs": []
    },
    {
      "cell_type": "markdown",
      "source": [
        "### extract table"
      ],
      "metadata": {
        "id": "RbxOf-bAvpyN"
      }
    },
    {
      "cell_type": "code",
      "source": [
        "table = automate.bot.find_elements_by_xpath('/html/body/app-root/ft-home/div/main/div/ft-multiple-generic/div/div/div[2]/ft-dinamic-grid')"
      ],
      "metadata": {
        "id": "mAEbZDktTSAx",
        "outputId": "92dd0471-24a5-4e84-a0f3-03ab4e24db44",
        "colab": {
          "base_uri": "https://localhost:8080/"
        }
      },
      "execution_count": 33,
      "outputs": [
        {
          "output_type": "stream",
          "name": "stderr",
          "text": [
            "/usr/local/lib/python3.7/dist-packages/ipykernel_launcher.py:1: DeprecationWarning: find_elements_by_* commands are deprecated. Please use find_elements() instead\n",
            "  \"\"\"Entry point for launching an IPython kernel.\n"
          ]
        }
      ]
    },
    {
      "cell_type": "code",
      "source": [
        "dates = [date_element.text for date_element in WebDriverWait(automate.bot, 20).until(EC.visibility_of_all_elements_located((By.XPATH, \"\")))]\n"
      ],
      "metadata": {
        "id": "c-2zEJ7Rx5Qg"
      },
      "execution_count": null,
      "outputs": []
    },
    {
      "cell_type": "code",
      "source": [
        "table.replace('\\n', ' ')"
      ],
      "metadata": {
        "id": "AyoLR2xmnUca",
        "outputId": "2574dcf3-7fc0-43f2-ac0e-10a66f20aba8",
        "colab": {
          "base_uri": "https://localhost:8080/",
          "height": 165
        }
      },
      "execution_count": 34,
      "outputs": [
        {
          "output_type": "error",
          "ename": "AttributeError",
          "evalue": "ignored",
          "traceback": [
            "\u001b[0;31m---------------------------------------------------------------------------\u001b[0m",
            "\u001b[0;31mAttributeError\u001b[0m                            Traceback (most recent call last)",
            "\u001b[0;32m<ipython-input-34-31a49f43a57a>\u001b[0m in \u001b[0;36m<module>\u001b[0;34m()\u001b[0m\n\u001b[0;32m----> 1\u001b[0;31m \u001b[0mtable\u001b[0m\u001b[0;34m.\u001b[0m\u001b[0mreplace\u001b[0m\u001b[0;34m(\u001b[0m\u001b[0;34m'\\n'\u001b[0m\u001b[0;34m,\u001b[0m \u001b[0;34m' '\u001b[0m\u001b[0;34m)\u001b[0m\u001b[0;34m\u001b[0m\u001b[0;34m\u001b[0m\u001b[0m\n\u001b[0m",
            "\u001b[0;31mAttributeError\u001b[0m: 'list' object has no attribute 'replace'"
          ]
        }
      ]
    },
    {
      "cell_type": "code",
      "source": [
        ""
      ],
      "metadata": {
        "id": "XSPLCXXAnlMM"
      },
      "execution_count": null,
      "outputs": []
    }
  ]
}