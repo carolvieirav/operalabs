{
  "nbformat": 4,
  "nbformat_minor": 0,
  "metadata": {
    "colab": {
      "name": "freightech-scraping-bot.ipynb",
      "provenance": [],
      "authorship_tag": "ABX9TyOpuh1pwbl9/TmKZT35Hrjf",
      "include_colab_link": true
    },
    "kernelspec": {
      "name": "python3",
      "display_name": "Python 3"
    },
    "language_info": {
      "name": "python"
    }
  },
  "cells": [
    {
      "cell_type": "markdown",
      "metadata": {
        "id": "view-in-github",
        "colab_type": "text"
      },
      "source": [
        "<a href=\"https://colab.research.google.com/github/carolvieirav/operalabs/blob/main/freightech_scraping_bot.ipynb\" target=\"_parent\"><img src=\"https://colab.research.google.com/assets/colab-badge.svg\" alt=\"Open In Colab\"/></a>"
      ]
    },
    {
      "cell_type": "markdown",
      "source": [
        "## Install & Import"
      ],
      "metadata": {
        "id": "q1ffLzvDQj1-"
      }
    },
    {
      "cell_type": "code",
      "execution_count": 1,
      "metadata": {
        "id": "xW1XVPP_QG9e",
        "outputId": "f03b375b-a977-42e6-dd28-eb6d9f6081e7",
        "colab": {
          "base_uri": "https://localhost:8080/"
        }
      },
      "outputs": [
        {
          "output_type": "stream",
          "name": "stdout",
          "text": [
            "Collecting selenium\n",
            "  Downloading selenium-4.1.0-py3-none-any.whl (958 kB)\n",
            "\u001b[K     |████████████████████████████████| 958 kB 24.9 MB/s \n",
            "\u001b[?25hCollecting urllib3[secure]~=1.26\n",
            "  Downloading urllib3-1.26.7-py2.py3-none-any.whl (138 kB)\n",
            "\u001b[K     |████████████████████████████████| 138 kB 37.8 MB/s \n",
            "\u001b[?25hCollecting trio-websocket~=0.9\n",
            "  Downloading trio_websocket-0.9.2-py3-none-any.whl (16 kB)\n",
            "Collecting trio~=0.17\n",
            "  Downloading trio-0.19.0-py3-none-any.whl (356 kB)\n",
            "\u001b[K     |████████████████████████████████| 356 kB 27.8 MB/s \n",
            "\u001b[?25hCollecting async-generator>=1.9\n",
            "  Downloading async_generator-1.10-py3-none-any.whl (18 kB)\n",
            "Requirement already satisfied: idna in /usr/local/lib/python3.7/dist-packages (from trio~=0.17->selenium) (2.10)\n",
            "Collecting sniffio\n",
            "  Downloading sniffio-1.2.0-py3-none-any.whl (10 kB)\n",
            "Requirement already satisfied: sortedcontainers in /usr/local/lib/python3.7/dist-packages (from trio~=0.17->selenium) (2.4.0)\n",
            "Requirement already satisfied: attrs>=19.2.0 in /usr/local/lib/python3.7/dist-packages (from trio~=0.17->selenium) (21.2.0)\n",
            "Collecting outcome\n",
            "  Downloading outcome-1.1.0-py2.py3-none-any.whl (9.7 kB)\n",
            "Collecting wsproto>=0.14\n",
            "  Downloading wsproto-1.0.0-py3-none-any.whl (24 kB)\n",
            "Requirement already satisfied: certifi in /usr/local/lib/python3.7/dist-packages (from urllib3[secure]~=1.26->selenium) (2021.10.8)\n",
            "Collecting pyOpenSSL>=0.14\n",
            "  Downloading pyOpenSSL-21.0.0-py2.py3-none-any.whl (55 kB)\n",
            "\u001b[K     |████████████████████████████████| 55 kB 3.3 MB/s \n",
            "\u001b[?25hCollecting cryptography>=1.3.4\n",
            "  Downloading cryptography-36.0.1-cp36-abi3-manylinux_2_24_x86_64.whl (3.6 MB)\n",
            "\u001b[K     |████████████████████████████████| 3.6 MB 49.6 MB/s \n",
            "\u001b[?25hRequirement already satisfied: cffi>=1.12 in /usr/local/lib/python3.7/dist-packages (from cryptography>=1.3.4->urllib3[secure]~=1.26->selenium) (1.15.0)\n",
            "Requirement already satisfied: pycparser in /usr/local/lib/python3.7/dist-packages (from cffi>=1.12->cryptography>=1.3.4->urllib3[secure]~=1.26->selenium) (2.21)\n",
            "Requirement already satisfied: six>=1.5.2 in /usr/local/lib/python3.7/dist-packages (from pyOpenSSL>=0.14->urllib3[secure]~=1.26->selenium) (1.15.0)\n",
            "Collecting h11<1,>=0.9.0\n",
            "  Downloading h11-0.12.0-py3-none-any.whl (54 kB)\n",
            "\u001b[K     |████████████████████████████████| 54 kB 3.1 MB/s \n",
            "\u001b[?25hInstalling collected packages: sniffio, outcome, h11, cryptography, async-generator, wsproto, urllib3, trio, pyOpenSSL, trio-websocket, selenium\n",
            "  Attempting uninstall: urllib3\n",
            "    Found existing installation: urllib3 1.24.3\n",
            "    Uninstalling urllib3-1.24.3:\n",
            "      Successfully uninstalled urllib3-1.24.3\n",
            "\u001b[31mERROR: pip's dependency resolver does not currently take into account all the packages that are installed. This behaviour is the source of the following dependency conflicts.\n",
            "requests 2.23.0 requires urllib3!=1.25.0,!=1.25.1,<1.26,>=1.21.1, but you have urllib3 1.26.7 which is incompatible.\n",
            "datascience 0.10.6 requires folium==0.2.1, but you have folium 0.8.3 which is incompatible.\u001b[0m\n",
            "Successfully installed async-generator-1.10 cryptography-36.0.1 h11-0.12.0 outcome-1.1.0 pyOpenSSL-21.0.0 selenium-4.1.0 sniffio-1.2.0 trio-0.19.0 trio-websocket-0.9.2 urllib3-1.26.7 wsproto-1.0.0\n",
            "Reading package lists... Done\n",
            "Building dependency tree       \n",
            "Reading state information... Done\n",
            "The following additional packages will be installed:\n",
            "  chromium-browser chromium-browser-l10n chromium-codecs-ffmpeg-extra\n",
            "Suggested packages:\n",
            "  webaccounts-chromium-extension unity-chromium-extension\n",
            "The following NEW packages will be installed:\n",
            "  chromium-browser chromium-browser-l10n chromium-chromedriver\n",
            "  chromium-codecs-ffmpeg-extra\n",
            "0 upgraded, 4 newly installed, 0 to remove and 37 not upgraded.\n",
            "Need to get 94.0 MB of archives.\n",
            "After this operation, 324 MB of additional disk space will be used.\n",
            "Get:1 http://archive.ubuntu.com/ubuntu bionic-updates/universe amd64 chromium-codecs-ffmpeg-extra amd64 95.0.4638.69-0ubuntu0.18.04.1 [1,135 kB]\n",
            "Get:2 http://archive.ubuntu.com/ubuntu bionic-updates/universe amd64 chromium-browser amd64 95.0.4638.69-0ubuntu0.18.04.1 [83.6 MB]\n",
            "Get:3 http://archive.ubuntu.com/ubuntu bionic-updates/universe amd64 chromium-browser-l10n all 95.0.4638.69-0ubuntu0.18.04.1 [4,249 kB]\n",
            "Get:4 http://archive.ubuntu.com/ubuntu bionic-updates/universe amd64 chromium-chromedriver amd64 95.0.4638.69-0ubuntu0.18.04.1 [4,986 kB]\n",
            "Fetched 94.0 MB in 3s (27.4 MB/s)\n",
            "Selecting previously unselected package chromium-codecs-ffmpeg-extra.\n",
            "(Reading database ... 155222 files and directories currently installed.)\n",
            "Preparing to unpack .../chromium-codecs-ffmpeg-extra_95.0.4638.69-0ubuntu0.18.04.1_amd64.deb ...\n",
            "Unpacking chromium-codecs-ffmpeg-extra (95.0.4638.69-0ubuntu0.18.04.1) ...\n",
            "Selecting previously unselected package chromium-browser.\n",
            "Preparing to unpack .../chromium-browser_95.0.4638.69-0ubuntu0.18.04.1_amd64.deb ...\n",
            "Unpacking chromium-browser (95.0.4638.69-0ubuntu0.18.04.1) ...\n",
            "Selecting previously unselected package chromium-browser-l10n.\n",
            "Preparing to unpack .../chromium-browser-l10n_95.0.4638.69-0ubuntu0.18.04.1_all.deb ...\n",
            "Unpacking chromium-browser-l10n (95.0.4638.69-0ubuntu0.18.04.1) ...\n",
            "Selecting previously unselected package chromium-chromedriver.\n",
            "Preparing to unpack .../chromium-chromedriver_95.0.4638.69-0ubuntu0.18.04.1_amd64.deb ...\n",
            "Unpacking chromium-chromedriver (95.0.4638.69-0ubuntu0.18.04.1) ...\n",
            "Setting up chromium-codecs-ffmpeg-extra (95.0.4638.69-0ubuntu0.18.04.1) ...\n",
            "Setting up chromium-browser (95.0.4638.69-0ubuntu0.18.04.1) ...\n",
            "update-alternatives: using /usr/bin/chromium-browser to provide /usr/bin/x-www-browser (x-www-browser) in auto mode\n",
            "update-alternatives: using /usr/bin/chromium-browser to provide /usr/bin/gnome-www-browser (gnome-www-browser) in auto mode\n",
            "Setting up chromium-chromedriver (95.0.4638.69-0ubuntu0.18.04.1) ...\n",
            "Setting up chromium-browser-l10n (95.0.4638.69-0ubuntu0.18.04.1) ...\n",
            "Processing triggers for man-db (2.8.3-2ubuntu0.1) ...\n",
            "Processing triggers for hicolor-icon-theme (0.17-2) ...\n",
            "Processing triggers for mime-support (3.60ubuntu1) ...\n",
            "Processing triggers for libc-bin (2.27-3ubuntu1.3) ...\n",
            "/sbin/ldconfig.real: /usr/local/lib/python3.7/dist-packages/ideep4py/lib/libmkldnn.so.0 is not a symbolic link\n",
            "\n"
          ]
        },
        {
          "output_type": "stream",
          "name": "stderr",
          "text": [
            "/usr/local/lib/python3.7/dist-packages/requests/__init__.py:91: RequestsDependencyWarning: urllib3 (1.26.7) or chardet (3.0.4) doesn't match a supported version!\n",
            "  RequestsDependencyWarning)\n"
          ]
        }
      ],
      "source": [
        "!pip install selenium\n",
        "!apt install chromium-chromedriver\n",
        "\n",
        "import requests\n",
        "import numpy as np\n",
        "import pandas as pd\n",
        "from bs4 import BeautifulSoup\n",
        "import re\n",
        "from functools import reduce\n",
        "\n",
        "from selenium import webdriver\n",
        "from selenium.webdriver.common.keys import Keys\n",
        "from selenium.webdriver.support import expected_conditions as EC\n",
        "from selenium.webdriver.support.ui import WebDriverWait\n",
        "from selenium.webdriver.common.by import By\n",
        "from selenium.webdriver import ActionChains\n",
        "from selenium.webdriver.common.action_chains import ActionChains\n",
        "from selenium.webdriver.support.ui import Select\n",
        "from selenium import webdriver\n",
        "from selenium.webdriver.common.keys import Keys\n",
        "from selenium.webdriver.support import expected_conditions as EC\n",
        "from selenium.webdriver.support.ui import WebDriverWait\n",
        "from selenium.webdriver.common.by import By\n",
        "from selenium.webdriver import ActionChains\n",
        "from selenium.webdriver.common.action_chains import ActionChains\n",
        "from selenium.webdriver.support.ui import Select\n",
        "  \n",
        "  \n",
        "options = webdriver.ChromeOptions()\n",
        "options.add_argument('--headless')\n",
        "options.add_argument('--no-sandbox')\n",
        "options.add_argument('--disable-dev-shm-usage')\n",
        "  "
      ]
    },
    {
      "cell_type": "markdown",
      "source": [
        "##  Class Bot"
      ],
      "metadata": {
        "id": "oojFPfFmQnDt"
      }
    },
    {
      "cell_type": "code",
      "source": [
        "class Bot:\n",
        "  \n",
        "  def __init__(self,username,password):\n",
        "    self.username = username\n",
        "    self.password = password\n",
        "    self.bot = webdriver.Chrome('chromedriver',options=options)\n",
        "\n",
        "  def login(self):\n",
        "    \n",
        "    bot = self.bot\n",
        "    bot.get(\"https://freightech.ambev.com.br/#/login\")\n",
        "    bot.implicitly_wait(10) # seconds\n",
        "    email = bot.find_element_by_xpath(\"/html/body/app-root/ft-core-login/div/div/div/wac-input[1]/div/div/input\")\n",
        "    password = bot.find_element_by_xpath(\"/html/body/app-root/ft-core-login/div/div/div/wac-input[2]/div/div/input\")\n",
        "    email.clear()\n",
        "    password.clear()\n",
        "    email.send_keys(self.username)\n",
        "    password.send_keys(self.password)\n",
        "    bot.find_element_by_xpath(\"/html/body/app-root/ft-core-login/div/div/div/wac-button[1]/button\").click()\n",
        "    print(\"Logged in Successfuly\")\n",
        "\n",
        "  def click_elem(self,path):\n",
        "    bot = self.bot\n",
        "    element = bot.find_element_by_xpath(path)\n",
        "    bot.implicitly_wait(10) # seconds\n",
        "    element.click()\n",
        "\n",
        "  def bs(self,search):\n",
        "    bot = self.bot\n",
        "    bot.implicitly_wait(10) # seconds\n",
        "    html = bot.page_source\n",
        "    soup = BeautifulSoup(html, 'xml')\n",
        "    return soup.find_all(search)\n",
        "\n",
        "  def get_text_list(self, path):\n",
        "    bot= self.bot\n",
        "    xpath = bot.find_elements_by_xpath(path)\n",
        "    data = []\n",
        "    for i in xpath:\n",
        "      data.append(i.text)\n",
        "    return data\n"
      ],
      "metadata": {
        "id": "4Hf1ESmRQtVU"
      },
      "execution_count": 31,
      "outputs": []
    },
    {
      "cell_type": "code",
      "source": [
        "automate = Bot(\"anne.pereira@operalog.com.br\", \"55026170\") \n",
        "automate.login()"
      ],
      "metadata": {
        "id": "r4BjI-YsQuOL",
        "colab": {
          "base_uri": "https://localhost:8080/"
        },
        "outputId": "81995908-fceb-46cc-aaaf-abf3c817d5fe"
      },
      "execution_count": 32,
      "outputs": [
        {
          "output_type": "stream",
          "name": "stderr",
          "text": [
            "/usr/local/lib/python3.7/dist-packages/ipykernel_launcher.py:13: DeprecationWarning: find_element_by_* commands are deprecated. Please use find_element() instead\n",
            "  del sys.path[0]\n",
            "/usr/local/lib/python3.7/dist-packages/ipykernel_launcher.py:14: DeprecationWarning: find_element_by_* commands are deprecated. Please use find_element() instead\n",
            "  \n"
          ]
        },
        {
          "output_type": "stream",
          "name": "stdout",
          "text": [
            "Logged in Successfuly\n"
          ]
        },
        {
          "output_type": "stream",
          "name": "stderr",
          "text": [
            "/usr/local/lib/python3.7/dist-packages/ipykernel_launcher.py:19: DeprecationWarning: find_element_by_* commands are deprecated. Please use find_element() instead\n"
          ]
        }
      ]
    },
    {
      "cell_type": "code",
      "source": [
        ""
      ],
      "metadata": {
        "id": "O_9t39_BQwmA"
      },
      "execution_count": 32,
      "outputs": []
    },
    {
      "cell_type": "markdown",
      "source": [
        "## Rota seleção"
      ],
      "metadata": {
        "id": "3l-ATpuSQ5Ba"
      }
    },
    {
      "cell_type": "code",
      "source": [
        "automate.bot.implicitly_wait(10) # seconds\n",
        "automate.bot.get(\"https://freightech.ambev.com.br/#/escolha-segmento\")"
      ],
      "metadata": {
        "id": "YnsKYdQtuHzU"
      },
      "execution_count": 35,
      "outputs": []
    },
    {
      "cell_type": "code",
      "source": [
        "automate.bot.implicitly_wait(10) # seconds\n",
        "rota = automate.bot.find_element_by_xpath('/html/body/app-root/ft-home/div/main/div/wac-escolha-seguimento/ft-escolha-segmento/div[1]/div[1]/div/ft-segmentos/div/wac-select/ng-select/div/div/div[2]/input')\n",
        "automate.bot.implicitly_wait(10) # seconds\n",
        "rota.clear\n",
        "automate.bot.implicitly_wait(10) # seconds\n",
        "rota.send_keys('ROTA')\n",
        "rota.send_keys(Keys.RETURN)"
      ],
      "metadata": {
        "id": "oxY-qjFYHbOi",
        "colab": {
          "base_uri": "https://localhost:8080/"
        },
        "outputId": "0c954520-d1aa-43e4-dae5-98cde3ee4dbe"
      },
      "execution_count": 36,
      "outputs": [
        {
          "output_type": "stream",
          "name": "stderr",
          "text": [
            "/usr/local/lib/python3.7/dist-packages/ipykernel_launcher.py:2: DeprecationWarning: find_element_by_* commands are deprecated. Please use find_element() instead\n",
            "  \n"
          ]
        }
      ]
    },
    {
      "cell_type": "code",
      "source": [
        "automate.bot.implicitly_wait(10) # seconds\n",
        "vigencia = automate.bot.find_element_by_xpath('//*[@id=\"vigenciaSelect\"]/div/wac-select/ng-select/div/div/div[2]/input')\n",
        "automate.bot.implicitly_wait(10) # seconds\n",
        "vigencia.clear\n",
        "automate.bot.implicitly_wait(10)\n",
        "vigencia.send_keys('ROTA_1_12_2021')\n",
        "vigencia.send_keys(Keys.RETURN)"
      ],
      "metadata": {
        "id": "da1HeNzHHo4M",
        "colab": {
          "base_uri": "https://localhost:8080/"
        },
        "outputId": "d47a96f0-6ae1-4f50-a08e-9c27e9dd8f69"
      },
      "execution_count": 37,
      "outputs": [
        {
          "output_type": "stream",
          "name": "stderr",
          "text": [
            "/usr/local/lib/python3.7/dist-packages/ipykernel_launcher.py:2: DeprecationWarning: find_element_by_* commands are deprecated. Please use find_element() instead\n",
            "  \n"
          ]
        }
      ]
    },
    {
      "cell_type": "code",
      "source": [
        "automate.bot.implicitly_wait(10) # seconds\n",
        "unidade = automate.bot.find_element_by_xpath('//*[@id=\"unidadeSelect\"]/div/wac-select/ng-select/div/div/div[2]/input')\n",
        "automate.bot.implicitly_wait(10) # seconds\n",
        "unidade.clear\n",
        "automate.bot.implicitly_wait(10)\n",
        "unidade.send_keys('CDD BARREIRAS-OPERALOG')\n",
        "unidade.send_keys(Keys.RETURN)"
      ],
      "metadata": {
        "colab": {
          "base_uri": "https://localhost:8080/"
        },
        "id": "TBzsG1HKnm17",
        "outputId": "0fd771ea-3ebc-42af-8ca2-79759a47c02d"
      },
      "execution_count": 38,
      "outputs": [
        {
          "output_type": "stream",
          "name": "stderr",
          "text": [
            "/usr/local/lib/python3.7/dist-packages/ipykernel_launcher.py:2: DeprecationWarning: find_element_by_* commands are deprecated. Please use find_element() instead\n",
            "  \n"
          ]
        }
      ]
    },
    {
      "cell_type": "code",
      "source": [
        "automate.bot.implicitly_wait(10) # seconds\n",
        "\n",
        "automate.bot.find_element_by_xpath(\"/html/body/app-root/ft-home/div/main/div/wac-escolha-seguimento/ft-escolha-segmento/div/div[4]/wac-button/button\").click()"
      ],
      "metadata": {
        "colab": {
          "base_uri": "https://localhost:8080/"
        },
        "id": "dNav3xb2omyD",
        "outputId": "1ae8439d-c801-4382-ccff-31094ca9b24b"
      },
      "execution_count": 39,
      "outputs": [
        {
          "output_type": "stream",
          "name": "stderr",
          "text": [
            "/usr/local/lib/python3.7/dist-packages/ipykernel_launcher.py:3: DeprecationWarning: find_element_by_* commands are deprecated. Please use find_element() instead\n",
            "  This is separate from the ipykernel package so we can avoid doing imports until\n"
          ]
        }
      ]
    },
    {
      "cell_type": "code",
      "source": [
        "automate.bot.implicitly_wait(10)\n",
        "pagina_atual = automate.bot.window_handles[0]\n",
        "automate.bot.switch_to.window(pagina_atual)"
      ],
      "metadata": {
        "id": "I63MC1SUGY2d"
      },
      "execution_count": 40,
      "outputs": []
    },
    {
      "cell_type": "markdown",
      "source": [
        "## Benefício Equipe Entrega"
      ],
      "metadata": {
        "id": "l0kcouvCnIMK"
      }
    },
    {
      "cell_type": "markdown",
      "source": [
        "### select caminhão"
      ],
      "metadata": {
        "id": "trzBI_zuvdY-"
      }
    },
    {
      "cell_type": "code",
      "source": [
        "automate.bot.implicitly_wait(10)\n",
        "automate.bot.find_element_by_xpath('/html/body/app-root/ft-home/div/main/div/wac-escolha-seguimento/ft-escolha-segmento/div[2]/div/div[1]/wac-card-fav/div/a/wac-text/p').click()"
      ],
      "metadata": {
        "colab": {
          "base_uri": "https://localhost:8080/"
        },
        "id": "eEmfaSC9HzjP",
        "outputId": "2f8f86dd-ac6c-40d6-a906-d90de0770837"
      },
      "execution_count": 41,
      "outputs": [
        {
          "output_type": "stream",
          "name": "stderr",
          "text": [
            "/usr/local/lib/python3.7/dist-packages/ipykernel_launcher.py:2: DeprecationWarning: find_element_by_* commands are deprecated. Please use find_element() instead\n",
            "  \n"
          ]
        }
      ]
    },
    {
      "cell_type": "code",
      "source": [
        "pagina_atual = automate.bot.window_handles[0]\n",
        "automate.bot.switch_to.window(pagina_atual)\n",
        "\n",
        "automate.bot.implicitly_wait(10)"
      ],
      "metadata": {
        "id": "YVb3CyhSGZGs"
      },
      "execution_count": 42,
      "outputs": []
    },
    {
      "cell_type": "code",
      "source": [
        "automate.bot.find_element_by_xpath('/html/body/app-root/ft-home/div/main/div/ft-multiple-generic/div/div/section[2]/div/div[2]/wac-select/ng-select').click()"
      ],
      "metadata": {
        "colab": {
          "base_uri": "https://localhost:8080/"
        },
        "id": "LKGuSH3XUpuj",
        "outputId": "d6678467-78b2-42aa-a1c8-a65ae0068fa2"
      },
      "execution_count": 43,
      "outputs": [
        {
          "output_type": "stream",
          "name": "stderr",
          "text": [
            "/usr/local/lib/python3.7/dist-packages/ipykernel_launcher.py:1: DeprecationWarning: find_element_by_* commands are deprecated. Please use find_element() instead\n",
            "  \"\"\"Entry point for launching an IPython kernel.\n"
          ]
        }
      ]
    },
    {
      "cell_type": "code",
      "source": [
        "automate.bot.find_element_by_xpath('/html/body/app-root/ft-home/div/main/div/ft-multiple-generic/div/div/section[2]/div/div[2]/wac-select/ng-select/ng-dropdown-panel/div/div[2]/div[1]/span').click()"
      ],
      "metadata": {
        "id": "RMKGDBk1mzVE",
        "outputId": "60a9cb53-9432-41b0-8124-4dda165bad4e",
        "colab": {
          "base_uri": "https://localhost:8080/"
        }
      },
      "execution_count": 44,
      "outputs": [
        {
          "output_type": "stream",
          "name": "stderr",
          "text": [
            "/usr/local/lib/python3.7/dist-packages/ipykernel_launcher.py:1: DeprecationWarning: find_element_by_* commands are deprecated. Please use find_element() instead\n",
            "  \"\"\"Entry point for launching an IPython kernel.\n"
          ]
        }
      ]
    },
    {
      "cell_type": "code",
      "source": [
        "pagina_atual = automate.bot.window_handles[0]\n",
        "automate.bot.switch_to.window(pagina_atual)\n",
        "\n",
        "automate.bot.implicitly_wait(10)"
      ],
      "metadata": {
        "id": "VH-RRo4umzcD"
      },
      "execution_count": 45,
      "outputs": []
    },
    {
      "cell_type": "markdown",
      "source": [
        "### extract table"
      ],
      "metadata": {
        "id": "RbxOf-bAvpyN"
      }
    },
    {
      "cell_type": "code",
      "source": [
        "wait = WebDriverWait(automate.bot, 10)\n",
        "elm = wait.until(EC.presence_of_element_located((By.XPATH, \"/html/body/app-root/ft-home/div/main/div/ft-multiple-generic/div/div/div[2]\")))"
      ],
      "metadata": {
        "id": "HElAH4MePno5"
      },
      "execution_count": 109,
      "outputs": []
    },
    {
      "cell_type": "code",
      "source": [
        "table = elm.text"
      ],
      "metadata": {
        "id": "heiUnmMKVZg-"
      },
      "execution_count": 110,
      "outputs": []
    },
    {
      "cell_type": "code",
      "source": [
        "table= table.split('|')\n",
        "table = [i.replace('\\n', ' ') for i in table]"
      ],
      "metadata": {
        "id": "0DL9aBgBPVxV"
      },
      "execution_count": 111,
      "outputs": []
    },
    {
      "cell_type": "code",
      "source": [
        "table"
      ],
      "metadata": {
        "id": "mX8NXtAlaX8V",
        "outputId": "af68ecbf-e640-4b06-98c1-f0b793a9bc19",
        "colab": {
          "base_uri": "https://localhost:8080/"
        }
      },
      "execution_count": 112,
      "outputs": [
        {
          "output_type": "execute_result",
          "data": {
            "text/plain": [
              "['TURNO CARGO AÇÕES EQUIPE_ATIVA MOTORISTA Item Beneficio: CAFÉ DA MANHÃ ',\n",
              " ' Cargo: MOTORISTA EQUIPE_ATIVA MOTORISTA Item Beneficio: VALE TRANSPORTE ',\n",
              " ' Cargo: MOTORISTA EQUIPE_ATIVA MOTORISTA Item Beneficio: TICKET REFEIÇÃO ',\n",
              " ' Cargo: MOTORISTA EQUIPE_ATIVA MOTORISTA Item Beneficio: ASSISTÊNCIA MÉDICA ',\n",
              " ' Cargo: MOTORISTA EQUIPE_ATIVA MOTORISTA Item Beneficio: SEGURO DE VIDA ',\n",
              " ' Cargo: MOTORISTA EQUIPE_ATIVA MOTORISTA Item Beneficio: PCMSO (POR MÊS) ',\n",
              " ' Cargo: MOTORISTA EQUIPE_ATIVA MOTORISTA Item Beneficio: CESTA BÁSICA ',\n",
              " ' Cargo: MOTORISTA EQUIPE_ATIVA MOTORISTA Item Beneficio: PPP ',\n",
              " ' Cargo: MOTORISTA EQUIPE_ATIVA AJUDANTE Item Beneficio: CAFÉ DA MANHÃ ',\n",
              " ' Cargo: AJUDANTE EQUIPE_ATIVA AJUDANTE Item Beneficio: VALE TRANSPORTE ',\n",
              " ' Cargo: AJUDANTE EQUIPE_ATIVA AJUDANTE Item Beneficio: TICKET REFEIÇÃO ',\n",
              " ' Cargo: AJUDANTE EQUIPE_ATIVA AJUDANTE Item Beneficio: ASSISTÊNCIA MÉDICA ',\n",
              " ' Cargo: AJUDANTE EQUIPE_ATIVA AJUDANTE Item Beneficio: SEGURO DE VIDA ',\n",
              " ' Cargo: AJUDANTE EQUIPE_ATIVA AJUDANTE Item Beneficio: PCMSO (POR MÊS) ',\n",
              " ' Cargo: AJUDANTE EQUIPE_ATIVA AJUDANTE Item Beneficio: CESTA BÁSICA ',\n",
              " ' Cargo: AJUDANTE EQUIPE_ATIVA AJUDANTE Item Beneficio: PPP ',\n",
              " ' Cargo: AJUDANTE Colunas Estado Tabela 1 para 28 de 54 Página 1 de 2']"
            ]
          },
          "metadata": {},
          "execution_count": 112
        }
      ]
    },
    {
      "cell_type": "code",
      "source": [
        ""
      ],
      "metadata": {
        "id": "F7cjYBY7bE4F"
      },
      "execution_count": null,
      "outputs": []
    }
  ]
}