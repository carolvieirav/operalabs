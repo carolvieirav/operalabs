{
  "nbformat": 4,
  "nbformat_minor": 0,
  "metadata": {
    "colab": {
      "name": "freightech-scraping-bot.ipynb",
      "provenance": [],
      "authorship_tag": "ABX9TyP0YRwxbVXliXGczEkUqdH+",
      "include_colab_link": true
    },
    "kernelspec": {
      "name": "python3",
      "display_name": "Python 3"
    },
    "language_info": {
      "name": "python"
    }
  },
  "cells": [
    {
      "cell_type": "markdown",
      "metadata": {
        "id": "view-in-github",
        "colab_type": "text"
      },
      "source": [
        "<a href=\"https://colab.research.google.com/github/carolvieirav/operalabs/blob/main/freightech_scraping_bot.ipynb\" target=\"_parent\"><img src=\"https://colab.research.google.com/assets/colab-badge.svg\" alt=\"Open In Colab\"/></a>"
      ]
    },
    {
      "cell_type": "markdown",
      "source": [
        "## Install & Import"
      ],
      "metadata": {
        "id": "q1ffLzvDQj1-"
      }
    },
    {
      "cell_type": "code",
      "execution_count": 1,
      "metadata": {
        "id": "xW1XVPP_QG9e",
        "colab": {
          "base_uri": "https://localhost:8080/"
        },
        "outputId": "699e4d34-4119-4145-f441-75c26154bd34"
      },
      "outputs": [
        {
          "output_type": "stream",
          "name": "stdout",
          "text": [
            "Requirement already satisfied: selenium in /usr/local/lib/python3.7/dist-packages (4.1.0)\n",
            "Requirement already satisfied: urllib3[secure]~=1.26 in /usr/local/lib/python3.7/dist-packages (from selenium) (1.26.7)\n",
            "Requirement already satisfied: trio-websocket~=0.9 in /usr/local/lib/python3.7/dist-packages (from selenium) (0.9.2)\n",
            "Requirement already satisfied: trio~=0.17 in /usr/local/lib/python3.7/dist-packages (from selenium) (0.19.0)\n",
            "Requirement already satisfied: sniffio in /usr/local/lib/python3.7/dist-packages (from trio~=0.17->selenium) (1.2.0)\n",
            "Requirement already satisfied: idna in /usr/local/lib/python3.7/dist-packages (from trio~=0.17->selenium) (2.10)\n",
            "Requirement already satisfied: sortedcontainers in /usr/local/lib/python3.7/dist-packages (from trio~=0.17->selenium) (2.4.0)\n",
            "Requirement already satisfied: outcome in /usr/local/lib/python3.7/dist-packages (from trio~=0.17->selenium) (1.1.0)\n",
            "Requirement already satisfied: attrs>=19.2.0 in /usr/local/lib/python3.7/dist-packages (from trio~=0.17->selenium) (21.2.0)\n",
            "Requirement already satisfied: async-generator>=1.9 in /usr/local/lib/python3.7/dist-packages (from trio~=0.17->selenium) (1.10)\n",
            "Requirement already satisfied: wsproto>=0.14 in /usr/local/lib/python3.7/dist-packages (from trio-websocket~=0.9->selenium) (1.0.0)\n",
            "Requirement already satisfied: cryptography>=1.3.4 in /usr/local/lib/python3.7/dist-packages (from urllib3[secure]~=1.26->selenium) (36.0.1)\n",
            "Requirement already satisfied: pyOpenSSL>=0.14 in /usr/local/lib/python3.7/dist-packages (from urllib3[secure]~=1.26->selenium) (21.0.0)\n",
            "Requirement already satisfied: certifi in /usr/local/lib/python3.7/dist-packages (from urllib3[secure]~=1.26->selenium) (2021.10.8)\n",
            "Requirement already satisfied: cffi>=1.12 in /usr/local/lib/python3.7/dist-packages (from cryptography>=1.3.4->urllib3[secure]~=1.26->selenium) (1.15.0)\n",
            "Requirement already satisfied: pycparser in /usr/local/lib/python3.7/dist-packages (from cffi>=1.12->cryptography>=1.3.4->urllib3[secure]~=1.26->selenium) (2.21)\n",
            "Requirement already satisfied: six>=1.5.2 in /usr/local/lib/python3.7/dist-packages (from pyOpenSSL>=0.14->urllib3[secure]~=1.26->selenium) (1.15.0)\n",
            "Requirement already satisfied: h11<1,>=0.9.0 in /usr/local/lib/python3.7/dist-packages (from wsproto>=0.14->trio-websocket~=0.9->selenium) (0.12.0)\n",
            "Reading package lists... Done\n",
            "Building dependency tree       \n",
            "Reading state information... Done\n",
            "chromium-chromedriver is already the newest version (95.0.4638.69-0ubuntu0.18.04.1).\n",
            "0 upgraded, 0 newly installed, 0 to remove and 76 not upgraded.\n"
          ]
        },
        {
          "output_type": "stream",
          "name": "stderr",
          "text": [
            "/usr/local/lib/python3.7/dist-packages/requests/__init__.py:91: RequestsDependencyWarning: urllib3 (1.26.7) or chardet (3.0.4) doesn't match a supported version!\n",
            "  RequestsDependencyWarning)\n"
          ]
        }
      ],
      "source": [
        "!pip install selenium\n",
        "!apt install chromium-chromedriver\n",
        "\n",
        "import requests\n",
        "import numpy as np\n",
        "import pandas as pd\n",
        "from bs4 import BeautifulSoup\n",
        "import re\n",
        "from functools import reduce\n",
        "\n",
        "from selenium import webdriver\n",
        "from selenium.webdriver.common.keys import Keys\n",
        "from selenium.webdriver.support import expected_conditions as EC\n",
        "from selenium.webdriver.support.ui import WebDriverWait\n",
        "from selenium.webdriver.common.by import By\n",
        "from selenium.webdriver import ActionChains\n",
        "from selenium.webdriver.common.action_chains import ActionChains\n",
        "from selenium.webdriver.support.ui import Select\n",
        "from selenium import webdriver\n",
        "from selenium.webdriver.common.keys import Keys\n",
        "from selenium.webdriver.support import expected_conditions as EC\n",
        "from selenium.webdriver.support.ui import WebDriverWait\n",
        "from selenium.webdriver.common.by import By\n",
        "from selenium.webdriver import ActionChains\n",
        "from selenium.webdriver.common.action_chains import ActionChains\n",
        "from selenium.webdriver.support.ui import Select\n",
        "  \n",
        "  \n",
        "options = webdriver.ChromeOptions()\n",
        "options.add_argument('--headless')\n",
        "options.add_argument('--no-sandbox')\n",
        "options.add_argument('--disable-dev-shm-usage')\n",
        "  \n"
      ]
    },
    {
      "cell_type": "markdown",
      "source": [
        "##  Class Bot"
      ],
      "metadata": {
        "id": "oojFPfFmQnDt"
      }
    },
    {
      "cell_type": "code",
      "source": [
        "class Bot:\n",
        "  \n",
        "  def __init__(self,username,password):\n",
        "    self.username = username\n",
        "    self.password = password\n",
        "    self.bot = webdriver.Chrome('chromedriver',options=options)\n",
        "\n",
        "  def login(self):\n",
        "    \n",
        "    bot = self.bot\n",
        "    bot.get(\"https://freightech.ambev.com.br/#/login\")\n",
        "    bot.implicitly_wait(10) # seconds\n",
        "    email = bot.find_element_by_xpath(\"/html/body/app-root/ft-core-login/div/div/div/wac-input[1]/div/div/input\")\n",
        "    password = bot.find_element_by_xpath(\"/html/body/app-root/ft-core-login/div/div/div/wac-input[2]/div/div/input\")\n",
        "    email.clear()\n",
        "    password.clear()\n",
        "    email.send_keys(self.username)\n",
        "    password.send_keys(self.password)\n",
        "    bot.find_element_by_xpath(\"/html/body/app-root/ft-core-login/div/div/div/wac-button[1]/button\").click()\n",
        "    print(\"Logged in Successfuly\")\n",
        "\n",
        "  def click_elem(self,path):\n",
        "    bot = self.bot\n",
        "    element = bot.find_element_by_xpath(path)\n",
        "    bot.implicitly_wait(10) # seconds\n",
        "    element.click()\n",
        "\n",
        "  def bs(self,search):\n",
        "    bot = self.bot\n",
        "    bot.implicitly_wait(10) # seconds\n",
        "    html = bot.page_source\n",
        "    soup = BeautifulSoup(html, 'xml')\n",
        "    return soup.find_all(search)\n",
        "\n",
        "  def get_text_list(self, path):\n",
        "    bot= self.bot\n",
        "    xpath = bot.find_elements_by_xpath(path)\n",
        "    data = []\n",
        "    for i in xpath:\n",
        "      data.append(i.text)\n",
        "    return data\n"
      ],
      "metadata": {
        "id": "4Hf1ESmRQtVU"
      },
      "execution_count": 2,
      "outputs": []
    },
    {
      "cell_type": "code",
      "source": [
        "automate = Bot(\"anne.pereira@operalog.com.br\", \"55026170\") \n",
        "automate.login()"
      ],
      "metadata": {
        "id": "r4BjI-YsQuOL",
        "colab": {
          "base_uri": "https://localhost:8080/"
        },
        "outputId": "bd3f8e01-7866-4207-f697-8befd1db3295"
      },
      "execution_count": 3,
      "outputs": [
        {
          "output_type": "stream",
          "name": "stderr",
          "text": [
            "/usr/local/lib/python3.7/dist-packages/ipykernel_launcher.py:13: DeprecationWarning: find_element_by_* commands are deprecated. Please use find_element() instead\n",
            "  del sys.path[0]\n",
            "/usr/local/lib/python3.7/dist-packages/ipykernel_launcher.py:14: DeprecationWarning: find_element_by_* commands are deprecated. Please use find_element() instead\n",
            "  \n"
          ]
        },
        {
          "output_type": "stream",
          "name": "stdout",
          "text": [
            "Logged in Successfuly\n"
          ]
        },
        {
          "output_type": "stream",
          "name": "stderr",
          "text": [
            "/usr/local/lib/python3.7/dist-packages/ipykernel_launcher.py:19: DeprecationWarning: find_element_by_* commands are deprecated. Please use find_element() instead\n"
          ]
        }
      ]
    },
    {
      "cell_type": "code",
      "source": [
        ""
      ],
      "metadata": {
        "id": "O_9t39_BQwmA"
      },
      "execution_count": 3,
      "outputs": []
    },
    {
      "cell_type": "markdown",
      "source": [
        "## Rota seleção"
      ],
      "metadata": {
        "id": "3l-ATpuSQ5Ba"
      }
    },
    {
      "cell_type": "code",
      "source": [
        "automate.bot.implicitly_wait(10) # seconds\n",
        "automate.bot.get(\"https://freightech.ambev.com.br/#/escolha-segmento\")"
      ],
      "metadata": {
        "id": "YnsKYdQtuHzU"
      },
      "execution_count": 4,
      "outputs": []
    },
    {
      "cell_type": "code",
      "source": [
        "automate.bot.implicitly_wait(10) # seconds\n",
        "rota = automate.bot.find_element_by_xpath('//*[@id=\"segmentoSelect\"]/div/ft-segmentos/div/wac-select/ng-select/div/div/div[2]/input')\n",
        "automate.bot.implicitly_wait(10) # seconds\n",
        "rota.clear\n",
        "automate.bot.implicitly_wait(10) # seconds\n",
        "rota.send_keys('ROTA')\n",
        "rota.send_keys(Keys.RETURN)"
      ],
      "metadata": {
        "id": "oxY-qjFYHbOi",
        "outputId": "d1c34713-1162-4d38-d102-2bcb2794eca2",
        "colab": {
          "base_uri": "https://localhost:8080/",
          "height": 814
        }
      },
      "execution_count": 9,
      "outputs": [
        {
          "output_type": "stream",
          "name": "stderr",
          "text": [
            "/usr/local/lib/python3.7/dist-packages/ipykernel_launcher.py:2: DeprecationWarning: find_element_by_* commands are deprecated. Please use find_element() instead\n",
            "  \n"
          ]
        },
        {
          "output_type": "error",
          "ename": "NoSuchElementException",
          "evalue": "ignored",
          "traceback": [
            "\u001b[0;31m---------------------------------------------------------------------------\u001b[0m",
            "\u001b[0;31mNoSuchElementException\u001b[0m                    Traceback (most recent call last)",
            "\u001b[0;32m<ipython-input-9-9626d9dedc61>\u001b[0m in \u001b[0;36m<module>\u001b[0;34m()\u001b[0m\n\u001b[1;32m      1\u001b[0m \u001b[0mautomate\u001b[0m\u001b[0;34m.\u001b[0m\u001b[0mbot\u001b[0m\u001b[0;34m.\u001b[0m\u001b[0mimplicitly_wait\u001b[0m\u001b[0;34m(\u001b[0m\u001b[0;36m10\u001b[0m\u001b[0;34m)\u001b[0m \u001b[0;31m# seconds\u001b[0m\u001b[0;34m\u001b[0m\u001b[0;34m\u001b[0m\u001b[0m\n\u001b[0;32m----> 2\u001b[0;31m \u001b[0mrota\u001b[0m \u001b[0;34m=\u001b[0m \u001b[0mautomate\u001b[0m\u001b[0;34m.\u001b[0m\u001b[0mbot\u001b[0m\u001b[0;34m.\u001b[0m\u001b[0mfind_element_by_xpath\u001b[0m\u001b[0;34m(\u001b[0m\u001b[0;34m'//*[@id=\"segmentoSelect\"]/div/ft-segmentos/div/wac-select/ng-select/div/div/div[2]/input'\u001b[0m\u001b[0;34m)\u001b[0m\u001b[0;34m\u001b[0m\u001b[0;34m\u001b[0m\u001b[0m\n\u001b[0m\u001b[1;32m      3\u001b[0m \u001b[0mautomate\u001b[0m\u001b[0;34m.\u001b[0m\u001b[0mbot\u001b[0m\u001b[0;34m.\u001b[0m\u001b[0mimplicitly_wait\u001b[0m\u001b[0;34m(\u001b[0m\u001b[0;36m10\u001b[0m\u001b[0;34m)\u001b[0m \u001b[0;31m# seconds\u001b[0m\u001b[0;34m\u001b[0m\u001b[0;34m\u001b[0m\u001b[0m\n\u001b[1;32m      4\u001b[0m \u001b[0mrota\u001b[0m\u001b[0;34m.\u001b[0m\u001b[0mclear\u001b[0m\u001b[0;34m\u001b[0m\u001b[0;34m\u001b[0m\u001b[0m\n\u001b[1;32m      5\u001b[0m \u001b[0mautomate\u001b[0m\u001b[0;34m.\u001b[0m\u001b[0mbot\u001b[0m\u001b[0;34m.\u001b[0m\u001b[0mimplicitly_wait\u001b[0m\u001b[0;34m(\u001b[0m\u001b[0;36m10\u001b[0m\u001b[0;34m)\u001b[0m \u001b[0;31m# seconds\u001b[0m\u001b[0;34m\u001b[0m\u001b[0;34m\u001b[0m\u001b[0m\n",
            "\u001b[0;32m/usr/local/lib/python3.7/dist-packages/selenium/webdriver/remote/webdriver.py\u001b[0m in \u001b[0;36mfind_element_by_xpath\u001b[0;34m(self, xpath)\u001b[0m\n\u001b[1;32m    518\u001b[0m             \u001b[0mstacklevel\u001b[0m\u001b[0;34m=\u001b[0m\u001b[0;36m2\u001b[0m\u001b[0;34m,\u001b[0m\u001b[0;34m\u001b[0m\u001b[0;34m\u001b[0m\u001b[0m\n\u001b[1;32m    519\u001b[0m         )\n\u001b[0;32m--> 520\u001b[0;31m         \u001b[0;32mreturn\u001b[0m \u001b[0mself\u001b[0m\u001b[0;34m.\u001b[0m\u001b[0mfind_element\u001b[0m\u001b[0;34m(\u001b[0m\u001b[0mby\u001b[0m\u001b[0;34m=\u001b[0m\u001b[0mBy\u001b[0m\u001b[0;34m.\u001b[0m\u001b[0mXPATH\u001b[0m\u001b[0;34m,\u001b[0m \u001b[0mvalue\u001b[0m\u001b[0;34m=\u001b[0m\u001b[0mxpath\u001b[0m\u001b[0;34m)\u001b[0m\u001b[0;34m\u001b[0m\u001b[0;34m\u001b[0m\u001b[0m\n\u001b[0m\u001b[1;32m    521\u001b[0m \u001b[0;34m\u001b[0m\u001b[0m\n\u001b[1;32m    522\u001b[0m     \u001b[0;32mdef\u001b[0m \u001b[0mfind_elements_by_xpath\u001b[0m\u001b[0;34m(\u001b[0m\u001b[0mself\u001b[0m\u001b[0;34m,\u001b[0m \u001b[0mxpath\u001b[0m\u001b[0;34m)\u001b[0m \u001b[0;34m->\u001b[0m \u001b[0mWebElement\u001b[0m\u001b[0;34m:\u001b[0m\u001b[0;34m\u001b[0m\u001b[0;34m\u001b[0m\u001b[0m\n",
            "\u001b[0;32m/usr/local/lib/python3.7/dist-packages/selenium/webdriver/remote/webdriver.py\u001b[0m in \u001b[0;36mfind_element\u001b[0;34m(self, by, value)\u001b[0m\n\u001b[1;32m   1244\u001b[0m         return self.execute(Command.FIND_ELEMENT, {\n\u001b[1;32m   1245\u001b[0m             \u001b[0;34m'using'\u001b[0m\u001b[0;34m:\u001b[0m \u001b[0mby\u001b[0m\u001b[0;34m,\u001b[0m\u001b[0;34m\u001b[0m\u001b[0;34m\u001b[0m\u001b[0m\n\u001b[0;32m-> 1246\u001b[0;31m             'value': value})['value']\n\u001b[0m\u001b[1;32m   1247\u001b[0m \u001b[0;34m\u001b[0m\u001b[0m\n\u001b[1;32m   1248\u001b[0m     \u001b[0;32mdef\u001b[0m \u001b[0mfind_elements\u001b[0m\u001b[0;34m(\u001b[0m\u001b[0mself\u001b[0m\u001b[0;34m,\u001b[0m \u001b[0mby\u001b[0m\u001b[0;34m=\u001b[0m\u001b[0mBy\u001b[0m\u001b[0;34m.\u001b[0m\u001b[0mID\u001b[0m\u001b[0;34m,\u001b[0m \u001b[0mvalue\u001b[0m\u001b[0;34m=\u001b[0m\u001b[0;32mNone\u001b[0m\u001b[0;34m)\u001b[0m \u001b[0;34m->\u001b[0m \u001b[0mList\u001b[0m\u001b[0;34m[\u001b[0m\u001b[0mWebElement\u001b[0m\u001b[0;34m]\u001b[0m\u001b[0;34m:\u001b[0m\u001b[0;34m\u001b[0m\u001b[0;34m\u001b[0m\u001b[0m\n",
            "\u001b[0;32m/usr/local/lib/python3.7/dist-packages/selenium/webdriver/remote/webdriver.py\u001b[0m in \u001b[0;36mexecute\u001b[0;34m(self, driver_command, params)\u001b[0m\n\u001b[1;32m    422\u001b[0m         \u001b[0mresponse\u001b[0m \u001b[0;34m=\u001b[0m \u001b[0mself\u001b[0m\u001b[0;34m.\u001b[0m\u001b[0mcommand_executor\u001b[0m\u001b[0;34m.\u001b[0m\u001b[0mexecute\u001b[0m\u001b[0;34m(\u001b[0m\u001b[0mdriver_command\u001b[0m\u001b[0;34m,\u001b[0m \u001b[0mparams\u001b[0m\u001b[0;34m)\u001b[0m\u001b[0;34m\u001b[0m\u001b[0;34m\u001b[0m\u001b[0m\n\u001b[1;32m    423\u001b[0m         \u001b[0;32mif\u001b[0m \u001b[0mresponse\u001b[0m\u001b[0;34m:\u001b[0m\u001b[0;34m\u001b[0m\u001b[0;34m\u001b[0m\u001b[0m\n\u001b[0;32m--> 424\u001b[0;31m             \u001b[0mself\u001b[0m\u001b[0;34m.\u001b[0m\u001b[0merror_handler\u001b[0m\u001b[0;34m.\u001b[0m\u001b[0mcheck_response\u001b[0m\u001b[0;34m(\u001b[0m\u001b[0mresponse\u001b[0m\u001b[0;34m)\u001b[0m\u001b[0;34m\u001b[0m\u001b[0;34m\u001b[0m\u001b[0m\n\u001b[0m\u001b[1;32m    425\u001b[0m             response['value'] = self._unwrap_value(\n\u001b[1;32m    426\u001b[0m                 response.get('value', None))\n",
            "\u001b[0;32m/usr/local/lib/python3.7/dist-packages/selenium/webdriver/remote/errorhandler.py\u001b[0m in \u001b[0;36mcheck_response\u001b[0;34m(self, response)\u001b[0m\n\u001b[1;32m    245\u001b[0m                 \u001b[0malert_text\u001b[0m \u001b[0;34m=\u001b[0m \u001b[0mvalue\u001b[0m\u001b[0;34m[\u001b[0m\u001b[0;34m'alert'\u001b[0m\u001b[0;34m]\u001b[0m\u001b[0;34m.\u001b[0m\u001b[0mget\u001b[0m\u001b[0;34m(\u001b[0m\u001b[0;34m'text'\u001b[0m\u001b[0;34m)\u001b[0m\u001b[0;34m\u001b[0m\u001b[0;34m\u001b[0m\u001b[0m\n\u001b[1;32m    246\u001b[0m             \u001b[0;32mraise\u001b[0m \u001b[0mexception_class\u001b[0m\u001b[0;34m(\u001b[0m\u001b[0mmessage\u001b[0m\u001b[0;34m,\u001b[0m \u001b[0mscreen\u001b[0m\u001b[0;34m,\u001b[0m \u001b[0mstacktrace\u001b[0m\u001b[0;34m,\u001b[0m \u001b[0malert_text\u001b[0m\u001b[0;34m)\u001b[0m  \u001b[0;31m# type: ignore[call-arg]  # mypy is not smart enough here\u001b[0m\u001b[0;34m\u001b[0m\u001b[0;34m\u001b[0m\u001b[0m\n\u001b[0;32m--> 247\u001b[0;31m         \u001b[0;32mraise\u001b[0m \u001b[0mexception_class\u001b[0m\u001b[0;34m(\u001b[0m\u001b[0mmessage\u001b[0m\u001b[0;34m,\u001b[0m \u001b[0mscreen\u001b[0m\u001b[0;34m,\u001b[0m \u001b[0mstacktrace\u001b[0m\u001b[0;34m)\u001b[0m\u001b[0;34m\u001b[0m\u001b[0;34m\u001b[0m\u001b[0m\n\u001b[0m\u001b[1;32m    248\u001b[0m \u001b[0;34m\u001b[0m\u001b[0m\n\u001b[1;32m    249\u001b[0m     \u001b[0;32mdef\u001b[0m \u001b[0m_value_or_default\u001b[0m\u001b[0;34m(\u001b[0m\u001b[0mself\u001b[0m\u001b[0;34m,\u001b[0m \u001b[0mobj\u001b[0m\u001b[0;34m:\u001b[0m \u001b[0mMapping\u001b[0m\u001b[0;34m[\u001b[0m\u001b[0m_KT\u001b[0m\u001b[0;34m,\u001b[0m \u001b[0m_VT\u001b[0m\u001b[0;34m]\u001b[0m\u001b[0;34m,\u001b[0m \u001b[0mkey\u001b[0m\u001b[0;34m:\u001b[0m \u001b[0m_KT\u001b[0m\u001b[0;34m,\u001b[0m \u001b[0mdefault\u001b[0m\u001b[0;34m:\u001b[0m \u001b[0m_VT\u001b[0m\u001b[0;34m)\u001b[0m \u001b[0;34m->\u001b[0m \u001b[0m_VT\u001b[0m\u001b[0;34m:\u001b[0m\u001b[0;34m\u001b[0m\u001b[0;34m\u001b[0m\u001b[0m\n",
            "\u001b[0;31mNoSuchElementException\u001b[0m: Message: no such element: Unable to locate element: {\"method\":\"xpath\",\"selector\":\"//*[@id=\"segmentoSelect\"]/div/ft-segmentos/div/wac-select/ng-select/div/div/div[2]/input\"}\n  (Session info: headless chrome=95.0.4638.69)\nStacktrace:\n#0 0x5602c5065623 <unknown>\n#1 0x5602c4d6cd43 <unknown>\n#2 0x5602c4da25f0 <unknown>\n#3 0x5602c4dd6337 <unknown>\n#4 0x5602c4dbf5fd <unknown>\n#5 0x5602c4dd40ac <unknown>\n#6 0x5602c4dbf9e3 <unknown>\n#7 0x5602c4d96c0c <unknown>\n#8 0x5602c4d980d5 <unknown>\n#9 0x5602c5089954 <unknown>\n#10 0x5602c5098f6d <unknown>\n#11 0x5602c5098c8b <unknown>\n#12 0x5602c50995b2 <unknown>\n#13 0x5602c50d1e8b <unknown>\n#14 0x5602c5099811 <unknown>\n#15 0x5602c507e831 <unknown>\n#16 0x5602c50a2218 <unknown>\n#17 0x5602c50a23aa <unknown>\n#18 0x5602c50bc3bf <unknown>\n#19 0x7f8368a186db <unknown>\n"
          ]
        }
      ]
    },
    {
      "cell_type": "code",
      "source": [
        "automate.bot.implicitly_wait(10) # seconds\n",
        "vigencia = automate.bot.find_element_by_xpath('//*[@id=\"vigenciaSelect\"]/div/wac-select/ng-select/div/div/div[2]/input')\n",
        "automate.bot.implicitly_wait(10) # seconds\n",
        "vigencia.clear\n",
        "vigencia.send_keys('ROTA_1_12_2021')\n",
        "vigencia.send_keys(Keys.RETURN)"
      ],
      "metadata": {
        "id": "da1HeNzHHo4M"
      },
      "execution_count": null,
      "outputs": []
    },
    {
      "cell_type": "code",
      "source": [
        "automate.bot.implicitly_wait(10) # seconds\n",
        "unidade = automate.bot.find_element_by_xpath('//*[@id=\"unidadeSelect\"]/div/wac-select/ng-select/div/div/div[2]/input')\n",
        "automate.bot.implicitly_wait(10) # seconds\n",
        "unidade.clear\n",
        "unidade.send_keys('CDD BARREIRAS-OPERALOG')\n",
        "unidade.send_keys(Keys.RETURN)"
      ],
      "metadata": {
        "id": "TBzsG1HKnm17"
      },
      "execution_count": null,
      "outputs": []
    },
    {
      "cell_type": "code",
      "source": [
        "automate.bot.implicitly_wait(10) # seconds\n",
        "\n",
        "automate.bot.find_element_by_xpath(\"/html/body/app-root/ft-home/div/main/div/wac-escolha-seguimento/ft-escolha-segmento/div/div[4]/wac-button/button\").click()"
      ],
      "metadata": {
        "id": "dNav3xb2omyD"
      },
      "execution_count": null,
      "outputs": []
    },
    {
      "cell_type": "code",
      "source": [
        "pagina_atual = automate.bot.window_handles[0]\n",
        "automate.bot.switch_to.window(pagina_atual)\n",
        "\n",
        "automate.bot.implicitly_wait(10)"
      ],
      "metadata": {
        "id": "I63MC1SUGY2d"
      },
      "execution_count": null,
      "outputs": []
    },
    {
      "cell_type": "markdown",
      "source": [
        "## Benefício Equipe Entrega"
      ],
      "metadata": {
        "id": "l0kcouvCnIMK"
      }
    },
    {
      "cell_type": "code",
      "source": [
        "automate.bot.find_element_by_xpath('/html/body/app-root/ft-home/div/main/div/wac-escolha-seguimento/ft-escolha-segmento/div[2]/div/div[1]/wac-card-fav/div/a/wac-text/p').click()"
      ],
      "metadata": {
        "id": "eEmfaSC9HzjP",
        "outputId": "3d3ef9a8-b657-4ad6-c439-18e88e090168",
        "colab": {
          "base_uri": "https://localhost:8080/"
        }
      },
      "execution_count": 112,
      "outputs": [
        {
          "output_type": "stream",
          "name": "stderr",
          "text": [
            "/usr/local/lib/python3.7/dist-packages/ipykernel_launcher.py:1: DeprecationWarning: find_element_by_* commands are deprecated. Please use find_element() instead\n",
            "  \"\"\"Entry point for launching an IPython kernel.\n"
          ]
        }
      ]
    },
    {
      "cell_type": "code",
      "source": [
        "pagina_atual = automate.bot.window_handles[0]\n",
        "automate.bot.switch_to.window(pagina_atual)\n",
        "\n",
        "automate.bot.implicitly_wait(10)"
      ],
      "metadata": {
        "id": "YVb3CyhSGZGs"
      },
      "execution_count": 113,
      "outputs": []
    },
    {
      "cell_type": "code",
      "source": [
        "automate.bot.find_element_by_xpath('/html/body/app-root/ft-home/div/main/div/ft-multiple-generic/div/div/div[2]').text"
      ],
      "metadata": {
        "id": "AvWJ0vn9BSO0",
        "outputId": "314de965-6fe6-4c83-9458-f23b28447283",
        "colab": {
          "base_uri": "https://localhost:8080/",
          "height": 174
        }
      },
      "execution_count": 115,
      "outputs": [
        {
          "output_type": "stream",
          "name": "stderr",
          "text": [
            "/usr/local/lib/python3.7/dist-packages/ipykernel_launcher.py:1: DeprecationWarning: find_element_by_* commands are deprecated. Please use find_element() instead\n",
            "  \"\"\"Entry point for launching an IPython kernel.\n"
          ]
        },
        {
          "output_type": "execute_result",
          "data": {
            "application/vnd.google.colaboratory.intrinsic+json": {
              "type": "string"
            },
            "text/plain": [
              "'TURNO\\nCARGO\\nAÇÕES\\nEQUIPE_ATIVA\\nMOTORISTA\\nItem Beneficio: CAFÉ DA MANHÃ | Cargo: MOTORISTA\\nEQUIPE_ATIVA\\nMOTORISTA\\nItem Beneficio: VALE TRANSPORTE | Cargo: MOTORISTA\\nEQUIPE_ATIVA\\nMOTORISTA\\nItem Beneficio: TICKET REFEIÇÃO | Cargo: MOTORISTA\\nEQUIPE_ATIVA\\nMOTORISTA\\nItem Beneficio: ASSISTÊNCIA MÉDICA | Cargo: MOTORISTA\\nEQUIPE_ATIVA\\nMOTORISTA\\nItem Beneficio: SEGURO DE VIDA | Cargo: MOTORISTA\\nEQUIPE_ATIVA\\nMOTORISTA\\nItem Beneficio: PCMSO (POR MÊS) | Cargo: MOTORISTA\\nEQUIPE_ATIVA\\nMOTORISTA\\nItem Beneficio: CESTA BÁSICA | Cargo: MOTORISTA\\nEQUIPE_ATIVA\\nMOTORISTA\\nItem Beneficio: PPP | Cargo: MOTORISTA\\nEQUIPE_ATIVA\\nAJUDANTE\\nItem Beneficio: CAFÉ DA MANHÃ | Cargo: AJUDANTE\\nEQUIPE_ATIVA\\nAJUDANTE\\nItem Beneficio: VALE TRANSPORTE | Cargo: AJUDANTE\\nEQUIPE_ATIVA\\nAJUDANTE\\nItem Beneficio: TICKET REFEIÇÃO | Cargo: AJUDANTE\\nEQUIPE_ATIVA\\nAJUDANTE\\nItem Beneficio: ASSISTÊNCIA MÉDICA | Cargo: AJUDANTE\\nEQUIPE_ATIVA\\nAJUDANTE\\nItem Beneficio: SEGURO DE VIDA | Cargo: AJUDANTE\\nEQUIPE_ATIVA\\nAJUDANTE\\nItem Beneficio: PCMSO (POR MÊS) | Cargo: AJUDANTE\\nEQUIPE_ATIVA\\nAJUDANTE\\nItem Beneficio: CESTA BÁSICA | Cargo: AJUDANTE\\nEQUIPE_ATIVA\\nAJUDANTE\\nItem Beneficio: PPP | Cargo: AJUDANTE\\nColunas\\nEstado Tabela\\n1 para 28 de 54\\nPágina 1 de 2'"
            ]
          },
          "metadata": {},
          "execution_count": 115
        }
      ]
    },
    {
      "cell_type": "code",
      "source": [
        ""
      ],
      "metadata": {
        "id": "JcUwmdrSuI_r"
      },
      "execution_count": null,
      "outputs": []
    }
  ]
}